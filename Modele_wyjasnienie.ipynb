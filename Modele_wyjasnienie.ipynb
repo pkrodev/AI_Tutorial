{
  "nbformat": 4,
  "nbformat_minor": 0,
  "metadata": {
    "colab": {
      "provenance": [],
      "authorship_tag": "ABX9TyPgeGwr2r1FvasoCZEroqf3",
      "include_colab_link": true
    },
    "kernelspec": {
      "name": "python3",
      "display_name": "Python 3"
    },
    "language_info": {
      "name": "python"
    }
  },
  "cells": [
    {
      "cell_type": "markdown",
      "metadata": {
        "id": "view-in-github",
        "colab_type": "text"
      },
      "source": [
        "<a href=\"https://colab.research.google.com/github/pkrodev/AI_Tutorial/blob/main/Modele_wyjasnienie.ipynb\" target=\"_parent\"><img src=\"https://colab.research.google.com/assets/colab-badge.svg\" alt=\"Open In Colab\"/></a>"
      ]
    },
    {
      "cell_type": "code",
      "execution_count": 1,
      "metadata": {
        "colab": {
          "base_uri": "https://localhost:8080/",
          "height": 35
        },
        "id": "TaARd_UUaEjx",
        "outputId": "cada3b96-3c60-4f0f-959d-533c00c7d36e"
      },
      "outputs": [
        {
          "output_type": "execute_result",
          "data": {
            "text/plain": [
              "'2.15.0'"
            ],
            "application/vnd.google.colaboratory.intrinsic+json": {
              "type": "string"
            }
          },
          "metadata": {},
          "execution_count": 1
        }
      ],
      "source": [
        "import tensorflow as tf\n",
        "import numpy as np\n",
        "import pandas as pd\n",
        "import plotly.express as px\n",
        "tf.__version__"
      ]
    },
    {
      "cell_type": "code",
      "source": [
        "from tensorflow.keras.models import Sequential\n",
        "\n",
        "model = Sequential()\n",
        "print(model)\n"
      ],
      "metadata": {
        "colab": {
          "base_uri": "https://localhost:8080/"
        },
        "id": "DZn_ITyDac5C",
        "outputId": "d7511c70-2762-42dd-f8c7-aa31749d7815"
      },
      "execution_count": 2,
      "outputs": [
        {
          "output_type": "stream",
          "name": "stdout",
          "text": [
            "<keras.src.engine.sequential.Sequential object at 0x7945d141d1e0>\n"
          ]
        }
      ]
    },
    {
      "cell_type": "code",
      "source": [
        "from tensorflow.keras.layers import Dense\n",
        "\n",
        "model.add(Dense(units=4, input_shape=(10,)))\n",
        "\n",
        "#units to ilośc neuronów\n",
        "#input_shape oznacza 10 cech charakterystycznych, 10 zmiennych lub 10 kolumn\n",
        "#Na wykresie byłoby to 10 wejść i 4 neurony (1 wartwa ukryta to te 4 neurony)"
      ],
      "metadata": {
        "id": "5CJOpGpvbGBy"
      },
      "execution_count": 3,
      "outputs": []
    },
    {
      "cell_type": "code",
      "source": [
        "model.summary()\n",
        "#44 bo units=4*input_shape=10+1"
      ],
      "metadata": {
        "colab": {
          "base_uri": "https://localhost:8080/"
        },
        "id": "hVXu5JIlcXR3",
        "outputId": "03d81257-2b9c-44ff-a7ef-23234edf9fa7"
      },
      "execution_count": 4,
      "outputs": [
        {
          "output_type": "stream",
          "name": "stdout",
          "text": [
            "Model: \"sequential\"\n",
            "_________________________________________________________________\n",
            " Layer (type)                Output Shape              Param #   \n",
            "=================================================================\n",
            " dense (Dense)               (None, 4)                 44        \n",
            "                                                                 \n",
            "=================================================================\n",
            "Total params: 44 (176.00 Byte)\n",
            "Trainable params: 44 (176.00 Byte)\n",
            "Non-trainable params: 0 (0.00 Byte)\n",
            "_________________________________________________________________\n"
          ]
        }
      ]
    },
    {
      "cell_type": "code",
      "source": [
        "model.add(Dense(units=2))\n",
        "\n",
        "model.summary()\n",
        "#2* 4+1 =10\n",
        "#teraz mamy 2 warstwy ukryte"
      ],
      "metadata": {
        "colab": {
          "base_uri": "https://localhost:8080/"
        },
        "id": "tJWOvlMHdBRQ",
        "outputId": "803b912a-d1cf-4b04-ff5f-16bf8bca67a1"
      },
      "execution_count": 5,
      "outputs": [
        {
          "output_type": "stream",
          "name": "stdout",
          "text": [
            "Model: \"sequential\"\n",
            "_________________________________________________________________\n",
            " Layer (type)                Output Shape              Param #   \n",
            "=================================================================\n",
            " dense (Dense)               (None, 4)                 44        \n",
            "                                                                 \n",
            " dense_1 (Dense)             (None, 2)                 10        \n",
            "                                                                 \n",
            "=================================================================\n",
            "Total params: 54 (216.00 Byte)\n",
            "Trainable params: 54 (216.00 Byte)\n",
            "Non-trainable params: 0 (0.00 Byte)\n",
            "_________________________________________________________________\n"
          ]
        }
      ]
    },
    {
      "cell_type": "code",
      "source": [
        "#W tym momencie trzeba wybrać jaki wynik chcemy uzyskać z naszego modelu\n",
        "#Jeśli ma to być wynik w postaci:\n",
        "#-modelu regresji powinniśmy użyć liniowej funkcji aktywacji (linear)\n",
        "#-modelu zwracającego wynik\n",
        "#prawdopodobieństwa każdej klasy w modelu należy użyć funkcji sigmoid"
      ],
      "metadata": {
        "id": "MPNK728CeAyu"
      },
      "execution_count": 6,
      "outputs": []
    },
    {
      "cell_type": "code",
      "source": [
        "from tensorflow.keras.activations import linear\n",
        "\n",
        "random_data = sorted(np.random.randn(200))\n",
        "data = pd.DataFrame({'data': random_data, 'linear': linear(random_data)})\n",
        "data.head()"
      ],
      "metadata": {
        "colab": {
          "base_uri": "https://localhost:8080/",
          "height": 206
        },
        "id": "0fpN8jbvfI6I",
        "outputId": "633298a0-ac21-4a25-e18e-6d0544761ea7"
      },
      "execution_count": 7,
      "outputs": [
        {
          "output_type": "execute_result",
          "data": {
            "text/plain": [
              "       data    linear\n",
              "0 -2.063438 -2.063438\n",
              "1 -2.010913 -2.010913\n",
              "2 -1.958814 -1.958814\n",
              "3 -1.939118 -1.939118\n",
              "4 -1.797739 -1.797739"
            ],
            "text/html": [
              "\n",
              "  <div id=\"df-b60b710d-bda1-4cc0-bbc4-1b13e069f18e\" class=\"colab-df-container\">\n",
              "    <div>\n",
              "<style scoped>\n",
              "    .dataframe tbody tr th:only-of-type {\n",
              "        vertical-align: middle;\n",
              "    }\n",
              "\n",
              "    .dataframe tbody tr th {\n",
              "        vertical-align: top;\n",
              "    }\n",
              "\n",
              "    .dataframe thead th {\n",
              "        text-align: right;\n",
              "    }\n",
              "</style>\n",
              "<table border=\"1\" class=\"dataframe\">\n",
              "  <thead>\n",
              "    <tr style=\"text-align: right;\">\n",
              "      <th></th>\n",
              "      <th>data</th>\n",
              "      <th>linear</th>\n",
              "    </tr>\n",
              "  </thead>\n",
              "  <tbody>\n",
              "    <tr>\n",
              "      <th>0</th>\n",
              "      <td>-2.063438</td>\n",
              "      <td>-2.063438</td>\n",
              "    </tr>\n",
              "    <tr>\n",
              "      <th>1</th>\n",
              "      <td>-2.010913</td>\n",
              "      <td>-2.010913</td>\n",
              "    </tr>\n",
              "    <tr>\n",
              "      <th>2</th>\n",
              "      <td>-1.958814</td>\n",
              "      <td>-1.958814</td>\n",
              "    </tr>\n",
              "    <tr>\n",
              "      <th>3</th>\n",
              "      <td>-1.939118</td>\n",
              "      <td>-1.939118</td>\n",
              "    </tr>\n",
              "    <tr>\n",
              "      <th>4</th>\n",
              "      <td>-1.797739</td>\n",
              "      <td>-1.797739</td>\n",
              "    </tr>\n",
              "  </tbody>\n",
              "</table>\n",
              "</div>\n",
              "    <div class=\"colab-df-buttons\">\n",
              "\n",
              "  <div class=\"colab-df-container\">\n",
              "    <button class=\"colab-df-convert\" onclick=\"convertToInteractive('df-b60b710d-bda1-4cc0-bbc4-1b13e069f18e')\"\n",
              "            title=\"Convert this dataframe to an interactive table.\"\n",
              "            style=\"display:none;\">\n",
              "\n",
              "  <svg xmlns=\"http://www.w3.org/2000/svg\" height=\"24px\" viewBox=\"0 -960 960 960\">\n",
              "    <path d=\"M120-120v-720h720v720H120Zm60-500h600v-160H180v160Zm220 220h160v-160H400v160Zm0 220h160v-160H400v160ZM180-400h160v-160H180v160Zm440 0h160v-160H620v160ZM180-180h160v-160H180v160Zm440 0h160v-160H620v160Z\"/>\n",
              "  </svg>\n",
              "    </button>\n",
              "\n",
              "  <style>\n",
              "    .colab-df-container {\n",
              "      display:flex;\n",
              "      gap: 12px;\n",
              "    }\n",
              "\n",
              "    .colab-df-convert {\n",
              "      background-color: #E8F0FE;\n",
              "      border: none;\n",
              "      border-radius: 50%;\n",
              "      cursor: pointer;\n",
              "      display: none;\n",
              "      fill: #1967D2;\n",
              "      height: 32px;\n",
              "      padding: 0 0 0 0;\n",
              "      width: 32px;\n",
              "    }\n",
              "\n",
              "    .colab-df-convert:hover {\n",
              "      background-color: #E2EBFA;\n",
              "      box-shadow: 0px 1px 2px rgba(60, 64, 67, 0.3), 0px 1px 3px 1px rgba(60, 64, 67, 0.15);\n",
              "      fill: #174EA6;\n",
              "    }\n",
              "\n",
              "    .colab-df-buttons div {\n",
              "      margin-bottom: 4px;\n",
              "    }\n",
              "\n",
              "    [theme=dark] .colab-df-convert {\n",
              "      background-color: #3B4455;\n",
              "      fill: #D2E3FC;\n",
              "    }\n",
              "\n",
              "    [theme=dark] .colab-df-convert:hover {\n",
              "      background-color: #434B5C;\n",
              "      box-shadow: 0px 1px 3px 1px rgba(0, 0, 0, 0.15);\n",
              "      filter: drop-shadow(0px 1px 2px rgba(0, 0, 0, 0.3));\n",
              "      fill: #FFFFFF;\n",
              "    }\n",
              "  </style>\n",
              "\n",
              "    <script>\n",
              "      const buttonEl =\n",
              "        document.querySelector('#df-b60b710d-bda1-4cc0-bbc4-1b13e069f18e button.colab-df-convert');\n",
              "      buttonEl.style.display =\n",
              "        google.colab.kernel.accessAllowed ? 'block' : 'none';\n",
              "\n",
              "      async function convertToInteractive(key) {\n",
              "        const element = document.querySelector('#df-b60b710d-bda1-4cc0-bbc4-1b13e069f18e');\n",
              "        const dataTable =\n",
              "          await google.colab.kernel.invokeFunction('convertToInteractive',\n",
              "                                                    [key], {});\n",
              "        if (!dataTable) return;\n",
              "\n",
              "        const docLinkHtml = 'Like what you see? Visit the ' +\n",
              "          '<a target=\"_blank\" href=https://colab.research.google.com/notebooks/data_table.ipynb>data table notebook</a>'\n",
              "          + ' to learn more about interactive tables.';\n",
              "        element.innerHTML = '';\n",
              "        dataTable['output_type'] = 'display_data';\n",
              "        await google.colab.output.renderOutput(dataTable, element);\n",
              "        const docLink = document.createElement('div');\n",
              "        docLink.innerHTML = docLinkHtml;\n",
              "        element.appendChild(docLink);\n",
              "      }\n",
              "    </script>\n",
              "  </div>\n",
              "\n",
              "\n",
              "<div id=\"df-9a9bbf12-16ce-4e8e-bbe9-67ff9d29309c\">\n",
              "  <button class=\"colab-df-quickchart\" onclick=\"quickchart('df-9a9bbf12-16ce-4e8e-bbe9-67ff9d29309c')\"\n",
              "            title=\"Suggest charts\"\n",
              "            style=\"display:none;\">\n",
              "\n",
              "<svg xmlns=\"http://www.w3.org/2000/svg\" height=\"24px\"viewBox=\"0 0 24 24\"\n",
              "     width=\"24px\">\n",
              "    <g>\n",
              "        <path d=\"M19 3H5c-1.1 0-2 .9-2 2v14c0 1.1.9 2 2 2h14c1.1 0 2-.9 2-2V5c0-1.1-.9-2-2-2zM9 17H7v-7h2v7zm4 0h-2V7h2v10zm4 0h-2v-4h2v4z\"/>\n",
              "    </g>\n",
              "</svg>\n",
              "  </button>\n",
              "\n",
              "<style>\n",
              "  .colab-df-quickchart {\n",
              "      --bg-color: #E8F0FE;\n",
              "      --fill-color: #1967D2;\n",
              "      --hover-bg-color: #E2EBFA;\n",
              "      --hover-fill-color: #174EA6;\n",
              "      --disabled-fill-color: #AAA;\n",
              "      --disabled-bg-color: #DDD;\n",
              "  }\n",
              "\n",
              "  [theme=dark] .colab-df-quickchart {\n",
              "      --bg-color: #3B4455;\n",
              "      --fill-color: #D2E3FC;\n",
              "      --hover-bg-color: #434B5C;\n",
              "      --hover-fill-color: #FFFFFF;\n",
              "      --disabled-bg-color: #3B4455;\n",
              "      --disabled-fill-color: #666;\n",
              "  }\n",
              "\n",
              "  .colab-df-quickchart {\n",
              "    background-color: var(--bg-color);\n",
              "    border: none;\n",
              "    border-radius: 50%;\n",
              "    cursor: pointer;\n",
              "    display: none;\n",
              "    fill: var(--fill-color);\n",
              "    height: 32px;\n",
              "    padding: 0;\n",
              "    width: 32px;\n",
              "  }\n",
              "\n",
              "  .colab-df-quickchart:hover {\n",
              "    background-color: var(--hover-bg-color);\n",
              "    box-shadow: 0 1px 2px rgba(60, 64, 67, 0.3), 0 1px 3px 1px rgba(60, 64, 67, 0.15);\n",
              "    fill: var(--button-hover-fill-color);\n",
              "  }\n",
              "\n",
              "  .colab-df-quickchart-complete:disabled,\n",
              "  .colab-df-quickchart-complete:disabled:hover {\n",
              "    background-color: var(--disabled-bg-color);\n",
              "    fill: var(--disabled-fill-color);\n",
              "    box-shadow: none;\n",
              "  }\n",
              "\n",
              "  .colab-df-spinner {\n",
              "    border: 2px solid var(--fill-color);\n",
              "    border-color: transparent;\n",
              "    border-bottom-color: var(--fill-color);\n",
              "    animation:\n",
              "      spin 1s steps(1) infinite;\n",
              "  }\n",
              "\n",
              "  @keyframes spin {\n",
              "    0% {\n",
              "      border-color: transparent;\n",
              "      border-bottom-color: var(--fill-color);\n",
              "      border-left-color: var(--fill-color);\n",
              "    }\n",
              "    20% {\n",
              "      border-color: transparent;\n",
              "      border-left-color: var(--fill-color);\n",
              "      border-top-color: var(--fill-color);\n",
              "    }\n",
              "    30% {\n",
              "      border-color: transparent;\n",
              "      border-left-color: var(--fill-color);\n",
              "      border-top-color: var(--fill-color);\n",
              "      border-right-color: var(--fill-color);\n",
              "    }\n",
              "    40% {\n",
              "      border-color: transparent;\n",
              "      border-right-color: var(--fill-color);\n",
              "      border-top-color: var(--fill-color);\n",
              "    }\n",
              "    60% {\n",
              "      border-color: transparent;\n",
              "      border-right-color: var(--fill-color);\n",
              "    }\n",
              "    80% {\n",
              "      border-color: transparent;\n",
              "      border-right-color: var(--fill-color);\n",
              "      border-bottom-color: var(--fill-color);\n",
              "    }\n",
              "    90% {\n",
              "      border-color: transparent;\n",
              "      border-bottom-color: var(--fill-color);\n",
              "    }\n",
              "  }\n",
              "</style>\n",
              "\n",
              "  <script>\n",
              "    async function quickchart(key) {\n",
              "      const quickchartButtonEl =\n",
              "        document.querySelector('#' + key + ' button');\n",
              "      quickchartButtonEl.disabled = true;  // To prevent multiple clicks.\n",
              "      quickchartButtonEl.classList.add('colab-df-spinner');\n",
              "      try {\n",
              "        const charts = await google.colab.kernel.invokeFunction(\n",
              "            'suggestCharts', [key], {});\n",
              "      } catch (error) {\n",
              "        console.error('Error during call to suggestCharts:', error);\n",
              "      }\n",
              "      quickchartButtonEl.classList.remove('colab-df-spinner');\n",
              "      quickchartButtonEl.classList.add('colab-df-quickchart-complete');\n",
              "    }\n",
              "    (() => {\n",
              "      let quickchartButtonEl =\n",
              "        document.querySelector('#df-9a9bbf12-16ce-4e8e-bbe9-67ff9d29309c button');\n",
              "      quickchartButtonEl.style.display =\n",
              "        google.colab.kernel.accessAllowed ? 'block' : 'none';\n",
              "    })();\n",
              "  </script>\n",
              "</div>\n",
              "    </div>\n",
              "  </div>\n"
            ],
            "application/vnd.google.colaboratory.intrinsic+json": {
              "type": "dataframe",
              "variable_name": "data",
              "summary": "{\n  \"name\": \"data\",\n  \"rows\": 200,\n  \"fields\": [\n    {\n      \"column\": \"data\",\n      \"properties\": {\n        \"dtype\": \"number\",\n        \"std\": 0.8820029791669036,\n        \"min\": -2.0634380222660256,\n        \"max\": 2.736857883522364,\n        \"num_unique_values\": 200,\n        \"samples\": [\n          0.16037797091131303,\n          -1.1967173244600269,\n          -0.7290612841459853\n        ],\n        \"semantic_type\": \"\",\n        \"description\": \"\"\n      }\n    },\n    {\n      \"column\": \"linear\",\n      \"properties\": {\n        \"dtype\": \"number\",\n        \"std\": 0.8820029791669036,\n        \"min\": -2.0634380222660256,\n        \"max\": 2.736857883522364,\n        \"num_unique_values\": 200,\n        \"samples\": [\n          0.16037797091131303,\n          -1.1967173244600269,\n          -0.7290612841459853\n        ],\n        \"semantic_type\": \"\",\n        \"description\": \"\"\n      }\n    }\n  ]\n}"
            }
          },
          "metadata": {},
          "execution_count": 7
        }
      ]
    },
    {
      "cell_type": "code",
      "source": [
        "px.line(data, x='data', y='linear',width=800,range_y=[-2,2])"
      ],
      "metadata": {
        "colab": {
          "base_uri": "https://localhost:8080/",
          "height": 542
        },
        "id": "8HYV_YnEhFUf",
        "outputId": "54d0686b-0121-4b90-8f71-cf3333a80999"
      },
      "execution_count": 8,
      "outputs": [
        {
          "output_type": "display_data",
          "data": {
            "text/html": [
              "<html>\n",
              "<head><meta charset=\"utf-8\" /></head>\n",
              "<body>\n",
              "    <div>            <script src=\"https://cdnjs.cloudflare.com/ajax/libs/mathjax/2.7.5/MathJax.js?config=TeX-AMS-MML_SVG\"></script><script type=\"text/javascript\">if (window.MathJax && window.MathJax.Hub && window.MathJax.Hub.Config) {window.MathJax.Hub.Config({SVG: {font: \"STIX-Web\"}});}</script>                <script type=\"text/javascript\">window.PlotlyConfig = {MathJaxConfig: 'local'};</script>\n",
              "        <script charset=\"utf-8\" src=\"https://cdn.plot.ly/plotly-2.24.1.min.js\"></script>                <div id=\"6364ac14-98b6-4874-92fc-b81782468784\" class=\"plotly-graph-div\" style=\"height:525px; width:800px;\"></div>            <script type=\"text/javascript\">                                    window.PLOTLYENV=window.PLOTLYENV || {};                                    if (document.getElementById(\"6364ac14-98b6-4874-92fc-b81782468784\")) {                    Plotly.newPlot(                        \"6364ac14-98b6-4874-92fc-b81782468784\",                        [{\"hovertemplate\":\"data=%{x}\\u003cbr\\u003elinear=%{y}\\u003cextra\\u003e\\u003c\\u002fextra\\u003e\",\"legendgroup\":\"\",\"line\":{\"color\":\"#636efa\",\"dash\":\"solid\"},\"marker\":{\"symbol\":\"circle\"},\"mode\":\"lines\",\"name\":\"\",\"orientation\":\"v\",\"showlegend\":false,\"x\":[-2.0634380222660256,-2.010912925313709,-1.9588141190236352,-1.9391183084399743,-1.797738710501116,-1.6959045593942548,-1.650755510636719,-1.5173868610829746,-1.412295829962106,-1.3661756271237029,-1.3419531949412404,-1.3403217546236033,-1.2903843481923671,-1.2358011561718774,-1.2353726762192163,-1.1967173244600269,-1.191763790261304,-1.1709754549288052,-1.1458910052413929,-1.1378031778843556,-1.0815987580726296,-1.0649494921125644,-1.0009956994655222,-0.910190597829459,-0.8987927011144374,-0.8487873771219907,-0.832283359445527,-0.8318654221961695,-0.7893986934660622,-0.7634714607017744,-0.7290612841459853,-0.7146109288720357,-0.6794725499906407,-0.6084889082407771,-0.5312783395610152,-0.5299077575579368,-0.5260361340387121,-0.5176331335716906,-0.510109351684919,-0.4998577248345042,-0.49625955141322264,-0.49304323674365924,-0.48834950847289643,-0.44639832808982194,-0.4158582137828547,-0.4131967978278376,-0.4008963488180895,-0.39263275554631805,-0.3898464388205246,-0.37021792847775226,-0.36619281389200564,-0.33100710352398066,-0.30531398507626994,-0.3000152448416537,-0.2913094825798057,-0.2839425435593399,-0.2794572085788781,-0.2705823350836322,-0.24745975229260067,-0.2428304376840207,-0.23384934717181982,-0.22932232706527164,-0.21229927688478878,-0.1772199482565926,-0.1690544121316199,-0.16413555870655963,-0.1623262003564448,-0.13872894702513952,-0.13348845916311045,-0.1299689852182806,-0.09357813608478155,-0.08934030870301513,-0.0855935184801083,-0.07256068943036732,-0.06400398534902746,-0.028010287406548776,-0.02568731874249286,-0.01566069148137652,-0.0008874304564958941,0.03916859776204197,0.04372176721447183,0.04521642695221464,0.05786393276497819,0.06246781184322885,0.08228607588461247,0.08382028393237316,0.10526397506310188,0.10590037593945893,0.11695773322499359,0.12416690155003483,0.12997568347854338,0.14095768926124602,0.14296853107358104,0.14892002870018756,0.15517349889111823,0.16037797091131303,0.1617808665628537,0.16369137724315466,0.16948759800861082,0.1766312984652456,0.19013904764060324,0.198357797143278,0.20612454042176645,0.20810286472366765,0.22245694514096442,0.22628709962269325,0.23309297305725885,0.25489150124736915,0.2589404150174319,0.28485554371126554,0.29122392113872375,0.2927097204758706,0.2966847994077771,0.304901479743076,0.30977912433875704,0.3143894236182286,0.31486788869144483,0.3225236791925894,0.3255619505169712,0.33002363161473547,0.33196373101447046,0.34891617290065297,0.3582444809716427,0.3635195371689451,0.38568184100095326,0.3872988894179539,0.3884009025017992,0.4018714972950803,0.41297108389478376,0.426524796690057,0.43778022041982456,0.44654574301365946,0.4565065330357305,0.46441830242696586,0.46911281978644787,0.4926417504958015,0.5055984243066108,0.5089424641496669,0.5135920402221298,0.514048840274262,0.5178012466409143,0.5432828829616512,0.5670880489067449,0.5811147153878884,0.5995658637412252,0.6000516902704137,0.638154991137298,0.655326922900063,0.6631471897316865,0.6690452994985058,0.66955685873091,0.6801145485795052,0.7233510445071174,0.732964755244946,0.7368374322486837,0.7554333384659775,0.7621182555644544,0.7663822281202004,0.7821262693716365,0.7970018911044122,0.8032510999524449,0.8089208539293046,0.8440766342176169,0.865133791315805,0.8706806350793899,0.894389163050985,0.9169585578724818,0.9176127668923445,0.9926426004830168,1.0294882835512875,1.050219746022713,1.061162261580568,1.0718233053181716,1.079169045535317,1.081630382950433,1.1066896872918102,1.1420784644967223,1.184629092646815,1.2357545969422055,1.25402552248451,1.260304624755984,1.2898908553434167,1.3235426363679037,1.3337768830799464,1.3583490219242687,1.3588535971125941,1.404891975907964,1.4202771055514825,1.4538655366955078,1.4890007910029943,1.642781227031671,1.7767216039570708,1.8568964962148993,2.019063274270556,2.0931737936473214,2.1622052022127107,2.1681965602774067,2.185771819062235,2.2034989687529456,2.736857883522364],\"xaxis\":\"x\",\"y\":[-2.0634380222660256,-2.010912925313709,-1.9588141190236352,-1.9391183084399743,-1.797738710501116,-1.6959045593942548,-1.650755510636719,-1.5173868610829746,-1.412295829962106,-1.3661756271237029,-1.3419531949412404,-1.3403217546236033,-1.2903843481923671,-1.2358011561718774,-1.2353726762192163,-1.1967173244600269,-1.191763790261304,-1.1709754549288052,-1.1458910052413929,-1.1378031778843556,-1.0815987580726296,-1.0649494921125644,-1.0009956994655222,-0.910190597829459,-0.8987927011144374,-0.8487873771219907,-0.832283359445527,-0.8318654221961695,-0.7893986934660622,-0.7634714607017744,-0.7290612841459853,-0.7146109288720357,-0.6794725499906407,-0.6084889082407771,-0.5312783395610152,-0.5299077575579368,-0.5260361340387121,-0.5176331335716906,-0.510109351684919,-0.4998577248345042,-0.49625955141322264,-0.49304323674365924,-0.48834950847289643,-0.44639832808982194,-0.4158582137828547,-0.4131967978278376,-0.4008963488180895,-0.39263275554631805,-0.3898464388205246,-0.37021792847775226,-0.36619281389200564,-0.33100710352398066,-0.30531398507626994,-0.3000152448416537,-0.2913094825798057,-0.2839425435593399,-0.2794572085788781,-0.2705823350836322,-0.24745975229260067,-0.2428304376840207,-0.23384934717181982,-0.22932232706527164,-0.21229927688478878,-0.1772199482565926,-0.1690544121316199,-0.16413555870655963,-0.1623262003564448,-0.13872894702513952,-0.13348845916311045,-0.1299689852182806,-0.09357813608478155,-0.08934030870301513,-0.0855935184801083,-0.07256068943036732,-0.06400398534902746,-0.028010287406548776,-0.02568731874249286,-0.01566069148137652,-0.0008874304564958941,0.03916859776204197,0.04372176721447183,0.04521642695221464,0.05786393276497819,0.06246781184322885,0.08228607588461247,0.08382028393237316,0.10526397506310188,0.10590037593945893,0.11695773322499359,0.12416690155003483,0.12997568347854338,0.14095768926124602,0.14296853107358104,0.14892002870018756,0.15517349889111823,0.16037797091131303,0.1617808665628537,0.16369137724315466,0.16948759800861082,0.1766312984652456,0.19013904764060324,0.198357797143278,0.20612454042176645,0.20810286472366765,0.22245694514096442,0.22628709962269325,0.23309297305725885,0.25489150124736915,0.2589404150174319,0.28485554371126554,0.29122392113872375,0.2927097204758706,0.2966847994077771,0.304901479743076,0.30977912433875704,0.3143894236182286,0.31486788869144483,0.3225236791925894,0.3255619505169712,0.33002363161473547,0.33196373101447046,0.34891617290065297,0.3582444809716427,0.3635195371689451,0.38568184100095326,0.3872988894179539,0.3884009025017992,0.4018714972950803,0.41297108389478376,0.426524796690057,0.43778022041982456,0.44654574301365946,0.4565065330357305,0.46441830242696586,0.46911281978644787,0.4926417504958015,0.5055984243066108,0.5089424641496669,0.5135920402221298,0.514048840274262,0.5178012466409143,0.5432828829616512,0.5670880489067449,0.5811147153878884,0.5995658637412252,0.6000516902704137,0.638154991137298,0.655326922900063,0.6631471897316865,0.6690452994985058,0.66955685873091,0.6801145485795052,0.7233510445071174,0.732964755244946,0.7368374322486837,0.7554333384659775,0.7621182555644544,0.7663822281202004,0.7821262693716365,0.7970018911044122,0.8032510999524449,0.8089208539293046,0.8440766342176169,0.865133791315805,0.8706806350793899,0.894389163050985,0.9169585578724818,0.9176127668923445,0.9926426004830168,1.0294882835512875,1.050219746022713,1.061162261580568,1.0718233053181716,1.079169045535317,1.081630382950433,1.1066896872918102,1.1420784644967223,1.184629092646815,1.2357545969422055,1.25402552248451,1.260304624755984,1.2898908553434167,1.3235426363679037,1.3337768830799464,1.3583490219242687,1.3588535971125941,1.404891975907964,1.4202771055514825,1.4538655366955078,1.4890007910029943,1.642781227031671,1.7767216039570708,1.8568964962148993,2.019063274270556,2.0931737936473214,2.1622052022127107,2.1681965602774067,2.185771819062235,2.2034989687529456,2.736857883522364],\"yaxis\":\"y\",\"type\":\"scatter\"}],                        {\"template\":{\"data\":{\"histogram2dcontour\":[{\"type\":\"histogram2dcontour\",\"colorbar\":{\"outlinewidth\":0,\"ticks\":\"\"},\"colorscale\":[[0.0,\"#0d0887\"],[0.1111111111111111,\"#46039f\"],[0.2222222222222222,\"#7201a8\"],[0.3333333333333333,\"#9c179e\"],[0.4444444444444444,\"#bd3786\"],[0.5555555555555556,\"#d8576b\"],[0.6666666666666666,\"#ed7953\"],[0.7777777777777778,\"#fb9f3a\"],[0.8888888888888888,\"#fdca26\"],[1.0,\"#f0f921\"]]}],\"choropleth\":[{\"type\":\"choropleth\",\"colorbar\":{\"outlinewidth\":0,\"ticks\":\"\"}}],\"histogram2d\":[{\"type\":\"histogram2d\",\"colorbar\":{\"outlinewidth\":0,\"ticks\":\"\"},\"colorscale\":[[0.0,\"#0d0887\"],[0.1111111111111111,\"#46039f\"],[0.2222222222222222,\"#7201a8\"],[0.3333333333333333,\"#9c179e\"],[0.4444444444444444,\"#bd3786\"],[0.5555555555555556,\"#d8576b\"],[0.6666666666666666,\"#ed7953\"],[0.7777777777777778,\"#fb9f3a\"],[0.8888888888888888,\"#fdca26\"],[1.0,\"#f0f921\"]]}],\"heatmap\":[{\"type\":\"heatmap\",\"colorbar\":{\"outlinewidth\":0,\"ticks\":\"\"},\"colorscale\":[[0.0,\"#0d0887\"],[0.1111111111111111,\"#46039f\"],[0.2222222222222222,\"#7201a8\"],[0.3333333333333333,\"#9c179e\"],[0.4444444444444444,\"#bd3786\"],[0.5555555555555556,\"#d8576b\"],[0.6666666666666666,\"#ed7953\"],[0.7777777777777778,\"#fb9f3a\"],[0.8888888888888888,\"#fdca26\"],[1.0,\"#f0f921\"]]}],\"heatmapgl\":[{\"type\":\"heatmapgl\",\"colorbar\":{\"outlinewidth\":0,\"ticks\":\"\"},\"colorscale\":[[0.0,\"#0d0887\"],[0.1111111111111111,\"#46039f\"],[0.2222222222222222,\"#7201a8\"],[0.3333333333333333,\"#9c179e\"],[0.4444444444444444,\"#bd3786\"],[0.5555555555555556,\"#d8576b\"],[0.6666666666666666,\"#ed7953\"],[0.7777777777777778,\"#fb9f3a\"],[0.8888888888888888,\"#fdca26\"],[1.0,\"#f0f921\"]]}],\"contourcarpet\":[{\"type\":\"contourcarpet\",\"colorbar\":{\"outlinewidth\":0,\"ticks\":\"\"}}],\"contour\":[{\"type\":\"contour\",\"colorbar\":{\"outlinewidth\":0,\"ticks\":\"\"},\"colorscale\":[[0.0,\"#0d0887\"],[0.1111111111111111,\"#46039f\"],[0.2222222222222222,\"#7201a8\"],[0.3333333333333333,\"#9c179e\"],[0.4444444444444444,\"#bd3786\"],[0.5555555555555556,\"#d8576b\"],[0.6666666666666666,\"#ed7953\"],[0.7777777777777778,\"#fb9f3a\"],[0.8888888888888888,\"#fdca26\"],[1.0,\"#f0f921\"]]}],\"surface\":[{\"type\":\"surface\",\"colorbar\":{\"outlinewidth\":0,\"ticks\":\"\"},\"colorscale\":[[0.0,\"#0d0887\"],[0.1111111111111111,\"#46039f\"],[0.2222222222222222,\"#7201a8\"],[0.3333333333333333,\"#9c179e\"],[0.4444444444444444,\"#bd3786\"],[0.5555555555555556,\"#d8576b\"],[0.6666666666666666,\"#ed7953\"],[0.7777777777777778,\"#fb9f3a\"],[0.8888888888888888,\"#fdca26\"],[1.0,\"#f0f921\"]]}],\"mesh3d\":[{\"type\":\"mesh3d\",\"colorbar\":{\"outlinewidth\":0,\"ticks\":\"\"}}],\"scatter\":[{\"fillpattern\":{\"fillmode\":\"overlay\",\"size\":10,\"solidity\":0.2},\"type\":\"scatter\"}],\"parcoords\":[{\"type\":\"parcoords\",\"line\":{\"colorbar\":{\"outlinewidth\":0,\"ticks\":\"\"}}}],\"scatterpolargl\":[{\"type\":\"scatterpolargl\",\"marker\":{\"colorbar\":{\"outlinewidth\":0,\"ticks\":\"\"}}}],\"bar\":[{\"error_x\":{\"color\":\"#2a3f5f\"},\"error_y\":{\"color\":\"#2a3f5f\"},\"marker\":{\"line\":{\"color\":\"#E5ECF6\",\"width\":0.5},\"pattern\":{\"fillmode\":\"overlay\",\"size\":10,\"solidity\":0.2}},\"type\":\"bar\"}],\"scattergeo\":[{\"type\":\"scattergeo\",\"marker\":{\"colorbar\":{\"outlinewidth\":0,\"ticks\":\"\"}}}],\"scatterpolar\":[{\"type\":\"scatterpolar\",\"marker\":{\"colorbar\":{\"outlinewidth\":0,\"ticks\":\"\"}}}],\"histogram\":[{\"marker\":{\"pattern\":{\"fillmode\":\"overlay\",\"size\":10,\"solidity\":0.2}},\"type\":\"histogram\"}],\"scattergl\":[{\"type\":\"scattergl\",\"marker\":{\"colorbar\":{\"outlinewidth\":0,\"ticks\":\"\"}}}],\"scatter3d\":[{\"type\":\"scatter3d\",\"line\":{\"colorbar\":{\"outlinewidth\":0,\"ticks\":\"\"}},\"marker\":{\"colorbar\":{\"outlinewidth\":0,\"ticks\":\"\"}}}],\"scattermapbox\":[{\"type\":\"scattermapbox\",\"marker\":{\"colorbar\":{\"outlinewidth\":0,\"ticks\":\"\"}}}],\"scatterternary\":[{\"type\":\"scatterternary\",\"marker\":{\"colorbar\":{\"outlinewidth\":0,\"ticks\":\"\"}}}],\"scattercarpet\":[{\"type\":\"scattercarpet\",\"marker\":{\"colorbar\":{\"outlinewidth\":0,\"ticks\":\"\"}}}],\"carpet\":[{\"aaxis\":{\"endlinecolor\":\"#2a3f5f\",\"gridcolor\":\"white\",\"linecolor\":\"white\",\"minorgridcolor\":\"white\",\"startlinecolor\":\"#2a3f5f\"},\"baxis\":{\"endlinecolor\":\"#2a3f5f\",\"gridcolor\":\"white\",\"linecolor\":\"white\",\"minorgridcolor\":\"white\",\"startlinecolor\":\"#2a3f5f\"},\"type\":\"carpet\"}],\"table\":[{\"cells\":{\"fill\":{\"color\":\"#EBF0F8\"},\"line\":{\"color\":\"white\"}},\"header\":{\"fill\":{\"color\":\"#C8D4E3\"},\"line\":{\"color\":\"white\"}},\"type\":\"table\"}],\"barpolar\":[{\"marker\":{\"line\":{\"color\":\"#E5ECF6\",\"width\":0.5},\"pattern\":{\"fillmode\":\"overlay\",\"size\":10,\"solidity\":0.2}},\"type\":\"barpolar\"}],\"pie\":[{\"automargin\":true,\"type\":\"pie\"}]},\"layout\":{\"autotypenumbers\":\"strict\",\"colorway\":[\"#636efa\",\"#EF553B\",\"#00cc96\",\"#ab63fa\",\"#FFA15A\",\"#19d3f3\",\"#FF6692\",\"#B6E880\",\"#FF97FF\",\"#FECB52\"],\"font\":{\"color\":\"#2a3f5f\"},\"hovermode\":\"closest\",\"hoverlabel\":{\"align\":\"left\"},\"paper_bgcolor\":\"white\",\"plot_bgcolor\":\"#E5ECF6\",\"polar\":{\"bgcolor\":\"#E5ECF6\",\"angularaxis\":{\"gridcolor\":\"white\",\"linecolor\":\"white\",\"ticks\":\"\"},\"radialaxis\":{\"gridcolor\":\"white\",\"linecolor\":\"white\",\"ticks\":\"\"}},\"ternary\":{\"bgcolor\":\"#E5ECF6\",\"aaxis\":{\"gridcolor\":\"white\",\"linecolor\":\"white\",\"ticks\":\"\"},\"baxis\":{\"gridcolor\":\"white\",\"linecolor\":\"white\",\"ticks\":\"\"},\"caxis\":{\"gridcolor\":\"white\",\"linecolor\":\"white\",\"ticks\":\"\"}},\"coloraxis\":{\"colorbar\":{\"outlinewidth\":0,\"ticks\":\"\"}},\"colorscale\":{\"sequential\":[[0.0,\"#0d0887\"],[0.1111111111111111,\"#46039f\"],[0.2222222222222222,\"#7201a8\"],[0.3333333333333333,\"#9c179e\"],[0.4444444444444444,\"#bd3786\"],[0.5555555555555556,\"#d8576b\"],[0.6666666666666666,\"#ed7953\"],[0.7777777777777778,\"#fb9f3a\"],[0.8888888888888888,\"#fdca26\"],[1.0,\"#f0f921\"]],\"sequentialminus\":[[0.0,\"#0d0887\"],[0.1111111111111111,\"#46039f\"],[0.2222222222222222,\"#7201a8\"],[0.3333333333333333,\"#9c179e\"],[0.4444444444444444,\"#bd3786\"],[0.5555555555555556,\"#d8576b\"],[0.6666666666666666,\"#ed7953\"],[0.7777777777777778,\"#fb9f3a\"],[0.8888888888888888,\"#fdca26\"],[1.0,\"#f0f921\"]],\"diverging\":[[0,\"#8e0152\"],[0.1,\"#c51b7d\"],[0.2,\"#de77ae\"],[0.3,\"#f1b6da\"],[0.4,\"#fde0ef\"],[0.5,\"#f7f7f7\"],[0.6,\"#e6f5d0\"],[0.7,\"#b8e186\"],[0.8,\"#7fbc41\"],[0.9,\"#4d9221\"],[1,\"#276419\"]]},\"xaxis\":{\"gridcolor\":\"white\",\"linecolor\":\"white\",\"ticks\":\"\",\"title\":{\"standoff\":15},\"zerolinecolor\":\"white\",\"automargin\":true,\"zerolinewidth\":2},\"yaxis\":{\"gridcolor\":\"white\",\"linecolor\":\"white\",\"ticks\":\"\",\"title\":{\"standoff\":15},\"zerolinecolor\":\"white\",\"automargin\":true,\"zerolinewidth\":2},\"scene\":{\"xaxis\":{\"backgroundcolor\":\"#E5ECF6\",\"gridcolor\":\"white\",\"linecolor\":\"white\",\"showbackground\":true,\"ticks\":\"\",\"zerolinecolor\":\"white\",\"gridwidth\":2},\"yaxis\":{\"backgroundcolor\":\"#E5ECF6\",\"gridcolor\":\"white\",\"linecolor\":\"white\",\"showbackground\":true,\"ticks\":\"\",\"zerolinecolor\":\"white\",\"gridwidth\":2},\"zaxis\":{\"backgroundcolor\":\"#E5ECF6\",\"gridcolor\":\"white\",\"linecolor\":\"white\",\"showbackground\":true,\"ticks\":\"\",\"zerolinecolor\":\"white\",\"gridwidth\":2}},\"shapedefaults\":{\"line\":{\"color\":\"#2a3f5f\"}},\"annotationdefaults\":{\"arrowcolor\":\"#2a3f5f\",\"arrowhead\":0,\"arrowwidth\":1},\"geo\":{\"bgcolor\":\"white\",\"landcolor\":\"#E5ECF6\",\"subunitcolor\":\"white\",\"showland\":true,\"showlakes\":true,\"lakecolor\":\"white\"},\"title\":{\"x\":0.05},\"mapbox\":{\"style\":\"light\"}}},\"xaxis\":{\"anchor\":\"y\",\"domain\":[0.0,1.0],\"title\":{\"text\":\"data\"}},\"yaxis\":{\"anchor\":\"x\",\"domain\":[0.0,1.0],\"title\":{\"text\":\"linear\"},\"range\":[-2,2]},\"legend\":{\"tracegroupgap\":0},\"margin\":{\"t\":60},\"width\":800},                        {\"responsive\": true}                    ).then(function(){\n",
              "                            \n",
              "var gd = document.getElementById('6364ac14-98b6-4874-92fc-b81782468784');\n",
              "var x = new MutationObserver(function (mutations, observer) {{\n",
              "        var display = window.getComputedStyle(gd).display;\n",
              "        if (!display || display === 'none') {{\n",
              "            console.log([gd, 'removed!']);\n",
              "            Plotly.purge(gd);\n",
              "            observer.disconnect();\n",
              "        }}\n",
              "}});\n",
              "\n",
              "// Listen for the removal of the full notebook cells\n",
              "var notebookContainer = gd.closest('#notebook-container');\n",
              "if (notebookContainer) {{\n",
              "    x.observe(notebookContainer, {childList: true});\n",
              "}}\n",
              "\n",
              "// Listen for the clearing of the current output cell\n",
              "var outputEl = gd.closest('.output');\n",
              "if (outputEl) {{\n",
              "    x.observe(outputEl, {childList: true});\n",
              "}}\n",
              "\n",
              "                        })                };                            </script>        </div>\n",
              "</body>\n",
              "</html>"
            ]
          },
          "metadata": {}
        }
      ]
    },
    {
      "cell_type": "code",
      "source": [
        "from tensorflow.keras.activations import sigmoid\n",
        "\n",
        "data = pd.DataFrame({'data': random_data, 'sigmoid': sigmoid(random_data)})\n",
        "data.head()"
      ],
      "metadata": {
        "colab": {
          "base_uri": "https://localhost:8080/",
          "height": 206
        },
        "id": "aSFWJX6PhoOm",
        "outputId": "6852b71e-999f-4127-ddcf-9e3a8070580e"
      },
      "execution_count": 9,
      "outputs": [
        {
          "output_type": "execute_result",
          "data": {
            "text/plain": [
              "       data   sigmoid\n",
              "0 -2.063438  0.112702\n",
              "1 -2.010913  0.118062\n",
              "2 -1.958814  0.123595\n",
              "3 -1.939118  0.125745\n",
              "4 -1.797739  0.142127"
            ],
            "text/html": [
              "\n",
              "  <div id=\"df-62b44599-0f18-4328-bdf3-eda7c7ce0b73\" class=\"colab-df-container\">\n",
              "    <div>\n",
              "<style scoped>\n",
              "    .dataframe tbody tr th:only-of-type {\n",
              "        vertical-align: middle;\n",
              "    }\n",
              "\n",
              "    .dataframe tbody tr th {\n",
              "        vertical-align: top;\n",
              "    }\n",
              "\n",
              "    .dataframe thead th {\n",
              "        text-align: right;\n",
              "    }\n",
              "</style>\n",
              "<table border=\"1\" class=\"dataframe\">\n",
              "  <thead>\n",
              "    <tr style=\"text-align: right;\">\n",
              "      <th></th>\n",
              "      <th>data</th>\n",
              "      <th>sigmoid</th>\n",
              "    </tr>\n",
              "  </thead>\n",
              "  <tbody>\n",
              "    <tr>\n",
              "      <th>0</th>\n",
              "      <td>-2.063438</td>\n",
              "      <td>0.112702</td>\n",
              "    </tr>\n",
              "    <tr>\n",
              "      <th>1</th>\n",
              "      <td>-2.010913</td>\n",
              "      <td>0.118062</td>\n",
              "    </tr>\n",
              "    <tr>\n",
              "      <th>2</th>\n",
              "      <td>-1.958814</td>\n",
              "      <td>0.123595</td>\n",
              "    </tr>\n",
              "    <tr>\n",
              "      <th>3</th>\n",
              "      <td>-1.939118</td>\n",
              "      <td>0.125745</td>\n",
              "    </tr>\n",
              "    <tr>\n",
              "      <th>4</th>\n",
              "      <td>-1.797739</td>\n",
              "      <td>0.142127</td>\n",
              "    </tr>\n",
              "  </tbody>\n",
              "</table>\n",
              "</div>\n",
              "    <div class=\"colab-df-buttons\">\n",
              "\n",
              "  <div class=\"colab-df-container\">\n",
              "    <button class=\"colab-df-convert\" onclick=\"convertToInteractive('df-62b44599-0f18-4328-bdf3-eda7c7ce0b73')\"\n",
              "            title=\"Convert this dataframe to an interactive table.\"\n",
              "            style=\"display:none;\">\n",
              "\n",
              "  <svg xmlns=\"http://www.w3.org/2000/svg\" height=\"24px\" viewBox=\"0 -960 960 960\">\n",
              "    <path d=\"M120-120v-720h720v720H120Zm60-500h600v-160H180v160Zm220 220h160v-160H400v160Zm0 220h160v-160H400v160ZM180-400h160v-160H180v160Zm440 0h160v-160H620v160ZM180-180h160v-160H180v160Zm440 0h160v-160H620v160Z\"/>\n",
              "  </svg>\n",
              "    </button>\n",
              "\n",
              "  <style>\n",
              "    .colab-df-container {\n",
              "      display:flex;\n",
              "      gap: 12px;\n",
              "    }\n",
              "\n",
              "    .colab-df-convert {\n",
              "      background-color: #E8F0FE;\n",
              "      border: none;\n",
              "      border-radius: 50%;\n",
              "      cursor: pointer;\n",
              "      display: none;\n",
              "      fill: #1967D2;\n",
              "      height: 32px;\n",
              "      padding: 0 0 0 0;\n",
              "      width: 32px;\n",
              "    }\n",
              "\n",
              "    .colab-df-convert:hover {\n",
              "      background-color: #E2EBFA;\n",
              "      box-shadow: 0px 1px 2px rgba(60, 64, 67, 0.3), 0px 1px 3px 1px rgba(60, 64, 67, 0.15);\n",
              "      fill: #174EA6;\n",
              "    }\n",
              "\n",
              "    .colab-df-buttons div {\n",
              "      margin-bottom: 4px;\n",
              "    }\n",
              "\n",
              "    [theme=dark] .colab-df-convert {\n",
              "      background-color: #3B4455;\n",
              "      fill: #D2E3FC;\n",
              "    }\n",
              "\n",
              "    [theme=dark] .colab-df-convert:hover {\n",
              "      background-color: #434B5C;\n",
              "      box-shadow: 0px 1px 3px 1px rgba(0, 0, 0, 0.15);\n",
              "      filter: drop-shadow(0px 1px 2px rgba(0, 0, 0, 0.3));\n",
              "      fill: #FFFFFF;\n",
              "    }\n",
              "  </style>\n",
              "\n",
              "    <script>\n",
              "      const buttonEl =\n",
              "        document.querySelector('#df-62b44599-0f18-4328-bdf3-eda7c7ce0b73 button.colab-df-convert');\n",
              "      buttonEl.style.display =\n",
              "        google.colab.kernel.accessAllowed ? 'block' : 'none';\n",
              "\n",
              "      async function convertToInteractive(key) {\n",
              "        const element = document.querySelector('#df-62b44599-0f18-4328-bdf3-eda7c7ce0b73');\n",
              "        const dataTable =\n",
              "          await google.colab.kernel.invokeFunction('convertToInteractive',\n",
              "                                                    [key], {});\n",
              "        if (!dataTable) return;\n",
              "\n",
              "        const docLinkHtml = 'Like what you see? Visit the ' +\n",
              "          '<a target=\"_blank\" href=https://colab.research.google.com/notebooks/data_table.ipynb>data table notebook</a>'\n",
              "          + ' to learn more about interactive tables.';\n",
              "        element.innerHTML = '';\n",
              "        dataTable['output_type'] = 'display_data';\n",
              "        await google.colab.output.renderOutput(dataTable, element);\n",
              "        const docLink = document.createElement('div');\n",
              "        docLink.innerHTML = docLinkHtml;\n",
              "        element.appendChild(docLink);\n",
              "      }\n",
              "    </script>\n",
              "  </div>\n",
              "\n",
              "\n",
              "<div id=\"df-d6ecec3c-e145-4db2-bb55-ac412c6cb206\">\n",
              "  <button class=\"colab-df-quickchart\" onclick=\"quickchart('df-d6ecec3c-e145-4db2-bb55-ac412c6cb206')\"\n",
              "            title=\"Suggest charts\"\n",
              "            style=\"display:none;\">\n",
              "\n",
              "<svg xmlns=\"http://www.w3.org/2000/svg\" height=\"24px\"viewBox=\"0 0 24 24\"\n",
              "     width=\"24px\">\n",
              "    <g>\n",
              "        <path d=\"M19 3H5c-1.1 0-2 .9-2 2v14c0 1.1.9 2 2 2h14c1.1 0 2-.9 2-2V5c0-1.1-.9-2-2-2zM9 17H7v-7h2v7zm4 0h-2V7h2v10zm4 0h-2v-4h2v4z\"/>\n",
              "    </g>\n",
              "</svg>\n",
              "  </button>\n",
              "\n",
              "<style>\n",
              "  .colab-df-quickchart {\n",
              "      --bg-color: #E8F0FE;\n",
              "      --fill-color: #1967D2;\n",
              "      --hover-bg-color: #E2EBFA;\n",
              "      --hover-fill-color: #174EA6;\n",
              "      --disabled-fill-color: #AAA;\n",
              "      --disabled-bg-color: #DDD;\n",
              "  }\n",
              "\n",
              "  [theme=dark] .colab-df-quickchart {\n",
              "      --bg-color: #3B4455;\n",
              "      --fill-color: #D2E3FC;\n",
              "      --hover-bg-color: #434B5C;\n",
              "      --hover-fill-color: #FFFFFF;\n",
              "      --disabled-bg-color: #3B4455;\n",
              "      --disabled-fill-color: #666;\n",
              "  }\n",
              "\n",
              "  .colab-df-quickchart {\n",
              "    background-color: var(--bg-color);\n",
              "    border: none;\n",
              "    border-radius: 50%;\n",
              "    cursor: pointer;\n",
              "    display: none;\n",
              "    fill: var(--fill-color);\n",
              "    height: 32px;\n",
              "    padding: 0;\n",
              "    width: 32px;\n",
              "  }\n",
              "\n",
              "  .colab-df-quickchart:hover {\n",
              "    background-color: var(--hover-bg-color);\n",
              "    box-shadow: 0 1px 2px rgba(60, 64, 67, 0.3), 0 1px 3px 1px rgba(60, 64, 67, 0.15);\n",
              "    fill: var(--button-hover-fill-color);\n",
              "  }\n",
              "\n",
              "  .colab-df-quickchart-complete:disabled,\n",
              "  .colab-df-quickchart-complete:disabled:hover {\n",
              "    background-color: var(--disabled-bg-color);\n",
              "    fill: var(--disabled-fill-color);\n",
              "    box-shadow: none;\n",
              "  }\n",
              "\n",
              "  .colab-df-spinner {\n",
              "    border: 2px solid var(--fill-color);\n",
              "    border-color: transparent;\n",
              "    border-bottom-color: var(--fill-color);\n",
              "    animation:\n",
              "      spin 1s steps(1) infinite;\n",
              "  }\n",
              "\n",
              "  @keyframes spin {\n",
              "    0% {\n",
              "      border-color: transparent;\n",
              "      border-bottom-color: var(--fill-color);\n",
              "      border-left-color: var(--fill-color);\n",
              "    }\n",
              "    20% {\n",
              "      border-color: transparent;\n",
              "      border-left-color: var(--fill-color);\n",
              "      border-top-color: var(--fill-color);\n",
              "    }\n",
              "    30% {\n",
              "      border-color: transparent;\n",
              "      border-left-color: var(--fill-color);\n",
              "      border-top-color: var(--fill-color);\n",
              "      border-right-color: var(--fill-color);\n",
              "    }\n",
              "    40% {\n",
              "      border-color: transparent;\n",
              "      border-right-color: var(--fill-color);\n",
              "      border-top-color: var(--fill-color);\n",
              "    }\n",
              "    60% {\n",
              "      border-color: transparent;\n",
              "      border-right-color: var(--fill-color);\n",
              "    }\n",
              "    80% {\n",
              "      border-color: transparent;\n",
              "      border-right-color: var(--fill-color);\n",
              "      border-bottom-color: var(--fill-color);\n",
              "    }\n",
              "    90% {\n",
              "      border-color: transparent;\n",
              "      border-bottom-color: var(--fill-color);\n",
              "    }\n",
              "  }\n",
              "</style>\n",
              "\n",
              "  <script>\n",
              "    async function quickchart(key) {\n",
              "      const quickchartButtonEl =\n",
              "        document.querySelector('#' + key + ' button');\n",
              "      quickchartButtonEl.disabled = true;  // To prevent multiple clicks.\n",
              "      quickchartButtonEl.classList.add('colab-df-spinner');\n",
              "      try {\n",
              "        const charts = await google.colab.kernel.invokeFunction(\n",
              "            'suggestCharts', [key], {});\n",
              "      } catch (error) {\n",
              "        console.error('Error during call to suggestCharts:', error);\n",
              "      }\n",
              "      quickchartButtonEl.classList.remove('colab-df-spinner');\n",
              "      quickchartButtonEl.classList.add('colab-df-quickchart-complete');\n",
              "    }\n",
              "    (() => {\n",
              "      let quickchartButtonEl =\n",
              "        document.querySelector('#df-d6ecec3c-e145-4db2-bb55-ac412c6cb206 button');\n",
              "      quickchartButtonEl.style.display =\n",
              "        google.colab.kernel.accessAllowed ? 'block' : 'none';\n",
              "    })();\n",
              "  </script>\n",
              "</div>\n",
              "    </div>\n",
              "  </div>\n"
            ],
            "application/vnd.google.colaboratory.intrinsic+json": {
              "type": "dataframe",
              "variable_name": "data",
              "summary": "{\n  \"name\": \"data\",\n  \"rows\": 200,\n  \"fields\": [\n    {\n      \"column\": \"data\",\n      \"properties\": {\n        \"dtype\": \"number\",\n        \"std\": 0.8820029791669036,\n        \"min\": -2.0634380222660256,\n        \"max\": 2.736857883522364,\n        \"num_unique_values\": 200,\n        \"samples\": [\n          0.16037797091131303,\n          -1.1967173244600269,\n          -0.7290612841459853\n        ],\n        \"semantic_type\": \"\",\n        \"description\": \"\"\n      }\n    },\n    {\n      \"column\": \"sigmoid\",\n      \"properties\": {\n        \"dtype\": \"number\",\n        \"std\": 0.18671850462843773,\n        \"min\": 0.11270157004224701,\n        \"max\": 0.9391668272452333,\n        \"num_unique_values\": 200,\n        \"samples\": [\n          0.5400087736832989,\n          0.23205970091629555,\n          0.32540075594296863\n        ],\n        \"semantic_type\": \"\",\n        \"description\": \"\"\n      }\n    }\n  ]\n}"
            }
          },
          "metadata": {},
          "execution_count": 9
        }
      ]
    },
    {
      "cell_type": "code",
      "source": [
        "px.line(data, x='data', y='sigmoid', width=800, range_y=[-0.5, 1.5])"
      ],
      "metadata": {
        "colab": {
          "base_uri": "https://localhost:8080/",
          "height": 542
        },
        "id": "DYtbk2BPhwrq",
        "outputId": "357eb859-cbcd-4231-a963-39122f8d7bc4"
      },
      "execution_count": 10,
      "outputs": [
        {
          "output_type": "display_data",
          "data": {
            "text/html": [
              "<html>\n",
              "<head><meta charset=\"utf-8\" /></head>\n",
              "<body>\n",
              "    <div>            <script src=\"https://cdnjs.cloudflare.com/ajax/libs/mathjax/2.7.5/MathJax.js?config=TeX-AMS-MML_SVG\"></script><script type=\"text/javascript\">if (window.MathJax && window.MathJax.Hub && window.MathJax.Hub.Config) {window.MathJax.Hub.Config({SVG: {font: \"STIX-Web\"}});}</script>                <script type=\"text/javascript\">window.PlotlyConfig = {MathJaxConfig: 'local'};</script>\n",
              "        <script charset=\"utf-8\" src=\"https://cdn.plot.ly/plotly-2.24.1.min.js\"></script>                <div id=\"a9ba457e-cb86-4fba-97f7-c4668f6120b5\" class=\"plotly-graph-div\" style=\"height:525px; width:800px;\"></div>            <script type=\"text/javascript\">                                    window.PLOTLYENV=window.PLOTLYENV || {};                                    if (document.getElementById(\"a9ba457e-cb86-4fba-97f7-c4668f6120b5\")) {                    Plotly.newPlot(                        \"a9ba457e-cb86-4fba-97f7-c4668f6120b5\",                        [{\"hovertemplate\":\"data=%{x}\\u003cbr\\u003esigmoid=%{y}\\u003cextra\\u003e\\u003c\\u002fextra\\u003e\",\"legendgroup\":\"\",\"line\":{\"color\":\"#636efa\",\"dash\":\"solid\"},\"marker\":{\"symbol\":\"circle\"},\"mode\":\"lines\",\"name\":\"\",\"orientation\":\"v\",\"showlegend\":false,\"x\":[-2.0634380222660256,-2.010912925313709,-1.9588141190236352,-1.9391183084399743,-1.797738710501116,-1.6959045593942548,-1.650755510636719,-1.5173868610829746,-1.412295829962106,-1.3661756271237029,-1.3419531949412404,-1.3403217546236033,-1.2903843481923671,-1.2358011561718774,-1.2353726762192163,-1.1967173244600269,-1.191763790261304,-1.1709754549288052,-1.1458910052413929,-1.1378031778843556,-1.0815987580726296,-1.0649494921125644,-1.0009956994655222,-0.910190597829459,-0.8987927011144374,-0.8487873771219907,-0.832283359445527,-0.8318654221961695,-0.7893986934660622,-0.7634714607017744,-0.7290612841459853,-0.7146109288720357,-0.6794725499906407,-0.6084889082407771,-0.5312783395610152,-0.5299077575579368,-0.5260361340387121,-0.5176331335716906,-0.510109351684919,-0.4998577248345042,-0.49625955141322264,-0.49304323674365924,-0.48834950847289643,-0.44639832808982194,-0.4158582137828547,-0.4131967978278376,-0.4008963488180895,-0.39263275554631805,-0.3898464388205246,-0.37021792847775226,-0.36619281389200564,-0.33100710352398066,-0.30531398507626994,-0.3000152448416537,-0.2913094825798057,-0.2839425435593399,-0.2794572085788781,-0.2705823350836322,-0.24745975229260067,-0.2428304376840207,-0.23384934717181982,-0.22932232706527164,-0.21229927688478878,-0.1772199482565926,-0.1690544121316199,-0.16413555870655963,-0.1623262003564448,-0.13872894702513952,-0.13348845916311045,-0.1299689852182806,-0.09357813608478155,-0.08934030870301513,-0.0855935184801083,-0.07256068943036732,-0.06400398534902746,-0.028010287406548776,-0.02568731874249286,-0.01566069148137652,-0.0008874304564958941,0.03916859776204197,0.04372176721447183,0.04521642695221464,0.05786393276497819,0.06246781184322885,0.08228607588461247,0.08382028393237316,0.10526397506310188,0.10590037593945893,0.11695773322499359,0.12416690155003483,0.12997568347854338,0.14095768926124602,0.14296853107358104,0.14892002870018756,0.15517349889111823,0.16037797091131303,0.1617808665628537,0.16369137724315466,0.16948759800861082,0.1766312984652456,0.19013904764060324,0.198357797143278,0.20612454042176645,0.20810286472366765,0.22245694514096442,0.22628709962269325,0.23309297305725885,0.25489150124736915,0.2589404150174319,0.28485554371126554,0.29122392113872375,0.2927097204758706,0.2966847994077771,0.304901479743076,0.30977912433875704,0.3143894236182286,0.31486788869144483,0.3225236791925894,0.3255619505169712,0.33002363161473547,0.33196373101447046,0.34891617290065297,0.3582444809716427,0.3635195371689451,0.38568184100095326,0.3872988894179539,0.3884009025017992,0.4018714972950803,0.41297108389478376,0.426524796690057,0.43778022041982456,0.44654574301365946,0.4565065330357305,0.46441830242696586,0.46911281978644787,0.4926417504958015,0.5055984243066108,0.5089424641496669,0.5135920402221298,0.514048840274262,0.5178012466409143,0.5432828829616512,0.5670880489067449,0.5811147153878884,0.5995658637412252,0.6000516902704137,0.638154991137298,0.655326922900063,0.6631471897316865,0.6690452994985058,0.66955685873091,0.6801145485795052,0.7233510445071174,0.732964755244946,0.7368374322486837,0.7554333384659775,0.7621182555644544,0.7663822281202004,0.7821262693716365,0.7970018911044122,0.8032510999524449,0.8089208539293046,0.8440766342176169,0.865133791315805,0.8706806350793899,0.894389163050985,0.9169585578724818,0.9176127668923445,0.9926426004830168,1.0294882835512875,1.050219746022713,1.061162261580568,1.0718233053181716,1.079169045535317,1.081630382950433,1.1066896872918102,1.1420784644967223,1.184629092646815,1.2357545969422055,1.25402552248451,1.260304624755984,1.2898908553434167,1.3235426363679037,1.3337768830799464,1.3583490219242687,1.3588535971125941,1.404891975907964,1.4202771055514825,1.4538655366955078,1.4890007910029943,1.642781227031671,1.7767216039570708,1.8568964962148993,2.019063274270556,2.0931737936473214,2.1622052022127107,2.1681965602774067,2.185771819062235,2.2034989687529456,2.736857883522364],\"xaxis\":\"x\",\"y\":[0.11270157004224701,0.1180618878831255,0.12359544440304153,0.12574475154207618,0.14212655317400358,0.15500091041512828,0.16100686629816632,0.17984663975614487,0.1958721962301773,0.2032384341654712,0.20718903986290002,0.20745715110907215,0.21578776300815652,0.22516770082956122,0.22524246533343387,0.23205970091629555,0.23294363171055746,0.23667871147019984,0.24124040782691,0.24272392846860805,0.2532035857873392,0.2563647370427855,0.26874570001793535,0.2869608366199339,0.2892986608389376,0.2996872946994659,0.3031624824057392,0.30325078099853264,0.3122977961703102,0.31789304947349123,0.32540075594296863,0.32858079515357813,0.33637903413784703,0.3524039753883296,0.3702187850088981,0.37053840237469765,0.3714418703760932,0.3734058525674261,0.375167891293804,0.3775741045726835,0.3784200898973344,0.3791769213464292,0.3802824582855508,0.3902174362632956,0.39750826675178574,0.39814583728501945,0.4010970015150109,0.4030836793854621,0.4037542679774431,0.40848836341363415,0.40946129128183856,0.41799559955304777,0.4242589521052191,0.42555375646431776,0.4276833143188232,0.429487475182474,0.430586853629416,0.4327641382099403,0.4384488390858373,0.43958895219674166,0.4418026345520378,0.44291934916651954,0.4471236309152512,0.45581060680013913,0.45783676580994287,0.45905798554428584,0.45950732536146494,0.4653732801202111,0.4666773523434645,0.46755341464857075,0.4766225229453914,0.4776797669494953,0.4786146749732157,0.4818677825358649,0.4840044637796578,0.49299788595004634,0.49357852340520075,0.4960849071464069,0.49977814240043605,0.509790897723335,0.5109287009234647,0.5113021811707532,0.5144619482499732,0.515611876533105,0.5205599193485537,0.5209428106822555,0.5262917211202427,0.5264503787642728,0.529206148048088,0.5310019048376893,0.5324482528643321,0.5351811901349658,0.5356813761830778,0.5371613547242329,0.5387157201600882,0.5400087736832989,0.5403572323628624,0.5408317116442773,0.5422707586026099,0.5440433764159429,0.5473920679780725,0.5494274917136256,0.5513494552966104,0.5518387701256593,0.555386016706737,0.5563316041536656,0.5580108255056271,0.56338009760107,0.5643758045289491,0.5707362209873627,0.5722957426522611,0.5726593875686481,0.5736318891580859,0.5756402848366707,0.5768313469732578,0.5779563064682013,0.5780730106601766,0.5799391686811216,0.5806791408446639,0.5817651267666201,0.5822371059929847,0.5863547290188652,0.5886154060777079,0.589892146970265,0.5952427596741158,0.5956322931580467,0.5958976899327297,0.5991372242853391,0.6018000746058548,0.6050435173661214,0.6077299747867001,0.6098176402241259,0.6121851021864646,0.6140617954732507,0.6151737512491693,0.6207285634911602,0.6237740769000234,0.6245585306757385,0.6256481543104502,0.6257551364693172,0.6266334806695043,0.6325757689757384,0.6380909864935491,0.6413238619767262,0.6455569764120477,0.6456681320560116,0.654336274834663,0.6582098665781462,0.6599670062128266,0.6612893528389877,0.6614039253588265,0.6637642629809204,0.6733445126467466,0.6754555302379658,0.6763039029947111,0.6803614420711154,0.6818134532237061,0.6827377779430018,0.6861381926446151,0.68933279156089,0.6906694930621682,0.691879497154091,0.6993231070046042,0.7037321333420405,0.7048873042610192,0.7097951105938554,0.7144219857995034,0.7145554408996453,0.729609569322003,0.7368166768997819,0.7408170942174063,0.7429125923429848,0.7449435034169849,0.7463367007132471,0.746802394162515,0.7515114518743201,0.7580610431780485,0.7657791058911152,0.77482417600772,0.7779959204521047,0.7790785427778646,0.7841287147390635,0.7897705050752603,0.7914646892852553,0.7954912394957526,0.7955733140347698,0.8029590238441235,0.8053818541410337,0.8105926310628949,0.8159282494110389,0.837913024266234,0.85529157817066,0.8649347991423789,0.8827841149414488,0.8902379351495329,0.8968038114609608,0.8973569753462642,0.8989645194301431,0.9005632796846867,0.9391668272452333],\"yaxis\":\"y\",\"type\":\"scatter\"}],                        {\"template\":{\"data\":{\"histogram2dcontour\":[{\"type\":\"histogram2dcontour\",\"colorbar\":{\"outlinewidth\":0,\"ticks\":\"\"},\"colorscale\":[[0.0,\"#0d0887\"],[0.1111111111111111,\"#46039f\"],[0.2222222222222222,\"#7201a8\"],[0.3333333333333333,\"#9c179e\"],[0.4444444444444444,\"#bd3786\"],[0.5555555555555556,\"#d8576b\"],[0.6666666666666666,\"#ed7953\"],[0.7777777777777778,\"#fb9f3a\"],[0.8888888888888888,\"#fdca26\"],[1.0,\"#f0f921\"]]}],\"choropleth\":[{\"type\":\"choropleth\",\"colorbar\":{\"outlinewidth\":0,\"ticks\":\"\"}}],\"histogram2d\":[{\"type\":\"histogram2d\",\"colorbar\":{\"outlinewidth\":0,\"ticks\":\"\"},\"colorscale\":[[0.0,\"#0d0887\"],[0.1111111111111111,\"#46039f\"],[0.2222222222222222,\"#7201a8\"],[0.3333333333333333,\"#9c179e\"],[0.4444444444444444,\"#bd3786\"],[0.5555555555555556,\"#d8576b\"],[0.6666666666666666,\"#ed7953\"],[0.7777777777777778,\"#fb9f3a\"],[0.8888888888888888,\"#fdca26\"],[1.0,\"#f0f921\"]]}],\"heatmap\":[{\"type\":\"heatmap\",\"colorbar\":{\"outlinewidth\":0,\"ticks\":\"\"},\"colorscale\":[[0.0,\"#0d0887\"],[0.1111111111111111,\"#46039f\"],[0.2222222222222222,\"#7201a8\"],[0.3333333333333333,\"#9c179e\"],[0.4444444444444444,\"#bd3786\"],[0.5555555555555556,\"#d8576b\"],[0.6666666666666666,\"#ed7953\"],[0.7777777777777778,\"#fb9f3a\"],[0.8888888888888888,\"#fdca26\"],[1.0,\"#f0f921\"]]}],\"heatmapgl\":[{\"type\":\"heatmapgl\",\"colorbar\":{\"outlinewidth\":0,\"ticks\":\"\"},\"colorscale\":[[0.0,\"#0d0887\"],[0.1111111111111111,\"#46039f\"],[0.2222222222222222,\"#7201a8\"],[0.3333333333333333,\"#9c179e\"],[0.4444444444444444,\"#bd3786\"],[0.5555555555555556,\"#d8576b\"],[0.6666666666666666,\"#ed7953\"],[0.7777777777777778,\"#fb9f3a\"],[0.8888888888888888,\"#fdca26\"],[1.0,\"#f0f921\"]]}],\"contourcarpet\":[{\"type\":\"contourcarpet\",\"colorbar\":{\"outlinewidth\":0,\"ticks\":\"\"}}],\"contour\":[{\"type\":\"contour\",\"colorbar\":{\"outlinewidth\":0,\"ticks\":\"\"},\"colorscale\":[[0.0,\"#0d0887\"],[0.1111111111111111,\"#46039f\"],[0.2222222222222222,\"#7201a8\"],[0.3333333333333333,\"#9c179e\"],[0.4444444444444444,\"#bd3786\"],[0.5555555555555556,\"#d8576b\"],[0.6666666666666666,\"#ed7953\"],[0.7777777777777778,\"#fb9f3a\"],[0.8888888888888888,\"#fdca26\"],[1.0,\"#f0f921\"]]}],\"surface\":[{\"type\":\"surface\",\"colorbar\":{\"outlinewidth\":0,\"ticks\":\"\"},\"colorscale\":[[0.0,\"#0d0887\"],[0.1111111111111111,\"#46039f\"],[0.2222222222222222,\"#7201a8\"],[0.3333333333333333,\"#9c179e\"],[0.4444444444444444,\"#bd3786\"],[0.5555555555555556,\"#d8576b\"],[0.6666666666666666,\"#ed7953\"],[0.7777777777777778,\"#fb9f3a\"],[0.8888888888888888,\"#fdca26\"],[1.0,\"#f0f921\"]]}],\"mesh3d\":[{\"type\":\"mesh3d\",\"colorbar\":{\"outlinewidth\":0,\"ticks\":\"\"}}],\"scatter\":[{\"fillpattern\":{\"fillmode\":\"overlay\",\"size\":10,\"solidity\":0.2},\"type\":\"scatter\"}],\"parcoords\":[{\"type\":\"parcoords\",\"line\":{\"colorbar\":{\"outlinewidth\":0,\"ticks\":\"\"}}}],\"scatterpolargl\":[{\"type\":\"scatterpolargl\",\"marker\":{\"colorbar\":{\"outlinewidth\":0,\"ticks\":\"\"}}}],\"bar\":[{\"error_x\":{\"color\":\"#2a3f5f\"},\"error_y\":{\"color\":\"#2a3f5f\"},\"marker\":{\"line\":{\"color\":\"#E5ECF6\",\"width\":0.5},\"pattern\":{\"fillmode\":\"overlay\",\"size\":10,\"solidity\":0.2}},\"type\":\"bar\"}],\"scattergeo\":[{\"type\":\"scattergeo\",\"marker\":{\"colorbar\":{\"outlinewidth\":0,\"ticks\":\"\"}}}],\"scatterpolar\":[{\"type\":\"scatterpolar\",\"marker\":{\"colorbar\":{\"outlinewidth\":0,\"ticks\":\"\"}}}],\"histogram\":[{\"marker\":{\"pattern\":{\"fillmode\":\"overlay\",\"size\":10,\"solidity\":0.2}},\"type\":\"histogram\"}],\"scattergl\":[{\"type\":\"scattergl\",\"marker\":{\"colorbar\":{\"outlinewidth\":0,\"ticks\":\"\"}}}],\"scatter3d\":[{\"type\":\"scatter3d\",\"line\":{\"colorbar\":{\"outlinewidth\":0,\"ticks\":\"\"}},\"marker\":{\"colorbar\":{\"outlinewidth\":0,\"ticks\":\"\"}}}],\"scattermapbox\":[{\"type\":\"scattermapbox\",\"marker\":{\"colorbar\":{\"outlinewidth\":0,\"ticks\":\"\"}}}],\"scatterternary\":[{\"type\":\"scatterternary\",\"marker\":{\"colorbar\":{\"outlinewidth\":0,\"ticks\":\"\"}}}],\"scattercarpet\":[{\"type\":\"scattercarpet\",\"marker\":{\"colorbar\":{\"outlinewidth\":0,\"ticks\":\"\"}}}],\"carpet\":[{\"aaxis\":{\"endlinecolor\":\"#2a3f5f\",\"gridcolor\":\"white\",\"linecolor\":\"white\",\"minorgridcolor\":\"white\",\"startlinecolor\":\"#2a3f5f\"},\"baxis\":{\"endlinecolor\":\"#2a3f5f\",\"gridcolor\":\"white\",\"linecolor\":\"white\",\"minorgridcolor\":\"white\",\"startlinecolor\":\"#2a3f5f\"},\"type\":\"carpet\"}],\"table\":[{\"cells\":{\"fill\":{\"color\":\"#EBF0F8\"},\"line\":{\"color\":\"white\"}},\"header\":{\"fill\":{\"color\":\"#C8D4E3\"},\"line\":{\"color\":\"white\"}},\"type\":\"table\"}],\"barpolar\":[{\"marker\":{\"line\":{\"color\":\"#E5ECF6\",\"width\":0.5},\"pattern\":{\"fillmode\":\"overlay\",\"size\":10,\"solidity\":0.2}},\"type\":\"barpolar\"}],\"pie\":[{\"automargin\":true,\"type\":\"pie\"}]},\"layout\":{\"autotypenumbers\":\"strict\",\"colorway\":[\"#636efa\",\"#EF553B\",\"#00cc96\",\"#ab63fa\",\"#FFA15A\",\"#19d3f3\",\"#FF6692\",\"#B6E880\",\"#FF97FF\",\"#FECB52\"],\"font\":{\"color\":\"#2a3f5f\"},\"hovermode\":\"closest\",\"hoverlabel\":{\"align\":\"left\"},\"paper_bgcolor\":\"white\",\"plot_bgcolor\":\"#E5ECF6\",\"polar\":{\"bgcolor\":\"#E5ECF6\",\"angularaxis\":{\"gridcolor\":\"white\",\"linecolor\":\"white\",\"ticks\":\"\"},\"radialaxis\":{\"gridcolor\":\"white\",\"linecolor\":\"white\",\"ticks\":\"\"}},\"ternary\":{\"bgcolor\":\"#E5ECF6\",\"aaxis\":{\"gridcolor\":\"white\",\"linecolor\":\"white\",\"ticks\":\"\"},\"baxis\":{\"gridcolor\":\"white\",\"linecolor\":\"white\",\"ticks\":\"\"},\"caxis\":{\"gridcolor\":\"white\",\"linecolor\":\"white\",\"ticks\":\"\"}},\"coloraxis\":{\"colorbar\":{\"outlinewidth\":0,\"ticks\":\"\"}},\"colorscale\":{\"sequential\":[[0.0,\"#0d0887\"],[0.1111111111111111,\"#46039f\"],[0.2222222222222222,\"#7201a8\"],[0.3333333333333333,\"#9c179e\"],[0.4444444444444444,\"#bd3786\"],[0.5555555555555556,\"#d8576b\"],[0.6666666666666666,\"#ed7953\"],[0.7777777777777778,\"#fb9f3a\"],[0.8888888888888888,\"#fdca26\"],[1.0,\"#f0f921\"]],\"sequentialminus\":[[0.0,\"#0d0887\"],[0.1111111111111111,\"#46039f\"],[0.2222222222222222,\"#7201a8\"],[0.3333333333333333,\"#9c179e\"],[0.4444444444444444,\"#bd3786\"],[0.5555555555555556,\"#d8576b\"],[0.6666666666666666,\"#ed7953\"],[0.7777777777777778,\"#fb9f3a\"],[0.8888888888888888,\"#fdca26\"],[1.0,\"#f0f921\"]],\"diverging\":[[0,\"#8e0152\"],[0.1,\"#c51b7d\"],[0.2,\"#de77ae\"],[0.3,\"#f1b6da\"],[0.4,\"#fde0ef\"],[0.5,\"#f7f7f7\"],[0.6,\"#e6f5d0\"],[0.7,\"#b8e186\"],[0.8,\"#7fbc41\"],[0.9,\"#4d9221\"],[1,\"#276419\"]]},\"xaxis\":{\"gridcolor\":\"white\",\"linecolor\":\"white\",\"ticks\":\"\",\"title\":{\"standoff\":15},\"zerolinecolor\":\"white\",\"automargin\":true,\"zerolinewidth\":2},\"yaxis\":{\"gridcolor\":\"white\",\"linecolor\":\"white\",\"ticks\":\"\",\"title\":{\"standoff\":15},\"zerolinecolor\":\"white\",\"automargin\":true,\"zerolinewidth\":2},\"scene\":{\"xaxis\":{\"backgroundcolor\":\"#E5ECF6\",\"gridcolor\":\"white\",\"linecolor\":\"white\",\"showbackground\":true,\"ticks\":\"\",\"zerolinecolor\":\"white\",\"gridwidth\":2},\"yaxis\":{\"backgroundcolor\":\"#E5ECF6\",\"gridcolor\":\"white\",\"linecolor\":\"white\",\"showbackground\":true,\"ticks\":\"\",\"zerolinecolor\":\"white\",\"gridwidth\":2},\"zaxis\":{\"backgroundcolor\":\"#E5ECF6\",\"gridcolor\":\"white\",\"linecolor\":\"white\",\"showbackground\":true,\"ticks\":\"\",\"zerolinecolor\":\"white\",\"gridwidth\":2}},\"shapedefaults\":{\"line\":{\"color\":\"#2a3f5f\"}},\"annotationdefaults\":{\"arrowcolor\":\"#2a3f5f\",\"arrowhead\":0,\"arrowwidth\":1},\"geo\":{\"bgcolor\":\"white\",\"landcolor\":\"#E5ECF6\",\"subunitcolor\":\"white\",\"showland\":true,\"showlakes\":true,\"lakecolor\":\"white\"},\"title\":{\"x\":0.05},\"mapbox\":{\"style\":\"light\"}}},\"xaxis\":{\"anchor\":\"y\",\"domain\":[0.0,1.0],\"title\":{\"text\":\"data\"}},\"yaxis\":{\"anchor\":\"x\",\"domain\":[0.0,1.0],\"title\":{\"text\":\"sigmoid\"},\"range\":[-0.5,1.5]},\"legend\":{\"tracegroupgap\":0},\"margin\":{\"t\":60},\"width\":800},                        {\"responsive\": true}                    ).then(function(){\n",
              "                            \n",
              "var gd = document.getElementById('a9ba457e-cb86-4fba-97f7-c4668f6120b5');\n",
              "var x = new MutationObserver(function (mutations, observer) {{\n",
              "        var display = window.getComputedStyle(gd).display;\n",
              "        if (!display || display === 'none') {{\n",
              "            console.log([gd, 'removed!']);\n",
              "            Plotly.purge(gd);\n",
              "            observer.disconnect();\n",
              "        }}\n",
              "}});\n",
              "\n",
              "// Listen for the removal of the full notebook cells\n",
              "var notebookContainer = gd.closest('#notebook-container');\n",
              "if (notebookContainer) {{\n",
              "    x.observe(notebookContainer, {childList: true});\n",
              "}}\n",
              "\n",
              "// Listen for the clearing of the current output cell\n",
              "var outputEl = gd.closest('.output');\n",
              "if (outputEl) {{\n",
              "    x.observe(outputEl, {childList: true});\n",
              "}}\n",
              "\n",
              "                        })                };                            </script>        </div>\n",
              "</body>\n",
              "</html>"
            ]
          },
          "metadata": {}
        }
      ]
    },
    {
      "cell_type": "code",
      "source": [
        "\n",
        "\n",
        "from tensorflow.keras.activations import relu\n",
        "\n",
        "data = pd.DataFrame({'data': random_data, 'relu': relu(random_data)})\n",
        "data.head()\n",
        "\n"
      ],
      "metadata": {
        "colab": {
          "base_uri": "https://localhost:8080/",
          "height": 206
        },
        "id": "UgXAA954iNeM",
        "outputId": "db351398-02bb-4066-8c7e-3184f54cd979"
      },
      "execution_count": 11,
      "outputs": [
        {
          "output_type": "execute_result",
          "data": {
            "text/plain": [
              "       data  relu\n",
              "0 -2.063438   0.0\n",
              "1 -2.010913   0.0\n",
              "2 -1.958814   0.0\n",
              "3 -1.939118   0.0\n",
              "4 -1.797739   0.0"
            ],
            "text/html": [
              "\n",
              "  <div id=\"df-0a565541-a70a-4851-9e73-407fcbf762fa\" class=\"colab-df-container\">\n",
              "    <div>\n",
              "<style scoped>\n",
              "    .dataframe tbody tr th:only-of-type {\n",
              "        vertical-align: middle;\n",
              "    }\n",
              "\n",
              "    .dataframe tbody tr th {\n",
              "        vertical-align: top;\n",
              "    }\n",
              "\n",
              "    .dataframe thead th {\n",
              "        text-align: right;\n",
              "    }\n",
              "</style>\n",
              "<table border=\"1\" class=\"dataframe\">\n",
              "  <thead>\n",
              "    <tr style=\"text-align: right;\">\n",
              "      <th></th>\n",
              "      <th>data</th>\n",
              "      <th>relu</th>\n",
              "    </tr>\n",
              "  </thead>\n",
              "  <tbody>\n",
              "    <tr>\n",
              "      <th>0</th>\n",
              "      <td>-2.063438</td>\n",
              "      <td>0.0</td>\n",
              "    </tr>\n",
              "    <tr>\n",
              "      <th>1</th>\n",
              "      <td>-2.010913</td>\n",
              "      <td>0.0</td>\n",
              "    </tr>\n",
              "    <tr>\n",
              "      <th>2</th>\n",
              "      <td>-1.958814</td>\n",
              "      <td>0.0</td>\n",
              "    </tr>\n",
              "    <tr>\n",
              "      <th>3</th>\n",
              "      <td>-1.939118</td>\n",
              "      <td>0.0</td>\n",
              "    </tr>\n",
              "    <tr>\n",
              "      <th>4</th>\n",
              "      <td>-1.797739</td>\n",
              "      <td>0.0</td>\n",
              "    </tr>\n",
              "  </tbody>\n",
              "</table>\n",
              "</div>\n",
              "    <div class=\"colab-df-buttons\">\n",
              "\n",
              "  <div class=\"colab-df-container\">\n",
              "    <button class=\"colab-df-convert\" onclick=\"convertToInteractive('df-0a565541-a70a-4851-9e73-407fcbf762fa')\"\n",
              "            title=\"Convert this dataframe to an interactive table.\"\n",
              "            style=\"display:none;\">\n",
              "\n",
              "  <svg xmlns=\"http://www.w3.org/2000/svg\" height=\"24px\" viewBox=\"0 -960 960 960\">\n",
              "    <path d=\"M120-120v-720h720v720H120Zm60-500h600v-160H180v160Zm220 220h160v-160H400v160Zm0 220h160v-160H400v160ZM180-400h160v-160H180v160Zm440 0h160v-160H620v160ZM180-180h160v-160H180v160Zm440 0h160v-160H620v160Z\"/>\n",
              "  </svg>\n",
              "    </button>\n",
              "\n",
              "  <style>\n",
              "    .colab-df-container {\n",
              "      display:flex;\n",
              "      gap: 12px;\n",
              "    }\n",
              "\n",
              "    .colab-df-convert {\n",
              "      background-color: #E8F0FE;\n",
              "      border: none;\n",
              "      border-radius: 50%;\n",
              "      cursor: pointer;\n",
              "      display: none;\n",
              "      fill: #1967D2;\n",
              "      height: 32px;\n",
              "      padding: 0 0 0 0;\n",
              "      width: 32px;\n",
              "    }\n",
              "\n",
              "    .colab-df-convert:hover {\n",
              "      background-color: #E2EBFA;\n",
              "      box-shadow: 0px 1px 2px rgba(60, 64, 67, 0.3), 0px 1px 3px 1px rgba(60, 64, 67, 0.15);\n",
              "      fill: #174EA6;\n",
              "    }\n",
              "\n",
              "    .colab-df-buttons div {\n",
              "      margin-bottom: 4px;\n",
              "    }\n",
              "\n",
              "    [theme=dark] .colab-df-convert {\n",
              "      background-color: #3B4455;\n",
              "      fill: #D2E3FC;\n",
              "    }\n",
              "\n",
              "    [theme=dark] .colab-df-convert:hover {\n",
              "      background-color: #434B5C;\n",
              "      box-shadow: 0px 1px 3px 1px rgba(0, 0, 0, 0.15);\n",
              "      filter: drop-shadow(0px 1px 2px rgba(0, 0, 0, 0.3));\n",
              "      fill: #FFFFFF;\n",
              "    }\n",
              "  </style>\n",
              "\n",
              "    <script>\n",
              "      const buttonEl =\n",
              "        document.querySelector('#df-0a565541-a70a-4851-9e73-407fcbf762fa button.colab-df-convert');\n",
              "      buttonEl.style.display =\n",
              "        google.colab.kernel.accessAllowed ? 'block' : 'none';\n",
              "\n",
              "      async function convertToInteractive(key) {\n",
              "        const element = document.querySelector('#df-0a565541-a70a-4851-9e73-407fcbf762fa');\n",
              "        const dataTable =\n",
              "          await google.colab.kernel.invokeFunction('convertToInteractive',\n",
              "                                                    [key], {});\n",
              "        if (!dataTable) return;\n",
              "\n",
              "        const docLinkHtml = 'Like what you see? Visit the ' +\n",
              "          '<a target=\"_blank\" href=https://colab.research.google.com/notebooks/data_table.ipynb>data table notebook</a>'\n",
              "          + ' to learn more about interactive tables.';\n",
              "        element.innerHTML = '';\n",
              "        dataTable['output_type'] = 'display_data';\n",
              "        await google.colab.output.renderOutput(dataTable, element);\n",
              "        const docLink = document.createElement('div');\n",
              "        docLink.innerHTML = docLinkHtml;\n",
              "        element.appendChild(docLink);\n",
              "      }\n",
              "    </script>\n",
              "  </div>\n",
              "\n",
              "\n",
              "<div id=\"df-3dc10e34-038a-4791-bd75-8754b2738e32\">\n",
              "  <button class=\"colab-df-quickchart\" onclick=\"quickchart('df-3dc10e34-038a-4791-bd75-8754b2738e32')\"\n",
              "            title=\"Suggest charts\"\n",
              "            style=\"display:none;\">\n",
              "\n",
              "<svg xmlns=\"http://www.w3.org/2000/svg\" height=\"24px\"viewBox=\"0 0 24 24\"\n",
              "     width=\"24px\">\n",
              "    <g>\n",
              "        <path d=\"M19 3H5c-1.1 0-2 .9-2 2v14c0 1.1.9 2 2 2h14c1.1 0 2-.9 2-2V5c0-1.1-.9-2-2-2zM9 17H7v-7h2v7zm4 0h-2V7h2v10zm4 0h-2v-4h2v4z\"/>\n",
              "    </g>\n",
              "</svg>\n",
              "  </button>\n",
              "\n",
              "<style>\n",
              "  .colab-df-quickchart {\n",
              "      --bg-color: #E8F0FE;\n",
              "      --fill-color: #1967D2;\n",
              "      --hover-bg-color: #E2EBFA;\n",
              "      --hover-fill-color: #174EA6;\n",
              "      --disabled-fill-color: #AAA;\n",
              "      --disabled-bg-color: #DDD;\n",
              "  }\n",
              "\n",
              "  [theme=dark] .colab-df-quickchart {\n",
              "      --bg-color: #3B4455;\n",
              "      --fill-color: #D2E3FC;\n",
              "      --hover-bg-color: #434B5C;\n",
              "      --hover-fill-color: #FFFFFF;\n",
              "      --disabled-bg-color: #3B4455;\n",
              "      --disabled-fill-color: #666;\n",
              "  }\n",
              "\n",
              "  .colab-df-quickchart {\n",
              "    background-color: var(--bg-color);\n",
              "    border: none;\n",
              "    border-radius: 50%;\n",
              "    cursor: pointer;\n",
              "    display: none;\n",
              "    fill: var(--fill-color);\n",
              "    height: 32px;\n",
              "    padding: 0;\n",
              "    width: 32px;\n",
              "  }\n",
              "\n",
              "  .colab-df-quickchart:hover {\n",
              "    background-color: var(--hover-bg-color);\n",
              "    box-shadow: 0 1px 2px rgba(60, 64, 67, 0.3), 0 1px 3px 1px rgba(60, 64, 67, 0.15);\n",
              "    fill: var(--button-hover-fill-color);\n",
              "  }\n",
              "\n",
              "  .colab-df-quickchart-complete:disabled,\n",
              "  .colab-df-quickchart-complete:disabled:hover {\n",
              "    background-color: var(--disabled-bg-color);\n",
              "    fill: var(--disabled-fill-color);\n",
              "    box-shadow: none;\n",
              "  }\n",
              "\n",
              "  .colab-df-spinner {\n",
              "    border: 2px solid var(--fill-color);\n",
              "    border-color: transparent;\n",
              "    border-bottom-color: var(--fill-color);\n",
              "    animation:\n",
              "      spin 1s steps(1) infinite;\n",
              "  }\n",
              "\n",
              "  @keyframes spin {\n",
              "    0% {\n",
              "      border-color: transparent;\n",
              "      border-bottom-color: var(--fill-color);\n",
              "      border-left-color: var(--fill-color);\n",
              "    }\n",
              "    20% {\n",
              "      border-color: transparent;\n",
              "      border-left-color: var(--fill-color);\n",
              "      border-top-color: var(--fill-color);\n",
              "    }\n",
              "    30% {\n",
              "      border-color: transparent;\n",
              "      border-left-color: var(--fill-color);\n",
              "      border-top-color: var(--fill-color);\n",
              "      border-right-color: var(--fill-color);\n",
              "    }\n",
              "    40% {\n",
              "      border-color: transparent;\n",
              "      border-right-color: var(--fill-color);\n",
              "      border-top-color: var(--fill-color);\n",
              "    }\n",
              "    60% {\n",
              "      border-color: transparent;\n",
              "      border-right-color: var(--fill-color);\n",
              "    }\n",
              "    80% {\n",
              "      border-color: transparent;\n",
              "      border-right-color: var(--fill-color);\n",
              "      border-bottom-color: var(--fill-color);\n",
              "    }\n",
              "    90% {\n",
              "      border-color: transparent;\n",
              "      border-bottom-color: var(--fill-color);\n",
              "    }\n",
              "  }\n",
              "</style>\n",
              "\n",
              "  <script>\n",
              "    async function quickchart(key) {\n",
              "      const quickchartButtonEl =\n",
              "        document.querySelector('#' + key + ' button');\n",
              "      quickchartButtonEl.disabled = true;  // To prevent multiple clicks.\n",
              "      quickchartButtonEl.classList.add('colab-df-spinner');\n",
              "      try {\n",
              "        const charts = await google.colab.kernel.invokeFunction(\n",
              "            'suggestCharts', [key], {});\n",
              "      } catch (error) {\n",
              "        console.error('Error during call to suggestCharts:', error);\n",
              "      }\n",
              "      quickchartButtonEl.classList.remove('colab-df-spinner');\n",
              "      quickchartButtonEl.classList.add('colab-df-quickchart-complete');\n",
              "    }\n",
              "    (() => {\n",
              "      let quickchartButtonEl =\n",
              "        document.querySelector('#df-3dc10e34-038a-4791-bd75-8754b2738e32 button');\n",
              "      quickchartButtonEl.style.display =\n",
              "        google.colab.kernel.accessAllowed ? 'block' : 'none';\n",
              "    })();\n",
              "  </script>\n",
              "</div>\n",
              "    </div>\n",
              "  </div>\n"
            ],
            "application/vnd.google.colaboratory.intrinsic+json": {
              "type": "dataframe",
              "variable_name": "data",
              "summary": "{\n  \"name\": \"data\",\n  \"rows\": 200,\n  \"fields\": [\n    {\n      \"column\": \"data\",\n      \"properties\": {\n        \"dtype\": \"number\",\n        \"std\": 0.8820029791669036,\n        \"min\": -2.0634380222660256,\n        \"max\": 2.736857883522364,\n        \"num_unique_values\": 200,\n        \"samples\": [\n          0.16037797091131303,\n          -1.1967173244600269,\n          -0.7290612841459853\n        ],\n        \"semantic_type\": \"\",\n        \"description\": \"\"\n      }\n    },\n    {\n      \"column\": \"relu\",\n      \"properties\": {\n        \"dtype\": \"number\",\n        \"std\": 0.5618264464946513,\n        \"min\": 0.0,\n        \"max\": 2.736857883522364,\n        \"num_unique_values\": 122,\n        \"samples\": [\n          0.1617808665628537,\n          0.3635195371689451,\n          0.3872988894179539\n        ],\n        \"semantic_type\": \"\",\n        \"description\": \"\"\n      }\n    }\n  ]\n}"
            }
          },
          "metadata": {},
          "execution_count": 11
        }
      ]
    },
    {
      "cell_type": "code",
      "source": [
        "px.line(data, x='data', y='relu', width=800, range_y=[-0.5, 1.5])"
      ],
      "metadata": {
        "colab": {
          "base_uri": "https://localhost:8080/",
          "height": 542
        },
        "id": "qFVFrGX6iaab",
        "outputId": "150ee6a0-3ba2-41c4-c21b-0cb1bb8f01ec"
      },
      "execution_count": 12,
      "outputs": [
        {
          "output_type": "display_data",
          "data": {
            "text/html": [
              "<html>\n",
              "<head><meta charset=\"utf-8\" /></head>\n",
              "<body>\n",
              "    <div>            <script src=\"https://cdnjs.cloudflare.com/ajax/libs/mathjax/2.7.5/MathJax.js?config=TeX-AMS-MML_SVG\"></script><script type=\"text/javascript\">if (window.MathJax && window.MathJax.Hub && window.MathJax.Hub.Config) {window.MathJax.Hub.Config({SVG: {font: \"STIX-Web\"}});}</script>                <script type=\"text/javascript\">window.PlotlyConfig = {MathJaxConfig: 'local'};</script>\n",
              "        <script charset=\"utf-8\" src=\"https://cdn.plot.ly/plotly-2.24.1.min.js\"></script>                <div id=\"a0de7f8a-528d-443c-be42-5ea87f640049\" class=\"plotly-graph-div\" style=\"height:525px; width:800px;\"></div>            <script type=\"text/javascript\">                                    window.PLOTLYENV=window.PLOTLYENV || {};                                    if (document.getElementById(\"a0de7f8a-528d-443c-be42-5ea87f640049\")) {                    Plotly.newPlot(                        \"a0de7f8a-528d-443c-be42-5ea87f640049\",                        [{\"hovertemplate\":\"data=%{x}\\u003cbr\\u003erelu=%{y}\\u003cextra\\u003e\\u003c\\u002fextra\\u003e\",\"legendgroup\":\"\",\"line\":{\"color\":\"#636efa\",\"dash\":\"solid\"},\"marker\":{\"symbol\":\"circle\"},\"mode\":\"lines\",\"name\":\"\",\"orientation\":\"v\",\"showlegend\":false,\"x\":[-2.0634380222660256,-2.010912925313709,-1.9588141190236352,-1.9391183084399743,-1.797738710501116,-1.6959045593942548,-1.650755510636719,-1.5173868610829746,-1.412295829962106,-1.3661756271237029,-1.3419531949412404,-1.3403217546236033,-1.2903843481923671,-1.2358011561718774,-1.2353726762192163,-1.1967173244600269,-1.191763790261304,-1.1709754549288052,-1.1458910052413929,-1.1378031778843556,-1.0815987580726296,-1.0649494921125644,-1.0009956994655222,-0.910190597829459,-0.8987927011144374,-0.8487873771219907,-0.832283359445527,-0.8318654221961695,-0.7893986934660622,-0.7634714607017744,-0.7290612841459853,-0.7146109288720357,-0.6794725499906407,-0.6084889082407771,-0.5312783395610152,-0.5299077575579368,-0.5260361340387121,-0.5176331335716906,-0.510109351684919,-0.4998577248345042,-0.49625955141322264,-0.49304323674365924,-0.48834950847289643,-0.44639832808982194,-0.4158582137828547,-0.4131967978278376,-0.4008963488180895,-0.39263275554631805,-0.3898464388205246,-0.37021792847775226,-0.36619281389200564,-0.33100710352398066,-0.30531398507626994,-0.3000152448416537,-0.2913094825798057,-0.2839425435593399,-0.2794572085788781,-0.2705823350836322,-0.24745975229260067,-0.2428304376840207,-0.23384934717181982,-0.22932232706527164,-0.21229927688478878,-0.1772199482565926,-0.1690544121316199,-0.16413555870655963,-0.1623262003564448,-0.13872894702513952,-0.13348845916311045,-0.1299689852182806,-0.09357813608478155,-0.08934030870301513,-0.0855935184801083,-0.07256068943036732,-0.06400398534902746,-0.028010287406548776,-0.02568731874249286,-0.01566069148137652,-0.0008874304564958941,0.03916859776204197,0.04372176721447183,0.04521642695221464,0.05786393276497819,0.06246781184322885,0.08228607588461247,0.08382028393237316,0.10526397506310188,0.10590037593945893,0.11695773322499359,0.12416690155003483,0.12997568347854338,0.14095768926124602,0.14296853107358104,0.14892002870018756,0.15517349889111823,0.16037797091131303,0.1617808665628537,0.16369137724315466,0.16948759800861082,0.1766312984652456,0.19013904764060324,0.198357797143278,0.20612454042176645,0.20810286472366765,0.22245694514096442,0.22628709962269325,0.23309297305725885,0.25489150124736915,0.2589404150174319,0.28485554371126554,0.29122392113872375,0.2927097204758706,0.2966847994077771,0.304901479743076,0.30977912433875704,0.3143894236182286,0.31486788869144483,0.3225236791925894,0.3255619505169712,0.33002363161473547,0.33196373101447046,0.34891617290065297,0.3582444809716427,0.3635195371689451,0.38568184100095326,0.3872988894179539,0.3884009025017992,0.4018714972950803,0.41297108389478376,0.426524796690057,0.43778022041982456,0.44654574301365946,0.4565065330357305,0.46441830242696586,0.46911281978644787,0.4926417504958015,0.5055984243066108,0.5089424641496669,0.5135920402221298,0.514048840274262,0.5178012466409143,0.5432828829616512,0.5670880489067449,0.5811147153878884,0.5995658637412252,0.6000516902704137,0.638154991137298,0.655326922900063,0.6631471897316865,0.6690452994985058,0.66955685873091,0.6801145485795052,0.7233510445071174,0.732964755244946,0.7368374322486837,0.7554333384659775,0.7621182555644544,0.7663822281202004,0.7821262693716365,0.7970018911044122,0.8032510999524449,0.8089208539293046,0.8440766342176169,0.865133791315805,0.8706806350793899,0.894389163050985,0.9169585578724818,0.9176127668923445,0.9926426004830168,1.0294882835512875,1.050219746022713,1.061162261580568,1.0718233053181716,1.079169045535317,1.081630382950433,1.1066896872918102,1.1420784644967223,1.184629092646815,1.2357545969422055,1.25402552248451,1.260304624755984,1.2898908553434167,1.3235426363679037,1.3337768830799464,1.3583490219242687,1.3588535971125941,1.404891975907964,1.4202771055514825,1.4538655366955078,1.4890007910029943,1.642781227031671,1.7767216039570708,1.8568964962148993,2.019063274270556,2.0931737936473214,2.1622052022127107,2.1681965602774067,2.185771819062235,2.2034989687529456,2.736857883522364],\"xaxis\":\"x\",\"y\":[0.0,0.0,0.0,0.0,0.0,0.0,0.0,0.0,0.0,0.0,0.0,0.0,0.0,0.0,0.0,0.0,0.0,0.0,0.0,0.0,0.0,0.0,0.0,0.0,0.0,0.0,0.0,0.0,0.0,0.0,0.0,0.0,0.0,0.0,0.0,0.0,0.0,0.0,0.0,0.0,0.0,0.0,0.0,0.0,0.0,0.0,0.0,0.0,0.0,0.0,0.0,0.0,0.0,0.0,0.0,0.0,0.0,0.0,0.0,0.0,0.0,0.0,0.0,0.0,0.0,0.0,0.0,0.0,0.0,0.0,0.0,0.0,0.0,0.0,0.0,0.0,0.0,0.0,0.0,0.03916859776204197,0.04372176721447183,0.04521642695221464,0.05786393276497819,0.06246781184322885,0.08228607588461247,0.08382028393237316,0.10526397506310188,0.10590037593945893,0.11695773322499359,0.12416690155003483,0.12997568347854338,0.14095768926124602,0.14296853107358104,0.14892002870018756,0.15517349889111823,0.16037797091131303,0.1617808665628537,0.16369137724315466,0.16948759800861082,0.1766312984652456,0.19013904764060324,0.198357797143278,0.20612454042176645,0.20810286472366765,0.22245694514096442,0.22628709962269325,0.23309297305725885,0.25489150124736915,0.2589404150174319,0.28485554371126554,0.29122392113872375,0.2927097204758706,0.2966847994077771,0.304901479743076,0.30977912433875704,0.3143894236182286,0.31486788869144483,0.3225236791925894,0.3255619505169712,0.33002363161473547,0.33196373101447046,0.34891617290065297,0.3582444809716427,0.3635195371689451,0.38568184100095326,0.3872988894179539,0.3884009025017992,0.4018714972950803,0.41297108389478376,0.426524796690057,0.43778022041982456,0.44654574301365946,0.4565065330357305,0.46441830242696586,0.46911281978644787,0.4926417504958015,0.5055984243066108,0.5089424641496669,0.5135920402221298,0.514048840274262,0.5178012466409143,0.5432828829616512,0.5670880489067449,0.5811147153878884,0.5995658637412252,0.6000516902704137,0.638154991137298,0.655326922900063,0.6631471897316865,0.6690452994985058,0.66955685873091,0.6801145485795052,0.7233510445071174,0.732964755244946,0.7368374322486837,0.7554333384659775,0.7621182555644544,0.7663822281202004,0.7821262693716365,0.7970018911044122,0.8032510999524449,0.8089208539293046,0.8440766342176169,0.865133791315805,0.8706806350793899,0.894389163050985,0.9169585578724818,0.9176127668923445,0.9926426004830168,1.0294882835512875,1.050219746022713,1.061162261580568,1.0718233053181716,1.079169045535317,1.081630382950433,1.1066896872918102,1.1420784644967223,1.184629092646815,1.2357545969422055,1.25402552248451,1.260304624755984,1.2898908553434167,1.3235426363679037,1.3337768830799464,1.3583490219242687,1.3588535971125941,1.404891975907964,1.4202771055514825,1.4538655366955078,1.4890007910029943,1.642781227031671,1.7767216039570708,1.8568964962148993,2.019063274270556,2.0931737936473214,2.1622052022127107,2.1681965602774067,2.185771819062235,2.2034989687529456,2.736857883522364],\"yaxis\":\"y\",\"type\":\"scatter\"}],                        {\"template\":{\"data\":{\"histogram2dcontour\":[{\"type\":\"histogram2dcontour\",\"colorbar\":{\"outlinewidth\":0,\"ticks\":\"\"},\"colorscale\":[[0.0,\"#0d0887\"],[0.1111111111111111,\"#46039f\"],[0.2222222222222222,\"#7201a8\"],[0.3333333333333333,\"#9c179e\"],[0.4444444444444444,\"#bd3786\"],[0.5555555555555556,\"#d8576b\"],[0.6666666666666666,\"#ed7953\"],[0.7777777777777778,\"#fb9f3a\"],[0.8888888888888888,\"#fdca26\"],[1.0,\"#f0f921\"]]}],\"choropleth\":[{\"type\":\"choropleth\",\"colorbar\":{\"outlinewidth\":0,\"ticks\":\"\"}}],\"histogram2d\":[{\"type\":\"histogram2d\",\"colorbar\":{\"outlinewidth\":0,\"ticks\":\"\"},\"colorscale\":[[0.0,\"#0d0887\"],[0.1111111111111111,\"#46039f\"],[0.2222222222222222,\"#7201a8\"],[0.3333333333333333,\"#9c179e\"],[0.4444444444444444,\"#bd3786\"],[0.5555555555555556,\"#d8576b\"],[0.6666666666666666,\"#ed7953\"],[0.7777777777777778,\"#fb9f3a\"],[0.8888888888888888,\"#fdca26\"],[1.0,\"#f0f921\"]]}],\"heatmap\":[{\"type\":\"heatmap\",\"colorbar\":{\"outlinewidth\":0,\"ticks\":\"\"},\"colorscale\":[[0.0,\"#0d0887\"],[0.1111111111111111,\"#46039f\"],[0.2222222222222222,\"#7201a8\"],[0.3333333333333333,\"#9c179e\"],[0.4444444444444444,\"#bd3786\"],[0.5555555555555556,\"#d8576b\"],[0.6666666666666666,\"#ed7953\"],[0.7777777777777778,\"#fb9f3a\"],[0.8888888888888888,\"#fdca26\"],[1.0,\"#f0f921\"]]}],\"heatmapgl\":[{\"type\":\"heatmapgl\",\"colorbar\":{\"outlinewidth\":0,\"ticks\":\"\"},\"colorscale\":[[0.0,\"#0d0887\"],[0.1111111111111111,\"#46039f\"],[0.2222222222222222,\"#7201a8\"],[0.3333333333333333,\"#9c179e\"],[0.4444444444444444,\"#bd3786\"],[0.5555555555555556,\"#d8576b\"],[0.6666666666666666,\"#ed7953\"],[0.7777777777777778,\"#fb9f3a\"],[0.8888888888888888,\"#fdca26\"],[1.0,\"#f0f921\"]]}],\"contourcarpet\":[{\"type\":\"contourcarpet\",\"colorbar\":{\"outlinewidth\":0,\"ticks\":\"\"}}],\"contour\":[{\"type\":\"contour\",\"colorbar\":{\"outlinewidth\":0,\"ticks\":\"\"},\"colorscale\":[[0.0,\"#0d0887\"],[0.1111111111111111,\"#46039f\"],[0.2222222222222222,\"#7201a8\"],[0.3333333333333333,\"#9c179e\"],[0.4444444444444444,\"#bd3786\"],[0.5555555555555556,\"#d8576b\"],[0.6666666666666666,\"#ed7953\"],[0.7777777777777778,\"#fb9f3a\"],[0.8888888888888888,\"#fdca26\"],[1.0,\"#f0f921\"]]}],\"surface\":[{\"type\":\"surface\",\"colorbar\":{\"outlinewidth\":0,\"ticks\":\"\"},\"colorscale\":[[0.0,\"#0d0887\"],[0.1111111111111111,\"#46039f\"],[0.2222222222222222,\"#7201a8\"],[0.3333333333333333,\"#9c179e\"],[0.4444444444444444,\"#bd3786\"],[0.5555555555555556,\"#d8576b\"],[0.6666666666666666,\"#ed7953\"],[0.7777777777777778,\"#fb9f3a\"],[0.8888888888888888,\"#fdca26\"],[1.0,\"#f0f921\"]]}],\"mesh3d\":[{\"type\":\"mesh3d\",\"colorbar\":{\"outlinewidth\":0,\"ticks\":\"\"}}],\"scatter\":[{\"fillpattern\":{\"fillmode\":\"overlay\",\"size\":10,\"solidity\":0.2},\"type\":\"scatter\"}],\"parcoords\":[{\"type\":\"parcoords\",\"line\":{\"colorbar\":{\"outlinewidth\":0,\"ticks\":\"\"}}}],\"scatterpolargl\":[{\"type\":\"scatterpolargl\",\"marker\":{\"colorbar\":{\"outlinewidth\":0,\"ticks\":\"\"}}}],\"bar\":[{\"error_x\":{\"color\":\"#2a3f5f\"},\"error_y\":{\"color\":\"#2a3f5f\"},\"marker\":{\"line\":{\"color\":\"#E5ECF6\",\"width\":0.5},\"pattern\":{\"fillmode\":\"overlay\",\"size\":10,\"solidity\":0.2}},\"type\":\"bar\"}],\"scattergeo\":[{\"type\":\"scattergeo\",\"marker\":{\"colorbar\":{\"outlinewidth\":0,\"ticks\":\"\"}}}],\"scatterpolar\":[{\"type\":\"scatterpolar\",\"marker\":{\"colorbar\":{\"outlinewidth\":0,\"ticks\":\"\"}}}],\"histogram\":[{\"marker\":{\"pattern\":{\"fillmode\":\"overlay\",\"size\":10,\"solidity\":0.2}},\"type\":\"histogram\"}],\"scattergl\":[{\"type\":\"scattergl\",\"marker\":{\"colorbar\":{\"outlinewidth\":0,\"ticks\":\"\"}}}],\"scatter3d\":[{\"type\":\"scatter3d\",\"line\":{\"colorbar\":{\"outlinewidth\":0,\"ticks\":\"\"}},\"marker\":{\"colorbar\":{\"outlinewidth\":0,\"ticks\":\"\"}}}],\"scattermapbox\":[{\"type\":\"scattermapbox\",\"marker\":{\"colorbar\":{\"outlinewidth\":0,\"ticks\":\"\"}}}],\"scatterternary\":[{\"type\":\"scatterternary\",\"marker\":{\"colorbar\":{\"outlinewidth\":0,\"ticks\":\"\"}}}],\"scattercarpet\":[{\"type\":\"scattercarpet\",\"marker\":{\"colorbar\":{\"outlinewidth\":0,\"ticks\":\"\"}}}],\"carpet\":[{\"aaxis\":{\"endlinecolor\":\"#2a3f5f\",\"gridcolor\":\"white\",\"linecolor\":\"white\",\"minorgridcolor\":\"white\",\"startlinecolor\":\"#2a3f5f\"},\"baxis\":{\"endlinecolor\":\"#2a3f5f\",\"gridcolor\":\"white\",\"linecolor\":\"white\",\"minorgridcolor\":\"white\",\"startlinecolor\":\"#2a3f5f\"},\"type\":\"carpet\"}],\"table\":[{\"cells\":{\"fill\":{\"color\":\"#EBF0F8\"},\"line\":{\"color\":\"white\"}},\"header\":{\"fill\":{\"color\":\"#C8D4E3\"},\"line\":{\"color\":\"white\"}},\"type\":\"table\"}],\"barpolar\":[{\"marker\":{\"line\":{\"color\":\"#E5ECF6\",\"width\":0.5},\"pattern\":{\"fillmode\":\"overlay\",\"size\":10,\"solidity\":0.2}},\"type\":\"barpolar\"}],\"pie\":[{\"automargin\":true,\"type\":\"pie\"}]},\"layout\":{\"autotypenumbers\":\"strict\",\"colorway\":[\"#636efa\",\"#EF553B\",\"#00cc96\",\"#ab63fa\",\"#FFA15A\",\"#19d3f3\",\"#FF6692\",\"#B6E880\",\"#FF97FF\",\"#FECB52\"],\"font\":{\"color\":\"#2a3f5f\"},\"hovermode\":\"closest\",\"hoverlabel\":{\"align\":\"left\"},\"paper_bgcolor\":\"white\",\"plot_bgcolor\":\"#E5ECF6\",\"polar\":{\"bgcolor\":\"#E5ECF6\",\"angularaxis\":{\"gridcolor\":\"white\",\"linecolor\":\"white\",\"ticks\":\"\"},\"radialaxis\":{\"gridcolor\":\"white\",\"linecolor\":\"white\",\"ticks\":\"\"}},\"ternary\":{\"bgcolor\":\"#E5ECF6\",\"aaxis\":{\"gridcolor\":\"white\",\"linecolor\":\"white\",\"ticks\":\"\"},\"baxis\":{\"gridcolor\":\"white\",\"linecolor\":\"white\",\"ticks\":\"\"},\"caxis\":{\"gridcolor\":\"white\",\"linecolor\":\"white\",\"ticks\":\"\"}},\"coloraxis\":{\"colorbar\":{\"outlinewidth\":0,\"ticks\":\"\"}},\"colorscale\":{\"sequential\":[[0.0,\"#0d0887\"],[0.1111111111111111,\"#46039f\"],[0.2222222222222222,\"#7201a8\"],[0.3333333333333333,\"#9c179e\"],[0.4444444444444444,\"#bd3786\"],[0.5555555555555556,\"#d8576b\"],[0.6666666666666666,\"#ed7953\"],[0.7777777777777778,\"#fb9f3a\"],[0.8888888888888888,\"#fdca26\"],[1.0,\"#f0f921\"]],\"sequentialminus\":[[0.0,\"#0d0887\"],[0.1111111111111111,\"#46039f\"],[0.2222222222222222,\"#7201a8\"],[0.3333333333333333,\"#9c179e\"],[0.4444444444444444,\"#bd3786\"],[0.5555555555555556,\"#d8576b\"],[0.6666666666666666,\"#ed7953\"],[0.7777777777777778,\"#fb9f3a\"],[0.8888888888888888,\"#fdca26\"],[1.0,\"#f0f921\"]],\"diverging\":[[0,\"#8e0152\"],[0.1,\"#c51b7d\"],[0.2,\"#de77ae\"],[0.3,\"#f1b6da\"],[0.4,\"#fde0ef\"],[0.5,\"#f7f7f7\"],[0.6,\"#e6f5d0\"],[0.7,\"#b8e186\"],[0.8,\"#7fbc41\"],[0.9,\"#4d9221\"],[1,\"#276419\"]]},\"xaxis\":{\"gridcolor\":\"white\",\"linecolor\":\"white\",\"ticks\":\"\",\"title\":{\"standoff\":15},\"zerolinecolor\":\"white\",\"automargin\":true,\"zerolinewidth\":2},\"yaxis\":{\"gridcolor\":\"white\",\"linecolor\":\"white\",\"ticks\":\"\",\"title\":{\"standoff\":15},\"zerolinecolor\":\"white\",\"automargin\":true,\"zerolinewidth\":2},\"scene\":{\"xaxis\":{\"backgroundcolor\":\"#E5ECF6\",\"gridcolor\":\"white\",\"linecolor\":\"white\",\"showbackground\":true,\"ticks\":\"\",\"zerolinecolor\":\"white\",\"gridwidth\":2},\"yaxis\":{\"backgroundcolor\":\"#E5ECF6\",\"gridcolor\":\"white\",\"linecolor\":\"white\",\"showbackground\":true,\"ticks\":\"\",\"zerolinecolor\":\"white\",\"gridwidth\":2},\"zaxis\":{\"backgroundcolor\":\"#E5ECF6\",\"gridcolor\":\"white\",\"linecolor\":\"white\",\"showbackground\":true,\"ticks\":\"\",\"zerolinecolor\":\"white\",\"gridwidth\":2}},\"shapedefaults\":{\"line\":{\"color\":\"#2a3f5f\"}},\"annotationdefaults\":{\"arrowcolor\":\"#2a3f5f\",\"arrowhead\":0,\"arrowwidth\":1},\"geo\":{\"bgcolor\":\"white\",\"landcolor\":\"#E5ECF6\",\"subunitcolor\":\"white\",\"showland\":true,\"showlakes\":true,\"lakecolor\":\"white\"},\"title\":{\"x\":0.05},\"mapbox\":{\"style\":\"light\"}}},\"xaxis\":{\"anchor\":\"y\",\"domain\":[0.0,1.0],\"title\":{\"text\":\"data\"}},\"yaxis\":{\"anchor\":\"x\",\"domain\":[0.0,1.0],\"title\":{\"text\":\"relu\"},\"range\":[-0.5,1.5]},\"legend\":{\"tracegroupgap\":0},\"margin\":{\"t\":60},\"width\":800},                        {\"responsive\": true}                    ).then(function(){\n",
              "                            \n",
              "var gd = document.getElementById('a0de7f8a-528d-443c-be42-5ea87f640049');\n",
              "var x = new MutationObserver(function (mutations, observer) {{\n",
              "        var display = window.getComputedStyle(gd).display;\n",
              "        if (!display || display === 'none') {{\n",
              "            console.log([gd, 'removed!']);\n",
              "            Plotly.purge(gd);\n",
              "            observer.disconnect();\n",
              "        }}\n",
              "}});\n",
              "\n",
              "// Listen for the removal of the full notebook cells\n",
              "var notebookContainer = gd.closest('#notebook-container');\n",
              "if (notebookContainer) {{\n",
              "    x.observe(notebookContainer, {childList: true});\n",
              "}}\n",
              "\n",
              "// Listen for the clearing of the current output cell\n",
              "var outputEl = gd.closest('.output');\n",
              "if (outputEl) {{\n",
              "    x.observe(outputEl, {childList: true});\n",
              "}}\n",
              "\n",
              "                        })                };                            </script>        </div>\n",
              "</body>\n",
              "</html>"
            ]
          },
          "metadata": {}
        }
      ]
    },
    {
      "cell_type": "code",
      "source": [
        "\n",
        "from tensorflow.keras.activations import tanh\n",
        "\n",
        "data = pd.DataFrame({'data': random_data, 'tanh': tanh(random_data)})\n",
        "data.head()\n",
        ""
      ],
      "metadata": {
        "colab": {
          "base_uri": "https://localhost:8080/",
          "height": 206
        },
        "id": "Bri2SM-PkASY",
        "outputId": "d991800c-76db-40bc-a3af-94dbf7926f33"
      },
      "execution_count": 13,
      "outputs": [
        {
          "output_type": "execute_result",
          "data": {
            "text/plain": [
              "       data      tanh\n",
              "0 -2.063438 -0.968246\n",
              "1 -2.010913 -0.964791\n",
              "2 -1.958814 -0.960999\n",
              "3 -1.939118 -0.959464\n",
              "4 -1.797739 -0.946571"
            ],
            "text/html": [
              "\n",
              "  <div id=\"df-ad8cf10f-e357-4953-97ce-28b5207ad6cc\" class=\"colab-df-container\">\n",
              "    <div>\n",
              "<style scoped>\n",
              "    .dataframe tbody tr th:only-of-type {\n",
              "        vertical-align: middle;\n",
              "    }\n",
              "\n",
              "    .dataframe tbody tr th {\n",
              "        vertical-align: top;\n",
              "    }\n",
              "\n",
              "    .dataframe thead th {\n",
              "        text-align: right;\n",
              "    }\n",
              "</style>\n",
              "<table border=\"1\" class=\"dataframe\">\n",
              "  <thead>\n",
              "    <tr style=\"text-align: right;\">\n",
              "      <th></th>\n",
              "      <th>data</th>\n",
              "      <th>tanh</th>\n",
              "    </tr>\n",
              "  </thead>\n",
              "  <tbody>\n",
              "    <tr>\n",
              "      <th>0</th>\n",
              "      <td>-2.063438</td>\n",
              "      <td>-0.968246</td>\n",
              "    </tr>\n",
              "    <tr>\n",
              "      <th>1</th>\n",
              "      <td>-2.010913</td>\n",
              "      <td>-0.964791</td>\n",
              "    </tr>\n",
              "    <tr>\n",
              "      <th>2</th>\n",
              "      <td>-1.958814</td>\n",
              "      <td>-0.960999</td>\n",
              "    </tr>\n",
              "    <tr>\n",
              "      <th>3</th>\n",
              "      <td>-1.939118</td>\n",
              "      <td>-0.959464</td>\n",
              "    </tr>\n",
              "    <tr>\n",
              "      <th>4</th>\n",
              "      <td>-1.797739</td>\n",
              "      <td>-0.946571</td>\n",
              "    </tr>\n",
              "  </tbody>\n",
              "</table>\n",
              "</div>\n",
              "    <div class=\"colab-df-buttons\">\n",
              "\n",
              "  <div class=\"colab-df-container\">\n",
              "    <button class=\"colab-df-convert\" onclick=\"convertToInteractive('df-ad8cf10f-e357-4953-97ce-28b5207ad6cc')\"\n",
              "            title=\"Convert this dataframe to an interactive table.\"\n",
              "            style=\"display:none;\">\n",
              "\n",
              "  <svg xmlns=\"http://www.w3.org/2000/svg\" height=\"24px\" viewBox=\"0 -960 960 960\">\n",
              "    <path d=\"M120-120v-720h720v720H120Zm60-500h600v-160H180v160Zm220 220h160v-160H400v160Zm0 220h160v-160H400v160ZM180-400h160v-160H180v160Zm440 0h160v-160H620v160ZM180-180h160v-160H180v160Zm440 0h160v-160H620v160Z\"/>\n",
              "  </svg>\n",
              "    </button>\n",
              "\n",
              "  <style>\n",
              "    .colab-df-container {\n",
              "      display:flex;\n",
              "      gap: 12px;\n",
              "    }\n",
              "\n",
              "    .colab-df-convert {\n",
              "      background-color: #E8F0FE;\n",
              "      border: none;\n",
              "      border-radius: 50%;\n",
              "      cursor: pointer;\n",
              "      display: none;\n",
              "      fill: #1967D2;\n",
              "      height: 32px;\n",
              "      padding: 0 0 0 0;\n",
              "      width: 32px;\n",
              "    }\n",
              "\n",
              "    .colab-df-convert:hover {\n",
              "      background-color: #E2EBFA;\n",
              "      box-shadow: 0px 1px 2px rgba(60, 64, 67, 0.3), 0px 1px 3px 1px rgba(60, 64, 67, 0.15);\n",
              "      fill: #174EA6;\n",
              "    }\n",
              "\n",
              "    .colab-df-buttons div {\n",
              "      margin-bottom: 4px;\n",
              "    }\n",
              "\n",
              "    [theme=dark] .colab-df-convert {\n",
              "      background-color: #3B4455;\n",
              "      fill: #D2E3FC;\n",
              "    }\n",
              "\n",
              "    [theme=dark] .colab-df-convert:hover {\n",
              "      background-color: #434B5C;\n",
              "      box-shadow: 0px 1px 3px 1px rgba(0, 0, 0, 0.15);\n",
              "      filter: drop-shadow(0px 1px 2px rgba(0, 0, 0, 0.3));\n",
              "      fill: #FFFFFF;\n",
              "    }\n",
              "  </style>\n",
              "\n",
              "    <script>\n",
              "      const buttonEl =\n",
              "        document.querySelector('#df-ad8cf10f-e357-4953-97ce-28b5207ad6cc button.colab-df-convert');\n",
              "      buttonEl.style.display =\n",
              "        google.colab.kernel.accessAllowed ? 'block' : 'none';\n",
              "\n",
              "      async function convertToInteractive(key) {\n",
              "        const element = document.querySelector('#df-ad8cf10f-e357-4953-97ce-28b5207ad6cc');\n",
              "        const dataTable =\n",
              "          await google.colab.kernel.invokeFunction('convertToInteractive',\n",
              "                                                    [key], {});\n",
              "        if (!dataTable) return;\n",
              "\n",
              "        const docLinkHtml = 'Like what you see? Visit the ' +\n",
              "          '<a target=\"_blank\" href=https://colab.research.google.com/notebooks/data_table.ipynb>data table notebook</a>'\n",
              "          + ' to learn more about interactive tables.';\n",
              "        element.innerHTML = '';\n",
              "        dataTable['output_type'] = 'display_data';\n",
              "        await google.colab.output.renderOutput(dataTable, element);\n",
              "        const docLink = document.createElement('div');\n",
              "        docLink.innerHTML = docLinkHtml;\n",
              "        element.appendChild(docLink);\n",
              "      }\n",
              "    </script>\n",
              "  </div>\n",
              "\n",
              "\n",
              "<div id=\"df-858f65a5-abe0-499c-878d-b31d2c07b720\">\n",
              "  <button class=\"colab-df-quickchart\" onclick=\"quickchart('df-858f65a5-abe0-499c-878d-b31d2c07b720')\"\n",
              "            title=\"Suggest charts\"\n",
              "            style=\"display:none;\">\n",
              "\n",
              "<svg xmlns=\"http://www.w3.org/2000/svg\" height=\"24px\"viewBox=\"0 0 24 24\"\n",
              "     width=\"24px\">\n",
              "    <g>\n",
              "        <path d=\"M19 3H5c-1.1 0-2 .9-2 2v14c0 1.1.9 2 2 2h14c1.1 0 2-.9 2-2V5c0-1.1-.9-2-2-2zM9 17H7v-7h2v7zm4 0h-2V7h2v10zm4 0h-2v-4h2v4z\"/>\n",
              "    </g>\n",
              "</svg>\n",
              "  </button>\n",
              "\n",
              "<style>\n",
              "  .colab-df-quickchart {\n",
              "      --bg-color: #E8F0FE;\n",
              "      --fill-color: #1967D2;\n",
              "      --hover-bg-color: #E2EBFA;\n",
              "      --hover-fill-color: #174EA6;\n",
              "      --disabled-fill-color: #AAA;\n",
              "      --disabled-bg-color: #DDD;\n",
              "  }\n",
              "\n",
              "  [theme=dark] .colab-df-quickchart {\n",
              "      --bg-color: #3B4455;\n",
              "      --fill-color: #D2E3FC;\n",
              "      --hover-bg-color: #434B5C;\n",
              "      --hover-fill-color: #FFFFFF;\n",
              "      --disabled-bg-color: #3B4455;\n",
              "      --disabled-fill-color: #666;\n",
              "  }\n",
              "\n",
              "  .colab-df-quickchart {\n",
              "    background-color: var(--bg-color);\n",
              "    border: none;\n",
              "    border-radius: 50%;\n",
              "    cursor: pointer;\n",
              "    display: none;\n",
              "    fill: var(--fill-color);\n",
              "    height: 32px;\n",
              "    padding: 0;\n",
              "    width: 32px;\n",
              "  }\n",
              "\n",
              "  .colab-df-quickchart:hover {\n",
              "    background-color: var(--hover-bg-color);\n",
              "    box-shadow: 0 1px 2px rgba(60, 64, 67, 0.3), 0 1px 3px 1px rgba(60, 64, 67, 0.15);\n",
              "    fill: var(--button-hover-fill-color);\n",
              "  }\n",
              "\n",
              "  .colab-df-quickchart-complete:disabled,\n",
              "  .colab-df-quickchart-complete:disabled:hover {\n",
              "    background-color: var(--disabled-bg-color);\n",
              "    fill: var(--disabled-fill-color);\n",
              "    box-shadow: none;\n",
              "  }\n",
              "\n",
              "  .colab-df-spinner {\n",
              "    border: 2px solid var(--fill-color);\n",
              "    border-color: transparent;\n",
              "    border-bottom-color: var(--fill-color);\n",
              "    animation:\n",
              "      spin 1s steps(1) infinite;\n",
              "  }\n",
              "\n",
              "  @keyframes spin {\n",
              "    0% {\n",
              "      border-color: transparent;\n",
              "      border-bottom-color: var(--fill-color);\n",
              "      border-left-color: var(--fill-color);\n",
              "    }\n",
              "    20% {\n",
              "      border-color: transparent;\n",
              "      border-left-color: var(--fill-color);\n",
              "      border-top-color: var(--fill-color);\n",
              "    }\n",
              "    30% {\n",
              "      border-color: transparent;\n",
              "      border-left-color: var(--fill-color);\n",
              "      border-top-color: var(--fill-color);\n",
              "      border-right-color: var(--fill-color);\n",
              "    }\n",
              "    40% {\n",
              "      border-color: transparent;\n",
              "      border-right-color: var(--fill-color);\n",
              "      border-top-color: var(--fill-color);\n",
              "    }\n",
              "    60% {\n",
              "      border-color: transparent;\n",
              "      border-right-color: var(--fill-color);\n",
              "    }\n",
              "    80% {\n",
              "      border-color: transparent;\n",
              "      border-right-color: var(--fill-color);\n",
              "      border-bottom-color: var(--fill-color);\n",
              "    }\n",
              "    90% {\n",
              "      border-color: transparent;\n",
              "      border-bottom-color: var(--fill-color);\n",
              "    }\n",
              "  }\n",
              "</style>\n",
              "\n",
              "  <script>\n",
              "    async function quickchart(key) {\n",
              "      const quickchartButtonEl =\n",
              "        document.querySelector('#' + key + ' button');\n",
              "      quickchartButtonEl.disabled = true;  // To prevent multiple clicks.\n",
              "      quickchartButtonEl.classList.add('colab-df-spinner');\n",
              "      try {\n",
              "        const charts = await google.colab.kernel.invokeFunction(\n",
              "            'suggestCharts', [key], {});\n",
              "      } catch (error) {\n",
              "        console.error('Error during call to suggestCharts:', error);\n",
              "      }\n",
              "      quickchartButtonEl.classList.remove('colab-df-spinner');\n",
              "      quickchartButtonEl.classList.add('colab-df-quickchart-complete');\n",
              "    }\n",
              "    (() => {\n",
              "      let quickchartButtonEl =\n",
              "        document.querySelector('#df-858f65a5-abe0-499c-878d-b31d2c07b720 button');\n",
              "      quickchartButtonEl.style.display =\n",
              "        google.colab.kernel.accessAllowed ? 'block' : 'none';\n",
              "    })();\n",
              "  </script>\n",
              "</div>\n",
              "    </div>\n",
              "  </div>\n"
            ],
            "application/vnd.google.colaboratory.intrinsic+json": {
              "type": "dataframe",
              "variable_name": "data",
              "summary": "{\n  \"name\": \"data\",\n  \"rows\": 200,\n  \"fields\": [\n    {\n      \"column\": \"data\",\n      \"properties\": {\n        \"dtype\": \"number\",\n        \"std\": 0.8820029791669036,\n        \"min\": -2.0634380222660256,\n        \"max\": 2.736857883522364,\n        \"num_unique_values\": 200,\n        \"samples\": [\n          0.16037797091131303,\n          -1.1967173244600269,\n          -0.7290612841459853\n        ],\n        \"semantic_type\": \"\",\n        \"description\": \"\"\n      }\n    },\n    {\n      \"column\": \"tanh\",\n      \"properties\": {\n        \"dtype\": \"number\",\n        \"std\": 0.5701815945304226,\n        \"min\": -0.9682458961374533,\n        \"max\": 0.9916438327729548,\n        \"num_unique_values\": 200,\n        \"samples\": [\n          0.15901693981683893,\n          -0.832650581303434,\n          -0.6224907170805039\n        ],\n        \"semantic_type\": \"\",\n        \"description\": \"\"\n      }\n    }\n  ]\n}"
            }
          },
          "metadata": {},
          "execution_count": 13
        }
      ]
    },
    {
      "cell_type": "code",
      "source": [
        "px.line(data, x='data', y='tanh', width=800, range_y=[-1.5, 1.5])"
      ],
      "metadata": {
        "colab": {
          "base_uri": "https://localhost:8080/",
          "height": 542
        },
        "id": "qnl0t74GkFt3",
        "outputId": "f3b5a75f-a6a1-46b4-bff5-979018bd91f4"
      },
      "execution_count": 14,
      "outputs": [
        {
          "output_type": "display_data",
          "data": {
            "text/html": [
              "<html>\n",
              "<head><meta charset=\"utf-8\" /></head>\n",
              "<body>\n",
              "    <div>            <script src=\"https://cdnjs.cloudflare.com/ajax/libs/mathjax/2.7.5/MathJax.js?config=TeX-AMS-MML_SVG\"></script><script type=\"text/javascript\">if (window.MathJax && window.MathJax.Hub && window.MathJax.Hub.Config) {window.MathJax.Hub.Config({SVG: {font: \"STIX-Web\"}});}</script>                <script type=\"text/javascript\">window.PlotlyConfig = {MathJaxConfig: 'local'};</script>\n",
              "        <script charset=\"utf-8\" src=\"https://cdn.plot.ly/plotly-2.24.1.min.js\"></script>                <div id=\"b320949a-eac4-4bd9-80ca-950a11072f76\" class=\"plotly-graph-div\" style=\"height:525px; width:800px;\"></div>            <script type=\"text/javascript\">                                    window.PLOTLYENV=window.PLOTLYENV || {};                                    if (document.getElementById(\"b320949a-eac4-4bd9-80ca-950a11072f76\")) {                    Plotly.newPlot(                        \"b320949a-eac4-4bd9-80ca-950a11072f76\",                        [{\"hovertemplate\":\"data=%{x}\\u003cbr\\u003etanh=%{y}\\u003cextra\\u003e\\u003c\\u002fextra\\u003e\",\"legendgroup\":\"\",\"line\":{\"color\":\"#636efa\",\"dash\":\"solid\"},\"marker\":{\"symbol\":\"circle\"},\"mode\":\"lines\",\"name\":\"\",\"orientation\":\"v\",\"showlegend\":false,\"x\":[-2.0634380222660256,-2.010912925313709,-1.9588141190236352,-1.9391183084399743,-1.797738710501116,-1.6959045593942548,-1.650755510636719,-1.5173868610829746,-1.412295829962106,-1.3661756271237029,-1.3419531949412404,-1.3403217546236033,-1.2903843481923671,-1.2358011561718774,-1.2353726762192163,-1.1967173244600269,-1.191763790261304,-1.1709754549288052,-1.1458910052413929,-1.1378031778843556,-1.0815987580726296,-1.0649494921125644,-1.0009956994655222,-0.910190597829459,-0.8987927011144374,-0.8487873771219907,-0.832283359445527,-0.8318654221961695,-0.7893986934660622,-0.7634714607017744,-0.7290612841459853,-0.7146109288720357,-0.6794725499906407,-0.6084889082407771,-0.5312783395610152,-0.5299077575579368,-0.5260361340387121,-0.5176331335716906,-0.510109351684919,-0.4998577248345042,-0.49625955141322264,-0.49304323674365924,-0.48834950847289643,-0.44639832808982194,-0.4158582137828547,-0.4131967978278376,-0.4008963488180895,-0.39263275554631805,-0.3898464388205246,-0.37021792847775226,-0.36619281389200564,-0.33100710352398066,-0.30531398507626994,-0.3000152448416537,-0.2913094825798057,-0.2839425435593399,-0.2794572085788781,-0.2705823350836322,-0.24745975229260067,-0.2428304376840207,-0.23384934717181982,-0.22932232706527164,-0.21229927688478878,-0.1772199482565926,-0.1690544121316199,-0.16413555870655963,-0.1623262003564448,-0.13872894702513952,-0.13348845916311045,-0.1299689852182806,-0.09357813608478155,-0.08934030870301513,-0.0855935184801083,-0.07256068943036732,-0.06400398534902746,-0.028010287406548776,-0.02568731874249286,-0.01566069148137652,-0.0008874304564958941,0.03916859776204197,0.04372176721447183,0.04521642695221464,0.05786393276497819,0.06246781184322885,0.08228607588461247,0.08382028393237316,0.10526397506310188,0.10590037593945893,0.11695773322499359,0.12416690155003483,0.12997568347854338,0.14095768926124602,0.14296853107358104,0.14892002870018756,0.15517349889111823,0.16037797091131303,0.1617808665628537,0.16369137724315466,0.16948759800861082,0.1766312984652456,0.19013904764060324,0.198357797143278,0.20612454042176645,0.20810286472366765,0.22245694514096442,0.22628709962269325,0.23309297305725885,0.25489150124736915,0.2589404150174319,0.28485554371126554,0.29122392113872375,0.2927097204758706,0.2966847994077771,0.304901479743076,0.30977912433875704,0.3143894236182286,0.31486788869144483,0.3225236791925894,0.3255619505169712,0.33002363161473547,0.33196373101447046,0.34891617290065297,0.3582444809716427,0.3635195371689451,0.38568184100095326,0.3872988894179539,0.3884009025017992,0.4018714972950803,0.41297108389478376,0.426524796690057,0.43778022041982456,0.44654574301365946,0.4565065330357305,0.46441830242696586,0.46911281978644787,0.4926417504958015,0.5055984243066108,0.5089424641496669,0.5135920402221298,0.514048840274262,0.5178012466409143,0.5432828829616512,0.5670880489067449,0.5811147153878884,0.5995658637412252,0.6000516902704137,0.638154991137298,0.655326922900063,0.6631471897316865,0.6690452994985058,0.66955685873091,0.6801145485795052,0.7233510445071174,0.732964755244946,0.7368374322486837,0.7554333384659775,0.7621182555644544,0.7663822281202004,0.7821262693716365,0.7970018911044122,0.8032510999524449,0.8089208539293046,0.8440766342176169,0.865133791315805,0.8706806350793899,0.894389163050985,0.9169585578724818,0.9176127668923445,0.9926426004830168,1.0294882835512875,1.050219746022713,1.061162261580568,1.0718233053181716,1.079169045535317,1.081630382950433,1.1066896872918102,1.1420784644967223,1.184629092646815,1.2357545969422055,1.25402552248451,1.260304624755984,1.2898908553434167,1.3235426363679037,1.3337768830799464,1.3583490219242687,1.3588535971125941,1.404891975907964,1.4202771055514825,1.4538655366955078,1.4890007910029943,1.642781227031671,1.7767216039570708,1.8568964962148993,2.019063274270556,2.0931737936473214,2.1622052022127107,2.1681965602774067,2.185771819062235,2.2034989687529456,2.736857883522364],\"xaxis\":\"x\",\"y\":[-0.9682458961374533,-0.9647905304505983,-0.960999237419841,-0.9594640333448587,-0.9465713353374047,-0.9348951341305914,-0.9289612225599785,-0.9082411875851163,-0.8879806697152947,-0.8778176842001995,-0.8721405822294379,-0.8717495069549174,-0.8592271663848214,-0.8442538059485576,-0.8441306867600227,-0.832650581303434,-0.8311250874742344,-0.8245846258589011,-0.8163882756935166,-0.8136730338940974,-0.7937912214437342,-0.7875508363514003,-0.762012007180676,-0.7212237224144902,-0.7157095068892794,-0.6904354367526828,-0.6817001572802222,-0.6814763780399059,-0.6580682624090609,-0.6431171734790218,-0.6224907170805039,-0.6135600864704932,-0.5911763906618052,-0.5430625280212382,-0.4863576535376665,-0.48531057684639134,-0.4823452658816601,-0.4758711939302629,-0.4700303960849017,-0.4620052579222686,-0.45917041016384996,-0.4566284698625896,-0.45290547669253517,-0.41893393378303295,-0.3934354740823909,-0.39118367008425603,-0.38071565175551814,-0.37362768213772446,-0.3712278365277137,-0.3541823176011491,-0.3506571274145181,-0.3194254137516336,-0.29616807450084787,-0.29132656350770747,-0.28333961456386103,-0.27655005392570153,-0.2724026403406147,-0.264166616166493,-0.24252931043343395,-0.23816742814921602,-0.22967784754987414,-0.22538520243690793,-0.20916623611313753,-0.17538765318416005,-0.16746212144026193,-0.1626773074216249,-0.16091531505667678,-0.1378457658613296,-0.1327011856520518,-0.1292420870025271,-0.09330593903459249,-0.0891033695720906,-0.08538510270477136,-0.07243361174440072,-0.06391673066378059,-0.02800296430312956,-0.025681670407328282,-0.015659411307549803,-0.0008874302235357656,0.03914857949921547,0.04369392909333281,0.04518563675671699,0.057799438464279866,0.06238668393460946,0.08210085788652448,0.08362453140982197,0.10487689792868757,0.10550625683687635,0.11642734252633184,0.12353270128839454,0.12924867337258344,0.14003148363065704,0.14200233760334444,0.14782883236318897,0.15393991418821618,0.15901693981683893,0.160384055427069,0.16224484951466162,0.1678831286750672,0.1748170519042632,0.18788034876621126,0.19579658239525055,0.20325408686928345,0.20514991740334254,0.21885857507186648,0.22250219656604495,0.2289612492647926,0.24951120762021275,0.25330420025594585,0.27739301481417383,0.28326092020208915,0.28462692791553934,0.2882758281750754,0.2957917063310095,0.30023614493282624,0.3044250359498999,0.3048590962057115,0.3117870598840067,0.3145273729826956,0.3185420108007295,0.32028417138336623,0.335414000478576,0.34366678901402037,0.34831036364844675,0.36763162337020616,0.3690292907246125,0.36998084142509585,0.3815491482109674,0.3909924790718301,0.40241294548122364,0.4118027827353677,0.4190554690496402,0.42723266670464366,0.4336783964877508,0.43748221116248603,0.456310639084558,0.4665086182133784,0.4691208088771179,0.47273921400843677,0.47309385069733095,0.47600122682063956,0.4954689629552146,0.5132175190184909,0.5234751559693038,0.5367405732670513,0.537086347623932,0.5636419982854565,0.5752450947420742,0.5804540421684765,0.5843515315568185,0.5846883096373282,0.5915938589679348,0.6189807266355856,0.6248758062635519,0.6272306096954975,0.6383792256147659,0.6423229628864946,0.6448208543282329,0.653925435977683,0.6623573234940863,0.6658503927685199,0.6689945196510347,0.6879622845924831,0.6988932876112092,0.7017197790903593,0.7135548608240962,0.724455411698378,0.7247661212026669,0.7584868818523453,0.7737030265566742,0.7818917755319341,0.7861082880464865,0.7901471648939329,0.7928907467581949,0.7938029190499639,0.8028891313392197,0.8151127907466025,0.8289056942035805,0.8442404319587319,0.8494086087034286,0.8511480698610289,0.8590979503745793,0.8676622308972011,0.8701693995105456,0.8760095930540979,0.8761269090071518,0.8864044924320102,0.8896567182149961,0.8964545818608002,0.9031407176572382,0.9278603665412625,0.9443414662354466,0.9523912210905748,0.9653499539881583,0.9700518499749141,0.9738633746511394,0.9741706728879725,0.9750516868812451,0.9759102480744443,0.9916438327729548],\"yaxis\":\"y\",\"type\":\"scatter\"}],                        {\"template\":{\"data\":{\"histogram2dcontour\":[{\"type\":\"histogram2dcontour\",\"colorbar\":{\"outlinewidth\":0,\"ticks\":\"\"},\"colorscale\":[[0.0,\"#0d0887\"],[0.1111111111111111,\"#46039f\"],[0.2222222222222222,\"#7201a8\"],[0.3333333333333333,\"#9c179e\"],[0.4444444444444444,\"#bd3786\"],[0.5555555555555556,\"#d8576b\"],[0.6666666666666666,\"#ed7953\"],[0.7777777777777778,\"#fb9f3a\"],[0.8888888888888888,\"#fdca26\"],[1.0,\"#f0f921\"]]}],\"choropleth\":[{\"type\":\"choropleth\",\"colorbar\":{\"outlinewidth\":0,\"ticks\":\"\"}}],\"histogram2d\":[{\"type\":\"histogram2d\",\"colorbar\":{\"outlinewidth\":0,\"ticks\":\"\"},\"colorscale\":[[0.0,\"#0d0887\"],[0.1111111111111111,\"#46039f\"],[0.2222222222222222,\"#7201a8\"],[0.3333333333333333,\"#9c179e\"],[0.4444444444444444,\"#bd3786\"],[0.5555555555555556,\"#d8576b\"],[0.6666666666666666,\"#ed7953\"],[0.7777777777777778,\"#fb9f3a\"],[0.8888888888888888,\"#fdca26\"],[1.0,\"#f0f921\"]]}],\"heatmap\":[{\"type\":\"heatmap\",\"colorbar\":{\"outlinewidth\":0,\"ticks\":\"\"},\"colorscale\":[[0.0,\"#0d0887\"],[0.1111111111111111,\"#46039f\"],[0.2222222222222222,\"#7201a8\"],[0.3333333333333333,\"#9c179e\"],[0.4444444444444444,\"#bd3786\"],[0.5555555555555556,\"#d8576b\"],[0.6666666666666666,\"#ed7953\"],[0.7777777777777778,\"#fb9f3a\"],[0.8888888888888888,\"#fdca26\"],[1.0,\"#f0f921\"]]}],\"heatmapgl\":[{\"type\":\"heatmapgl\",\"colorbar\":{\"outlinewidth\":0,\"ticks\":\"\"},\"colorscale\":[[0.0,\"#0d0887\"],[0.1111111111111111,\"#46039f\"],[0.2222222222222222,\"#7201a8\"],[0.3333333333333333,\"#9c179e\"],[0.4444444444444444,\"#bd3786\"],[0.5555555555555556,\"#d8576b\"],[0.6666666666666666,\"#ed7953\"],[0.7777777777777778,\"#fb9f3a\"],[0.8888888888888888,\"#fdca26\"],[1.0,\"#f0f921\"]]}],\"contourcarpet\":[{\"type\":\"contourcarpet\",\"colorbar\":{\"outlinewidth\":0,\"ticks\":\"\"}}],\"contour\":[{\"type\":\"contour\",\"colorbar\":{\"outlinewidth\":0,\"ticks\":\"\"},\"colorscale\":[[0.0,\"#0d0887\"],[0.1111111111111111,\"#46039f\"],[0.2222222222222222,\"#7201a8\"],[0.3333333333333333,\"#9c179e\"],[0.4444444444444444,\"#bd3786\"],[0.5555555555555556,\"#d8576b\"],[0.6666666666666666,\"#ed7953\"],[0.7777777777777778,\"#fb9f3a\"],[0.8888888888888888,\"#fdca26\"],[1.0,\"#f0f921\"]]}],\"surface\":[{\"type\":\"surface\",\"colorbar\":{\"outlinewidth\":0,\"ticks\":\"\"},\"colorscale\":[[0.0,\"#0d0887\"],[0.1111111111111111,\"#46039f\"],[0.2222222222222222,\"#7201a8\"],[0.3333333333333333,\"#9c179e\"],[0.4444444444444444,\"#bd3786\"],[0.5555555555555556,\"#d8576b\"],[0.6666666666666666,\"#ed7953\"],[0.7777777777777778,\"#fb9f3a\"],[0.8888888888888888,\"#fdca26\"],[1.0,\"#f0f921\"]]}],\"mesh3d\":[{\"type\":\"mesh3d\",\"colorbar\":{\"outlinewidth\":0,\"ticks\":\"\"}}],\"scatter\":[{\"fillpattern\":{\"fillmode\":\"overlay\",\"size\":10,\"solidity\":0.2},\"type\":\"scatter\"}],\"parcoords\":[{\"type\":\"parcoords\",\"line\":{\"colorbar\":{\"outlinewidth\":0,\"ticks\":\"\"}}}],\"scatterpolargl\":[{\"type\":\"scatterpolargl\",\"marker\":{\"colorbar\":{\"outlinewidth\":0,\"ticks\":\"\"}}}],\"bar\":[{\"error_x\":{\"color\":\"#2a3f5f\"},\"error_y\":{\"color\":\"#2a3f5f\"},\"marker\":{\"line\":{\"color\":\"#E5ECF6\",\"width\":0.5},\"pattern\":{\"fillmode\":\"overlay\",\"size\":10,\"solidity\":0.2}},\"type\":\"bar\"}],\"scattergeo\":[{\"type\":\"scattergeo\",\"marker\":{\"colorbar\":{\"outlinewidth\":0,\"ticks\":\"\"}}}],\"scatterpolar\":[{\"type\":\"scatterpolar\",\"marker\":{\"colorbar\":{\"outlinewidth\":0,\"ticks\":\"\"}}}],\"histogram\":[{\"marker\":{\"pattern\":{\"fillmode\":\"overlay\",\"size\":10,\"solidity\":0.2}},\"type\":\"histogram\"}],\"scattergl\":[{\"type\":\"scattergl\",\"marker\":{\"colorbar\":{\"outlinewidth\":0,\"ticks\":\"\"}}}],\"scatter3d\":[{\"type\":\"scatter3d\",\"line\":{\"colorbar\":{\"outlinewidth\":0,\"ticks\":\"\"}},\"marker\":{\"colorbar\":{\"outlinewidth\":0,\"ticks\":\"\"}}}],\"scattermapbox\":[{\"type\":\"scattermapbox\",\"marker\":{\"colorbar\":{\"outlinewidth\":0,\"ticks\":\"\"}}}],\"scatterternary\":[{\"type\":\"scatterternary\",\"marker\":{\"colorbar\":{\"outlinewidth\":0,\"ticks\":\"\"}}}],\"scattercarpet\":[{\"type\":\"scattercarpet\",\"marker\":{\"colorbar\":{\"outlinewidth\":0,\"ticks\":\"\"}}}],\"carpet\":[{\"aaxis\":{\"endlinecolor\":\"#2a3f5f\",\"gridcolor\":\"white\",\"linecolor\":\"white\",\"minorgridcolor\":\"white\",\"startlinecolor\":\"#2a3f5f\"},\"baxis\":{\"endlinecolor\":\"#2a3f5f\",\"gridcolor\":\"white\",\"linecolor\":\"white\",\"minorgridcolor\":\"white\",\"startlinecolor\":\"#2a3f5f\"},\"type\":\"carpet\"}],\"table\":[{\"cells\":{\"fill\":{\"color\":\"#EBF0F8\"},\"line\":{\"color\":\"white\"}},\"header\":{\"fill\":{\"color\":\"#C8D4E3\"},\"line\":{\"color\":\"white\"}},\"type\":\"table\"}],\"barpolar\":[{\"marker\":{\"line\":{\"color\":\"#E5ECF6\",\"width\":0.5},\"pattern\":{\"fillmode\":\"overlay\",\"size\":10,\"solidity\":0.2}},\"type\":\"barpolar\"}],\"pie\":[{\"automargin\":true,\"type\":\"pie\"}]},\"layout\":{\"autotypenumbers\":\"strict\",\"colorway\":[\"#636efa\",\"#EF553B\",\"#00cc96\",\"#ab63fa\",\"#FFA15A\",\"#19d3f3\",\"#FF6692\",\"#B6E880\",\"#FF97FF\",\"#FECB52\"],\"font\":{\"color\":\"#2a3f5f\"},\"hovermode\":\"closest\",\"hoverlabel\":{\"align\":\"left\"},\"paper_bgcolor\":\"white\",\"plot_bgcolor\":\"#E5ECF6\",\"polar\":{\"bgcolor\":\"#E5ECF6\",\"angularaxis\":{\"gridcolor\":\"white\",\"linecolor\":\"white\",\"ticks\":\"\"},\"radialaxis\":{\"gridcolor\":\"white\",\"linecolor\":\"white\",\"ticks\":\"\"}},\"ternary\":{\"bgcolor\":\"#E5ECF6\",\"aaxis\":{\"gridcolor\":\"white\",\"linecolor\":\"white\",\"ticks\":\"\"},\"baxis\":{\"gridcolor\":\"white\",\"linecolor\":\"white\",\"ticks\":\"\"},\"caxis\":{\"gridcolor\":\"white\",\"linecolor\":\"white\",\"ticks\":\"\"}},\"coloraxis\":{\"colorbar\":{\"outlinewidth\":0,\"ticks\":\"\"}},\"colorscale\":{\"sequential\":[[0.0,\"#0d0887\"],[0.1111111111111111,\"#46039f\"],[0.2222222222222222,\"#7201a8\"],[0.3333333333333333,\"#9c179e\"],[0.4444444444444444,\"#bd3786\"],[0.5555555555555556,\"#d8576b\"],[0.6666666666666666,\"#ed7953\"],[0.7777777777777778,\"#fb9f3a\"],[0.8888888888888888,\"#fdca26\"],[1.0,\"#f0f921\"]],\"sequentialminus\":[[0.0,\"#0d0887\"],[0.1111111111111111,\"#46039f\"],[0.2222222222222222,\"#7201a8\"],[0.3333333333333333,\"#9c179e\"],[0.4444444444444444,\"#bd3786\"],[0.5555555555555556,\"#d8576b\"],[0.6666666666666666,\"#ed7953\"],[0.7777777777777778,\"#fb9f3a\"],[0.8888888888888888,\"#fdca26\"],[1.0,\"#f0f921\"]],\"diverging\":[[0,\"#8e0152\"],[0.1,\"#c51b7d\"],[0.2,\"#de77ae\"],[0.3,\"#f1b6da\"],[0.4,\"#fde0ef\"],[0.5,\"#f7f7f7\"],[0.6,\"#e6f5d0\"],[0.7,\"#b8e186\"],[0.8,\"#7fbc41\"],[0.9,\"#4d9221\"],[1,\"#276419\"]]},\"xaxis\":{\"gridcolor\":\"white\",\"linecolor\":\"white\",\"ticks\":\"\",\"title\":{\"standoff\":15},\"zerolinecolor\":\"white\",\"automargin\":true,\"zerolinewidth\":2},\"yaxis\":{\"gridcolor\":\"white\",\"linecolor\":\"white\",\"ticks\":\"\",\"title\":{\"standoff\":15},\"zerolinecolor\":\"white\",\"automargin\":true,\"zerolinewidth\":2},\"scene\":{\"xaxis\":{\"backgroundcolor\":\"#E5ECF6\",\"gridcolor\":\"white\",\"linecolor\":\"white\",\"showbackground\":true,\"ticks\":\"\",\"zerolinecolor\":\"white\",\"gridwidth\":2},\"yaxis\":{\"backgroundcolor\":\"#E5ECF6\",\"gridcolor\":\"white\",\"linecolor\":\"white\",\"showbackground\":true,\"ticks\":\"\",\"zerolinecolor\":\"white\",\"gridwidth\":2},\"zaxis\":{\"backgroundcolor\":\"#E5ECF6\",\"gridcolor\":\"white\",\"linecolor\":\"white\",\"showbackground\":true,\"ticks\":\"\",\"zerolinecolor\":\"white\",\"gridwidth\":2}},\"shapedefaults\":{\"line\":{\"color\":\"#2a3f5f\"}},\"annotationdefaults\":{\"arrowcolor\":\"#2a3f5f\",\"arrowhead\":0,\"arrowwidth\":1},\"geo\":{\"bgcolor\":\"white\",\"landcolor\":\"#E5ECF6\",\"subunitcolor\":\"white\",\"showland\":true,\"showlakes\":true,\"lakecolor\":\"white\"},\"title\":{\"x\":0.05},\"mapbox\":{\"style\":\"light\"}}},\"xaxis\":{\"anchor\":\"y\",\"domain\":[0.0,1.0],\"title\":{\"text\":\"data\"}},\"yaxis\":{\"anchor\":\"x\",\"domain\":[0.0,1.0],\"title\":{\"text\":\"tanh\"},\"range\":[-1.5,1.5]},\"legend\":{\"tracegroupgap\":0},\"margin\":{\"t\":60},\"width\":800},                        {\"responsive\": true}                    ).then(function(){\n",
              "                            \n",
              "var gd = document.getElementById('b320949a-eac4-4bd9-80ca-950a11072f76');\n",
              "var x = new MutationObserver(function (mutations, observer) {{\n",
              "        var display = window.getComputedStyle(gd).display;\n",
              "        if (!display || display === 'none') {{\n",
              "            console.log([gd, 'removed!']);\n",
              "            Plotly.purge(gd);\n",
              "            observer.disconnect();\n",
              "        }}\n",
              "}});\n",
              "\n",
              "// Listen for the removal of the full notebook cells\n",
              "var notebookContainer = gd.closest('#notebook-container');\n",
              "if (notebookContainer) {{\n",
              "    x.observe(notebookContainer, {childList: true});\n",
              "}}\n",
              "\n",
              "// Listen for the clearing of the current output cell\n",
              "var outputEl = gd.closest('.output');\n",
              "if (outputEl) {{\n",
              "    x.observe(outputEl, {childList: true});\n",
              "}}\n",
              "\n",
              "                        })                };                            </script>        </div>\n",
              "</body>\n",
              "</html>"
            ]
          },
          "metadata": {}
        }
      ]
    },
    {
      "cell_type": "code",
      "source": [
        "model = Sequential()\n",
        "model.add(Dense(units=8, activation='relu', input_shape=(10,)))\n",
        "model.add(Dense(units=1, activation='sigmoid'))\n",
        "model.summary()"
      ],
      "metadata": {
        "colab": {
          "base_uri": "https://localhost:8080/"
        },
        "id": "DbXBS7XskOoY",
        "outputId": "465adfc5-a878-44e1-e8c6-70ea3c530e36"
      },
      "execution_count": 15,
      "outputs": [
        {
          "output_type": "stream",
          "name": "stdout",
          "text": [
            "Model: \"sequential_1\"\n",
            "_________________________________________________________________\n",
            " Layer (type)                Output Shape              Param #   \n",
            "=================================================================\n",
            " dense_2 (Dense)             (None, 8)                 88        \n",
            "                                                                 \n",
            " dense_3 (Dense)             (None, 1)                 9         \n",
            "                                                                 \n",
            "=================================================================\n",
            "Total params: 97 (388.00 Byte)\n",
            "Trainable params: 97 (388.00 Byte)\n",
            "Non-trainable params: 0 (0.00 Byte)\n",
            "_________________________________________________________________\n"
          ]
        }
      ]
    },
    {
      "cell_type": "code",
      "source": [
        "# klasyfikacja binarna\n",
        "model.compile(optimizer='rmsprop',\n",
        "              loss='binary_crossentropy', #musi tak być w klasyfikacji binarnej\n",
        "              metrics=['accuracy'])\n",
        "\n",
        "# klasyfikacja wieloklasowa\n",
        "model.compile(optimizer='rmsprop',\n",
        "              loss='categorical_crossentropy', #musi tak być w klasyfikacji wieloklasowej\n",
        "              metrics=['accuracy'])\n",
        "\n",
        "# regresja\n",
        "model.compile(optimizer='rmsprop',\n",
        "              loss='mse') #mse lub mae\n",
        ""
      ],
      "metadata": {
        "id": "LfQ8pTQTlGZG"
      },
      "execution_count": 16,
      "outputs": []
    },
    {
      "cell_type": "markdown",
      "source": [
        "# **Klasyfikacja binarna**"
      ],
      "metadata": {
        "id": "Yz0zGw0an3NZ"
      }
    },
    {
      "cell_type": "code",
      "source": [
        "data=np.random.randn(1000,150) #1000 tablic po 150 zmiennych w każdej\n",
        "labels = np.random.randint(2,size=(1000,1))\n",
        "\n",
        "print(data.shape)\n",
        "print(labels.shape)"
      ],
      "metadata": {
        "colab": {
          "base_uri": "https://localhost:8080/"
        },
        "id": "CRXm0yuYoG_p",
        "outputId": "05a67aeb-a455-4fb1-a60c-0721ccb7b889"
      },
      "execution_count": 17,
      "outputs": [
        {
          "output_type": "stream",
          "name": "stdout",
          "text": [
            "(1000, 150)\n",
            "(1000, 1)\n"
          ]
        }
      ]
    },
    {
      "cell_type": "code",
      "source": [
        "data[:3]"
      ],
      "metadata": {
        "colab": {
          "base_uri": "https://localhost:8080/"
        },
        "id": "mjfzy8nPoeWP",
        "outputId": "ea3124a6-87ed-4308-c6e4-eb52033b4240"
      },
      "execution_count": 18,
      "outputs": [
        {
          "output_type": "execute_result",
          "data": {
            "text/plain": [
              "array([[-1.52711055e+00, -3.59861510e-01,  6.99666529e-01,\n",
              "        -9.98679566e-01, -1.35867964e+00,  4.10676500e-01,\n",
              "        -1.91395965e+00,  1.98743472e-01,  2.03757751e+00,\n",
              "         7.08521823e-01, -2.04364335e-01, -3.95434207e-01,\n",
              "         1.46400690e+00, -5.88341320e-01, -5.11847797e-01,\n",
              "         9.42098154e-01,  1.10996508e+00, -2.13727955e-01,\n",
              "        -5.11685115e-01,  5.78439247e-01,  5.22381635e-01,\n",
              "         6.20654458e-01,  1.12006710e+00,  3.07089320e-01,\n",
              "        -1.32245353e+00, -2.29435498e+00,  1.49228966e+00,\n",
              "         1.54188307e-01, -1.95954210e+00,  6.88785600e-02,\n",
              "        -1.24247617e+00, -2.83492244e-01, -8.73775450e-01,\n",
              "        -4.59012458e-01, -8.83453838e-01, -6.46427881e-01,\n",
              "         3.32550262e-01,  2.76839788e-01, -1.83859471e-01,\n",
              "         1.33773238e+00,  2.05969774e-01,  7.23422419e-01,\n",
              "         1.94797245e-01,  8.43570687e-02, -5.76733979e-02,\n",
              "        -8.09282284e-01, -2.73741909e+00,  7.42602378e-01,\n",
              "        -1.25714997e-01, -6.51771220e-02, -7.05412091e-01,\n",
              "         6.18447308e-01, -1.48121361e-01,  1.24088264e+00,\n",
              "         5.23522796e-01,  5.92389676e-01, -2.04793204e-01,\n",
              "        -1.81643143e+00, -1.49326185e+00,  2.69220303e-01,\n",
              "        -1.88170672e+00, -8.93990077e-01,  4.82399716e-01,\n",
              "         3.18518135e-02, -5.12378915e-02,  1.62396765e-01,\n",
              "         1.19491158e+00, -8.21605043e-01, -6.82874866e-01,\n",
              "        -7.79819608e-01, -3.95474130e-02,  1.68338861e+00,\n",
              "         3.95183999e-01, -1.32440970e+00,  1.59462467e+00,\n",
              "         9.70775739e-01, -2.00713254e+00, -2.94830778e-01,\n",
              "         1.14052137e+00, -4.95603420e-01, -4.27447531e-01,\n",
              "         1.16664796e+00, -7.30821751e-01,  2.04860736e+00,\n",
              "        -1.93074192e+00,  1.49423619e+00, -5.79898392e-01,\n",
              "        -3.13797215e-01, -2.80697981e-01,  4.96702300e-01,\n",
              "        -2.27570404e-01, -2.00310118e-01, -2.94192836e-01,\n",
              "        -1.19647205e-01, -6.23317487e-01,  1.16470337e+00,\n",
              "        -8.45340212e-01, -2.33676152e-01, -1.51747260e+00,\n",
              "         1.30733424e+00, -1.12288200e+00, -8.33791495e-01,\n",
              "        -4.61663631e-01,  9.97258778e-02, -2.21639961e+00,\n",
              "         1.26881843e+00, -2.09995632e+00, -1.04975823e-01,\n",
              "        -2.48050892e-01,  4.55379851e-01, -9.89394404e-01,\n",
              "         8.87139871e-02,  8.73313283e-01,  3.99274144e-01,\n",
              "         3.34811874e-02,  6.73530453e-01, -8.56966551e-01,\n",
              "        -1.00569962e+00, -8.00721013e-01,  1.12542239e+00,\n",
              "         5.82506383e-01,  2.98692040e-01,  1.65010370e+00,\n",
              "         1.14599877e+00, -4.13769525e-01,  1.48532269e+00,\n",
              "        -8.93117539e-02,  6.20206359e-01, -2.24424380e-01,\n",
              "        -3.24514630e-01, -6.98097911e-01,  1.57395623e+00,\n",
              "         6.54366282e-01, -4.63414325e-01, -1.40395292e+00,\n",
              "        -1.23168270e+00,  3.25882802e-01,  1.26924600e-01,\n",
              "         7.27726598e-01,  3.26149519e-01, -6.79096610e-01,\n",
              "        -1.87232349e-01, -2.78551695e-02, -1.23667670e+00,\n",
              "         5.33442317e-02,  6.75135073e-01,  4.16877678e-01,\n",
              "        -4.65005767e-01,  1.48493237e+00,  8.76148985e-02],\n",
              "       [-2.50554500e-01, -1.25563034e+00,  1.19633674e+00,\n",
              "         3.32428412e-01, -1.39009595e+00, -9.87983068e-01,\n",
              "         2.81922982e-01, -1.09835530e+00, -5.46174630e-01,\n",
              "        -4.57902071e-01,  6.81217447e-02,  3.70182698e-02,\n",
              "         4.63733618e-01,  1.50441780e+00, -3.14522804e-01,\n",
              "         5.51294748e-01, -1.28038945e+00, -1.18713417e+00,\n",
              "         8.58628720e-01,  3.72986615e-01, -2.38093862e+00,\n",
              "        -1.27161166e+00,  7.76233147e-02, -9.70637428e-01,\n",
              "         2.20786762e+00, -1.78058586e-01,  8.86309147e-01,\n",
              "         7.07263834e-01,  1.03306967e+00, -1.55306412e+00,\n",
              "        -2.94424344e-01, -8.44433554e-01,  8.09006485e-01,\n",
              "        -6.16486926e-01, -1.59062030e+00, -5.29169760e-02,\n",
              "        -2.26868366e-01, -2.56384832e-02,  7.33880107e-01,\n",
              "         1.02804941e+00,  1.01573758e+00, -4.98567442e-02,\n",
              "         1.25024535e+00, -9.05855023e-01,  1.45997091e-01,\n",
              "        -8.24457888e-01,  1.13139324e+00, -2.18717924e-01,\n",
              "         1.11950573e+00, -8.15962553e-01,  1.86125365e+00,\n",
              "         1.86225410e-01,  2.09486196e+00,  6.37090359e-01,\n",
              "        -1.33294911e+00, -1.00169939e+00,  2.92282778e-01,\n",
              "        -1.66261414e+00, -1.01855777e+00,  6.72188115e-02,\n",
              "        -4.82718562e-01, -1.17891957e+00,  7.26080069e-01,\n",
              "         8.26481604e-01,  9.92683327e-01,  5.88256217e-01,\n",
              "         7.09747517e-01,  8.20699521e-01,  3.22782294e-01,\n",
              "        -1.98712038e-01,  1.09945255e-01,  1.41048354e-01,\n",
              "         1.19605453e+00, -3.58979518e-01,  1.61152556e+00,\n",
              "        -1.37586977e+00,  4.26131340e-01,  1.08003825e-01,\n",
              "         1.50053048e+00, -9.59764301e-01, -1.49878010e-01,\n",
              "         7.74788641e-01,  5.46548125e-01, -7.09754016e-01,\n",
              "         5.99363910e-01, -1.31604799e+00,  1.28288025e+00,\n",
              "         1.75347556e+00,  6.74832295e-02, -6.83866374e-01,\n",
              "        -1.80222651e-01,  2.52416888e-01, -1.86196908e+00,\n",
              "         5.12986210e-01, -1.08143331e+00,  1.22041596e+00,\n",
              "        -1.15259960e+00,  4.22407991e-02, -6.88451405e-01,\n",
              "        -1.78255327e+00, -2.92959499e-01, -5.85809990e-01,\n",
              "         1.05549503e-01,  7.41958257e-01,  4.23890105e-01,\n",
              "        -1.37909734e+00,  1.87670932e+00,  4.11498526e-01,\n",
              "         5.87993043e-01,  6.51619496e-01, -1.60473871e+00,\n",
              "        -1.11250211e+00, -5.20273916e-01, -1.72210361e+00,\n",
              "         4.12592043e-01,  1.51888923e+00, -3.93050758e-01,\n",
              "        -4.49487212e-01, -1.30773844e+00, -9.84692054e-01,\n",
              "        -7.60950110e-01,  7.91955472e-01, -7.10866468e-01,\n",
              "         8.13754937e-01, -3.82055534e-01,  1.16504696e-04,\n",
              "        -4.98444645e-01, -2.26668902e-01,  1.46290402e-02,\n",
              "         8.78345527e-01, -1.32840754e+00, -4.58103364e-01,\n",
              "         3.03193705e-01, -9.04807807e-01,  9.36527540e-01,\n",
              "         8.69048124e-01, -5.19539381e-01, -7.84319736e-01,\n",
              "        -9.40923468e-01,  1.53054679e+00,  1.15882951e+00,\n",
              "         1.31972483e+00, -1.56679067e+00,  2.05208502e-01,\n",
              "        -6.51945127e-01,  1.46830152e+00, -5.41773345e-01,\n",
              "         8.00552358e-02,  1.05512793e-01,  4.32581024e-01],\n",
              "       [ 2.45521799e+00,  2.73581335e+00,  3.73865523e-01,\n",
              "        -7.23286538e-01, -2.30782469e-02, -6.86737207e-01,\n",
              "        -6.00171778e-01, -9.35654340e-01, -4.67872277e-01,\n",
              "        -6.69547376e-01,  1.23606784e+00,  6.91835348e-01,\n",
              "        -1.59606348e-01, -8.71363268e-01,  3.81761440e-02,\n",
              "        -1.04648552e+00,  3.58046139e-01, -2.53388027e-01,\n",
              "         1.42898667e+00, -1.17779654e+00, -9.85300517e-01,\n",
              "        -4.82101831e-01, -5.73427958e-01,  1.54463379e+00,\n",
              "        -1.24717163e+00,  2.60408417e-01,  1.12761274e-01,\n",
              "         4.48025227e-01, -3.42226291e-01, -5.12575342e-01,\n",
              "         7.23564989e-01,  8.51212904e-01, -9.71122677e-01,\n",
              "        -5.03066979e-01, -2.52098046e+00,  5.71537249e-01,\n",
              "        -5.50092133e-01,  4.19235378e-01,  8.65355429e-01,\n",
              "        -2.06227019e-01, -5.71532392e-02, -1.04825518e+00,\n",
              "         6.26241905e-01,  5.40736345e-01, -3.51922471e-01,\n",
              "        -1.83172432e+00,  1.44401588e+00, -5.21671969e-01,\n",
              "         1.25919186e+00, -3.54078698e-01,  4.70539974e-01,\n",
              "         7.76583358e-01,  3.96566481e-01, -1.66331518e-01,\n",
              "        -1.89084803e-01, -1.78004888e+00,  3.35066136e-01,\n",
              "         1.67101278e+00, -7.40711501e-01, -3.04624049e-01,\n",
              "         2.35488414e+00, -1.33027215e+00, -2.10347548e-01,\n",
              "         5.70711593e-01,  1.57511041e+00, -1.37837705e+00,\n",
              "        -1.14577424e-01,  7.37396022e-01, -1.06731037e+00,\n",
              "        -2.28062933e-01,  2.01108354e-01, -2.25567870e+00,\n",
              "        -5.05742245e-02, -9.82274777e-01, -3.00371120e-01,\n",
              "         7.30497339e-01,  1.74487624e+00, -6.21211597e-01,\n",
              "        -1.59438849e-01, -1.15367844e+00, -7.86751202e-01,\n",
              "        -1.07948403e-01, -2.17106404e-01, -1.21941095e-02,\n",
              "         1.47833567e+00,  1.07221023e-01, -1.22263255e+00,\n",
              "        -2.58370793e-01, -3.89558614e-01, -3.79219627e-01,\n",
              "         2.79186980e-01,  6.62835765e-01,  9.87484594e-01,\n",
              "         7.43746079e-01,  1.06280936e+00,  5.24245332e-01,\n",
              "         2.42866172e+00,  7.62315797e-01,  1.25824332e-01,\n",
              "         1.89550394e-01, -3.54078991e-01,  2.37246558e-01,\n",
              "        -3.62233608e-01,  5.01712017e-01, -6.02639764e-01,\n",
              "        -6.89445307e-02,  1.18940650e-01, -1.09035544e+00,\n",
              "         9.65824317e-02, -2.07503595e+00, -5.97950922e-01,\n",
              "        -1.59524582e+00, -1.36614002e+00,  2.91014716e-01,\n",
              "        -1.35214210e+00,  3.93458924e-01,  8.48893654e-01,\n",
              "        -6.95025073e-01,  1.48043767e+00, -2.07389288e-01,\n",
              "        -1.09406175e+00, -1.97883963e-01, -5.75742520e-01,\n",
              "         3.25813297e-01,  8.79615732e-02, -1.63668085e+00,\n",
              "        -2.99193637e-02,  1.07346231e+00,  2.50849927e-01,\n",
              "         9.89003536e-02, -1.72086799e+00, -1.70203423e-01,\n",
              "        -7.61086906e-01, -1.79340541e+00,  5.75554705e-01,\n",
              "         3.18254076e-01,  2.00761101e-01, -1.31362336e+00,\n",
              "         8.78180278e-01,  2.02810822e+00, -1.39182769e+00,\n",
              "         1.19751649e+00,  7.34991359e-01, -7.87473707e-01,\n",
              "        -1.70043457e-02, -7.94462732e-01,  1.05507244e+00,\n",
              "        -3.04240609e-01, -9.39412528e-01, -1.32645844e+00]])"
            ]
          },
          "metadata": {},
          "execution_count": 18
        }
      ]
    },
    {
      "cell_type": "code",
      "source": [
        "labels[:10]"
      ],
      "metadata": {
        "colab": {
          "base_uri": "https://localhost:8080/"
        },
        "id": "IqX3-w6Wr9bJ",
        "outputId": "ceddd218-3b90-411f-ee00-4084e192daf4"
      },
      "execution_count": 19,
      "outputs": [
        {
          "output_type": "execute_result",
          "data": {
            "text/plain": [
              "array([[1],\n",
              "       [1],\n",
              "       [1],\n",
              "       [1],\n",
              "       [1],\n",
              "       [0],\n",
              "       [0],\n",
              "       [1],\n",
              "       [0],\n",
              "       [1]])"
            ]
          },
          "metadata": {},
          "execution_count": 19
        }
      ]
    },
    {
      "cell_type": "code",
      "source": [
        "model= Sequential()\n",
        "model.add(Dense(units=32,activation='relu', input_shape=(150,))) #ilośc neuronów to często potęga 2 a funkcja aktywacji to relu żeby uczył się nie liniowych rozwiązań (przestrzeń poszukiwania rozwiązań jest większa)\n",
        "#na tym etapie mamy 2 warstwy warstwa wejściowa (150) oraz warstwa ukryta (gęsta) to nasze 32 neurony\n",
        "\n",
        "model.add(Dense(1,activation='sigmoid'))  #ta warstwa przekonwertuje dane otrzymane z warstwy wyżej na wartość prawdopodobieństwa\n",
        "\n",
        "model.compile(optimizer='rmsprop',\n",
        "              loss = 'binary_crossentropy',\n",
        "              metrics=['accuracy'])\n",
        "model.fit(data,labels,epochs=20)"
      ],
      "metadata": {
        "colab": {
          "base_uri": "https://localhost:8080/"
        },
        "id": "Eyo9XT-zscVg",
        "outputId": "bc2ad3eb-d4f8-4aa3-a9be-7f4c73b4c67b"
      },
      "execution_count": 20,
      "outputs": [
        {
          "output_type": "stream",
          "name": "stdout",
          "text": [
            "Epoch 1/20\n",
            "32/32 [==============================] - 1s 3ms/step - loss: 0.8531 - accuracy: 0.5000\n",
            "Epoch 2/20\n",
            "32/32 [==============================] - 0s 4ms/step - loss: 0.7147 - accuracy: 0.5500\n",
            "Epoch 3/20\n",
            "32/32 [==============================] - 0s 5ms/step - loss: 0.6532 - accuracy: 0.6140\n",
            "Epoch 4/20\n",
            "32/32 [==============================] - 0s 4ms/step - loss: 0.6151 - accuracy: 0.6740\n",
            "Epoch 5/20\n",
            "32/32 [==============================] - 0s 4ms/step - loss: 0.5823 - accuracy: 0.7060\n",
            "Epoch 6/20\n",
            "32/32 [==============================] - 0s 4ms/step - loss: 0.5544 - accuracy: 0.7370\n",
            "Epoch 7/20\n",
            "32/32 [==============================] - 0s 3ms/step - loss: 0.5274 - accuracy: 0.7730\n",
            "Epoch 8/20\n",
            "32/32 [==============================] - 0s 2ms/step - loss: 0.5028 - accuracy: 0.7850\n",
            "Epoch 9/20\n",
            "32/32 [==============================] - 0s 2ms/step - loss: 0.4779 - accuracy: 0.8160\n",
            "Epoch 10/20\n",
            "32/32 [==============================] - 0s 2ms/step - loss: 0.4554 - accuracy: 0.8270\n",
            "Epoch 11/20\n",
            "32/32 [==============================] - 0s 2ms/step - loss: 0.4327 - accuracy: 0.8550\n",
            "Epoch 12/20\n",
            "32/32 [==============================] - 0s 2ms/step - loss: 0.4110 - accuracy: 0.8600\n",
            "Epoch 13/20\n",
            "32/32 [==============================] - 0s 2ms/step - loss: 0.3895 - accuracy: 0.8880\n",
            "Epoch 14/20\n",
            "32/32 [==============================] - 0s 2ms/step - loss: 0.3674 - accuracy: 0.8960\n",
            "Epoch 15/20\n",
            "32/32 [==============================] - 0s 2ms/step - loss: 0.3476 - accuracy: 0.9110\n",
            "Epoch 16/20\n",
            "32/32 [==============================] - 0s 2ms/step - loss: 0.3270 - accuracy: 0.9210\n",
            "Epoch 17/20\n",
            "32/32 [==============================] - 0s 2ms/step - loss: 0.3081 - accuracy: 0.9320\n",
            "Epoch 18/20\n",
            "32/32 [==============================] - 0s 2ms/step - loss: 0.2884 - accuracy: 0.9470\n",
            "Epoch 19/20\n",
            "32/32 [==============================] - 0s 2ms/step - loss: 0.2690 - accuracy: 0.9660\n",
            "Epoch 20/20\n",
            "32/32 [==============================] - 0s 2ms/step - loss: 0.2508 - accuracy: 0.9710\n"
          ]
        },
        {
          "output_type": "execute_result",
          "data": {
            "text/plain": [
              "<keras.src.callbacks.History at 0x794547b5b670>"
            ]
          },
          "metadata": {},
          "execution_count": 20
        }
      ]
    },
    {
      "cell_type": "code",
      "source": [
        "model= Sequential()\n",
        "model.add(Dense(units=32,activation='relu', input_shape=(150,)))\n",
        "\n",
        "\n",
        "model.add(Dense(1,activation='sigmoid'))\n",
        "\n",
        "model.compile(optimizer='rmsprop',\n",
        "              loss = 'binary_crossentropy',\n",
        "              metrics=['accuracy'])\n",
        "model.fit(data,labels,epochs=20, batch_size=30) #batch_size oznacza rozmiar wsadu, nasza sieć (wagi) będzie aktualizowana po 30 próbek (z 1000)"
      ],
      "metadata": {
        "colab": {
          "base_uri": "https://localhost:8080/"
        },
        "id": "DkiKmBg0vFok",
        "outputId": "5062ab9a-54ed-4b2e-a37c-02021eb3059b"
      },
      "execution_count": 21,
      "outputs": [
        {
          "output_type": "stream",
          "name": "stdout",
          "text": [
            "Epoch 1/20\n",
            "34/34 [==============================] - 1s 2ms/step - loss: 0.8869 - accuracy: 0.5070\n",
            "Epoch 2/20\n",
            "34/34 [==============================] - 0s 2ms/step - loss: 0.7448 - accuracy: 0.5410\n",
            "Epoch 3/20\n",
            "34/34 [==============================] - 0s 2ms/step - loss: 0.6766 - accuracy: 0.6000\n",
            "Epoch 4/20\n",
            "34/34 [==============================] - 0s 2ms/step - loss: 0.6313 - accuracy: 0.6470\n",
            "Epoch 5/20\n",
            "34/34 [==============================] - 0s 2ms/step - loss: 0.5944 - accuracy: 0.6840\n",
            "Epoch 6/20\n",
            "34/34 [==============================] - 0s 2ms/step - loss: 0.5648 - accuracy: 0.7260\n",
            "Epoch 7/20\n",
            "34/34 [==============================] - 0s 2ms/step - loss: 0.5375 - accuracy: 0.7590\n",
            "Epoch 8/20\n",
            "34/34 [==============================] - 0s 2ms/step - loss: 0.5126 - accuracy: 0.7720\n",
            "Epoch 9/20\n",
            "34/34 [==============================] - 0s 2ms/step - loss: 0.4890 - accuracy: 0.7970\n",
            "Epoch 10/20\n",
            "34/34 [==============================] - 0s 2ms/step - loss: 0.4663 - accuracy: 0.8120\n",
            "Epoch 11/20\n",
            "34/34 [==============================] - 0s 2ms/step - loss: 0.4444 - accuracy: 0.8360\n",
            "Epoch 12/20\n",
            "34/34 [==============================] - 0s 2ms/step - loss: 0.4226 - accuracy: 0.8510\n",
            "Epoch 13/20\n",
            "34/34 [==============================] - 0s 2ms/step - loss: 0.4002 - accuracy: 0.8620\n",
            "Epoch 14/20\n",
            "34/34 [==============================] - 0s 2ms/step - loss: 0.3805 - accuracy: 0.8780\n",
            "Epoch 15/20\n",
            "34/34 [==============================] - 0s 2ms/step - loss: 0.3598 - accuracy: 0.8920\n",
            "Epoch 16/20\n",
            "34/34 [==============================] - 0s 2ms/step - loss: 0.3378 - accuracy: 0.9180\n",
            "Epoch 17/20\n",
            "34/34 [==============================] - 0s 2ms/step - loss: 0.3193 - accuracy: 0.9230\n",
            "Epoch 18/20\n",
            "34/34 [==============================] - 0s 2ms/step - loss: 0.2982 - accuracy: 0.9390\n",
            "Epoch 19/20\n",
            "34/34 [==============================] - 0s 2ms/step - loss: 0.2787 - accuracy: 0.9540\n",
            "Epoch 20/20\n",
            "34/34 [==============================] - 0s 2ms/step - loss: 0.2592 - accuracy: 0.9650\n"
          ]
        },
        {
          "output_type": "execute_result",
          "data": {
            "text/plain": [
              "<keras.src.callbacks.History at 0x79453f3398d0>"
            ]
          },
          "metadata": {},
          "execution_count": 21
        }
      ]
    },
    {
      "cell_type": "code",
      "source": [
        "model= Sequential()\n",
        "model.add(Dense(units=32,activation='relu', input_shape=(150,)))\n",
        "\n",
        "\n",
        "model.add(Dense(1,activation='sigmoid'))\n",
        "\n",
        "model.compile(optimizer='rmsprop',\n",
        "              loss = 'binary_crossentropy',\n",
        "              metrics=['accuracy'])\n",
        "model.fit(data,labels,epochs=20, batch_size=30, validation_split=0.2) #20% naszych danych treningowych idzie na testowe"
      ],
      "metadata": {
        "colab": {
          "base_uri": "https://localhost:8080/"
        },
        "id": "HsOOcsb8z-t0",
        "outputId": "eda295ec-e5f4-4425-a5ca-7bcb4634d58d"
      },
      "execution_count": 22,
      "outputs": [
        {
          "output_type": "stream",
          "name": "stdout",
          "text": [
            "Epoch 1/20\n",
            "27/27 [==============================] - 1s 10ms/step - loss: 0.9131 - accuracy: 0.5025 - val_loss: 0.8821 - val_accuracy: 0.4900\n",
            "Epoch 2/20\n",
            "27/27 [==============================] - 0s 3ms/step - loss: 0.7494 - accuracy: 0.5387 - val_loss: 0.8244 - val_accuracy: 0.5250\n",
            "Epoch 3/20\n",
            "27/27 [==============================] - 0s 3ms/step - loss: 0.6740 - accuracy: 0.5813 - val_loss: 0.7950 - val_accuracy: 0.5050\n",
            "Epoch 4/20\n",
            "27/27 [==============================] - 0s 3ms/step - loss: 0.6242 - accuracy: 0.6313 - val_loss: 0.7882 - val_accuracy: 0.4850\n",
            "Epoch 5/20\n",
            "27/27 [==============================] - 0s 3ms/step - loss: 0.5854 - accuracy: 0.6662 - val_loss: 0.7885 - val_accuracy: 0.4750\n",
            "Epoch 6/20\n",
            "27/27 [==============================] - 0s 3ms/step - loss: 0.5507 - accuracy: 0.7300 - val_loss: 0.7935 - val_accuracy: 0.4850\n",
            "Epoch 7/20\n",
            "27/27 [==============================] - 0s 4ms/step - loss: 0.5212 - accuracy: 0.7500 - val_loss: 0.8007 - val_accuracy: 0.4850\n",
            "Epoch 8/20\n",
            "27/27 [==============================] - 0s 4ms/step - loss: 0.4931 - accuracy: 0.7788 - val_loss: 0.8078 - val_accuracy: 0.4750\n",
            "Epoch 9/20\n",
            "27/27 [==============================] - 0s 4ms/step - loss: 0.4669 - accuracy: 0.8163 - val_loss: 0.8221 - val_accuracy: 0.4750\n",
            "Epoch 10/20\n",
            "27/27 [==============================] - 0s 3ms/step - loss: 0.4427 - accuracy: 0.8288 - val_loss: 0.8345 - val_accuracy: 0.4700\n",
            "Epoch 11/20\n",
            "27/27 [==============================] - 0s 3ms/step - loss: 0.4191 - accuracy: 0.8438 - val_loss: 0.8463 - val_accuracy: 0.4650\n",
            "Epoch 12/20\n",
            "27/27 [==============================] - 0s 3ms/step - loss: 0.3966 - accuracy: 0.8550 - val_loss: 0.8610 - val_accuracy: 0.4650\n",
            "Epoch 13/20\n",
            "27/27 [==============================] - 0s 3ms/step - loss: 0.3743 - accuracy: 0.8800 - val_loss: 0.8765 - val_accuracy: 0.4650\n",
            "Epoch 14/20\n",
            "27/27 [==============================] - 0s 3ms/step - loss: 0.3530 - accuracy: 0.8925 - val_loss: 0.8890 - val_accuracy: 0.4600\n",
            "Epoch 15/20\n",
            "27/27 [==============================] - 0s 3ms/step - loss: 0.3320 - accuracy: 0.9062 - val_loss: 0.9046 - val_accuracy: 0.4700\n",
            "Epoch 16/20\n",
            "27/27 [==============================] - 0s 4ms/step - loss: 0.3109 - accuracy: 0.9212 - val_loss: 0.9167 - val_accuracy: 0.4550\n",
            "Epoch 17/20\n",
            "27/27 [==============================] - 0s 5ms/step - loss: 0.2906 - accuracy: 0.9400 - val_loss: 0.9294 - val_accuracy: 0.4550\n",
            "Epoch 18/20\n",
            "27/27 [==============================] - 0s 5ms/step - loss: 0.2705 - accuracy: 0.9513 - val_loss: 0.9498 - val_accuracy: 0.4500\n",
            "Epoch 19/20\n",
            "27/27 [==============================] - 0s 5ms/step - loss: 0.2521 - accuracy: 0.9663 - val_loss: 0.9690 - val_accuracy: 0.4600\n",
            "Epoch 20/20\n",
            "27/27 [==============================] - 0s 4ms/step - loss: 0.2326 - accuracy: 0.9775 - val_loss: 0.9816 - val_accuracy: 0.4650\n"
          ]
        },
        {
          "output_type": "execute_result",
          "data": {
            "text/plain": [
              "<keras.src.callbacks.History at 0x794545192cb0>"
            ]
          },
          "metadata": {},
          "execution_count": 22
        }
      ]
    },
    {
      "cell_type": "code",
      "source": [
        "model= Sequential()\n",
        "model.add(Dense(units=32,activation='relu', input_shape=(150,)))\n",
        "\n",
        "\n",
        "model.add(Dense(1,activation='sigmoid'))\n",
        "\n",
        "model.compile(optimizer='rmsprop',\n",
        "              loss = 'binary_crossentropy',\n",
        "              metrics=['accuracy'])\n",
        "model.fit(data,labels,epochs=20, batch_size=30, validation_split=0.2, verbose=0)"
      ],
      "metadata": {
        "colab": {
          "base_uri": "https://localhost:8080/"
        },
        "id": "8sZz_GLD0mC4",
        "outputId": "1725b955-e72d-40ea-8423-37290e9f13e8"
      },
      "execution_count": 23,
      "outputs": [
        {
          "output_type": "execute_result",
          "data": {
            "text/plain": [
              "<keras.src.callbacks.History at 0x79454501fb50>"
            ]
          },
          "metadata": {},
          "execution_count": 23
        }
      ]
    },
    {
      "cell_type": "code",
      "source": [
        "model= Sequential()\n",
        "model.add(Dense(units=32,activation='relu', input_shape=(150,)))\n",
        "\n",
        "\n",
        "model.add(Dense(1,activation='sigmoid'))\n",
        "\n",
        "model.compile(optimizer='rmsprop',\n",
        "              loss = 'binary_crossentropy',\n",
        "              metrics=['accuracy'])\n",
        "history=model.fit(data,labels,epochs=20, batch_size=30, validation_split=0.2)"
      ],
      "metadata": {
        "colab": {
          "base_uri": "https://localhost:8080/"
        },
        "id": "zaCEZFbI077M",
        "outputId": "1ffd4526-bba1-4b04-a4e5-73f8da07131e"
      },
      "execution_count": 24,
      "outputs": [
        {
          "output_type": "stream",
          "name": "stdout",
          "text": [
            "Epoch 1/20\n",
            "27/27 [==============================] - 1s 10ms/step - loss: 0.7999 - accuracy: 0.5025 - val_loss: 0.7897 - val_accuracy: 0.4950\n",
            "Epoch 2/20\n",
            "27/27 [==============================] - 0s 4ms/step - loss: 0.7039 - accuracy: 0.5575 - val_loss: 0.7674 - val_accuracy: 0.4950\n",
            "Epoch 3/20\n",
            "27/27 [==============================] - 0s 4ms/step - loss: 0.6495 - accuracy: 0.6200 - val_loss: 0.7579 - val_accuracy: 0.5200\n",
            "Epoch 4/20\n",
            "27/27 [==============================] - 0s 4ms/step - loss: 0.6043 - accuracy: 0.6750 - val_loss: 0.7538 - val_accuracy: 0.5150\n",
            "Epoch 5/20\n",
            "27/27 [==============================] - 0s 4ms/step - loss: 0.5654 - accuracy: 0.7262 - val_loss: 0.7529 - val_accuracy: 0.5250\n",
            "Epoch 6/20\n",
            "27/27 [==============================] - 0s 4ms/step - loss: 0.5310 - accuracy: 0.7625 - val_loss: 0.7568 - val_accuracy: 0.5200\n",
            "Epoch 7/20\n",
            "27/27 [==============================] - 0s 3ms/step - loss: 0.5002 - accuracy: 0.8050 - val_loss: 0.7625 - val_accuracy: 0.5250\n",
            "Epoch 8/20\n",
            "27/27 [==============================] - 0s 3ms/step - loss: 0.4715 - accuracy: 0.8275 - val_loss: 0.7688 - val_accuracy: 0.5200\n",
            "Epoch 9/20\n",
            "27/27 [==============================] - 0s 5ms/step - loss: 0.4441 - accuracy: 0.8500 - val_loss: 0.7773 - val_accuracy: 0.5200\n",
            "Epoch 10/20\n",
            "27/27 [==============================] - 0s 4ms/step - loss: 0.4181 - accuracy: 0.8788 - val_loss: 0.7883 - val_accuracy: 0.5200\n",
            "Epoch 11/20\n",
            "27/27 [==============================] - 0s 4ms/step - loss: 0.3941 - accuracy: 0.8888 - val_loss: 0.7976 - val_accuracy: 0.5200\n",
            "Epoch 12/20\n",
            "27/27 [==============================] - 0s 3ms/step - loss: 0.3697 - accuracy: 0.9000 - val_loss: 0.8093 - val_accuracy: 0.5100\n",
            "Epoch 13/20\n",
            "27/27 [==============================] - 0s 4ms/step - loss: 0.3472 - accuracy: 0.9250 - val_loss: 0.8210 - val_accuracy: 0.5100\n",
            "Epoch 14/20\n",
            "27/27 [==============================] - 0s 4ms/step - loss: 0.3245 - accuracy: 0.9300 - val_loss: 0.8299 - val_accuracy: 0.5300\n",
            "Epoch 15/20\n",
            "27/27 [==============================] - 0s 4ms/step - loss: 0.3033 - accuracy: 0.9450 - val_loss: 0.8418 - val_accuracy: 0.5300\n",
            "Epoch 16/20\n",
            "27/27 [==============================] - 0s 4ms/step - loss: 0.2818 - accuracy: 0.9550 - val_loss: 0.8541 - val_accuracy: 0.5250\n",
            "Epoch 17/20\n",
            "27/27 [==============================] - 0s 4ms/step - loss: 0.2620 - accuracy: 0.9575 - val_loss: 0.8661 - val_accuracy: 0.5200\n",
            "Epoch 18/20\n",
            "27/27 [==============================] - 0s 4ms/step - loss: 0.2430 - accuracy: 0.9700 - val_loss: 0.8773 - val_accuracy: 0.5250\n",
            "Epoch 19/20\n",
            "27/27 [==============================] - 0s 3ms/step - loss: 0.2239 - accuracy: 0.9837 - val_loss: 0.8921 - val_accuracy: 0.5250\n",
            "Epoch 20/20\n",
            "27/27 [==============================] - 0s 3ms/step - loss: 0.2064 - accuracy: 0.9862 - val_loss: 0.9062 - val_accuracy: 0.5200\n"
          ]
        }
      ]
    },
    {
      "cell_type": "code",
      "source": [
        "metrics=history.history\n",
        "metrics.keys()"
      ],
      "metadata": {
        "colab": {
          "base_uri": "https://localhost:8080/"
        },
        "id": "Id_kJJyC1CT_",
        "outputId": "a7337b57-b66b-4b90-8cee-3b35f41fece7"
      },
      "execution_count": 25,
      "outputs": [
        {
          "output_type": "execute_result",
          "data": {
            "text/plain": [
              "dict_keys(['loss', 'accuracy', 'val_loss', 'val_accuracy'])"
            ]
          },
          "metadata": {},
          "execution_count": 25
        }
      ]
    },
    {
      "cell_type": "code",
      "source": [
        "model= Sequential()\n",
        "model.add(Dense(units=32,activation='relu', input_shape=(150,)))\n",
        "\n",
        "\n",
        "model.add(Dense(1,activation='sigmoid'))\n",
        "\n",
        "model.compile(optimizer='rmsprop',\n",
        "              loss = 'binary_crossentropy',\n",
        "              metrics=['accuracy'])\n",
        "history=model.fit(data,labels,epochs=20, batch_size=30, validation_split=0.2, verbose=1)"
      ],
      "metadata": {
        "colab": {
          "base_uri": "https://localhost:8080/"
        },
        "id": "ikhXtXiO1UOu",
        "outputId": "fb3ea604-6226-4e34-cbcb-38d285708edc"
      },
      "execution_count": 26,
      "outputs": [
        {
          "output_type": "stream",
          "name": "stdout",
          "text": [
            "Epoch 1/20\n",
            "27/27 [==============================] - 1s 9ms/step - loss: 0.8173 - accuracy: 0.5188 - val_loss: 0.7885 - val_accuracy: 0.4800\n",
            "Epoch 2/20\n",
            "27/27 [==============================] - 0s 4ms/step - loss: 0.7205 - accuracy: 0.5525 - val_loss: 0.7646 - val_accuracy: 0.4850\n",
            "Epoch 3/20\n",
            "27/27 [==============================] - 0s 4ms/step - loss: 0.6687 - accuracy: 0.5900 - val_loss: 0.7500 - val_accuracy: 0.5000\n",
            "Epoch 4/20\n",
            "27/27 [==============================] - 0s 4ms/step - loss: 0.6258 - accuracy: 0.6325 - val_loss: 0.7433 - val_accuracy: 0.5100\n",
            "Epoch 5/20\n",
            "27/27 [==============================] - 0s 4ms/step - loss: 0.5900 - accuracy: 0.6812 - val_loss: 0.7433 - val_accuracy: 0.5250\n",
            "Epoch 6/20\n",
            "27/27 [==============================] - 0s 3ms/step - loss: 0.5576 - accuracy: 0.7287 - val_loss: 0.7442 - val_accuracy: 0.5300\n",
            "Epoch 7/20\n",
            "27/27 [==============================] - 0s 3ms/step - loss: 0.5285 - accuracy: 0.7600 - val_loss: 0.7474 - val_accuracy: 0.5300\n",
            "Epoch 8/20\n",
            "27/27 [==============================] - 0s 3ms/step - loss: 0.5005 - accuracy: 0.7887 - val_loss: 0.7522 - val_accuracy: 0.5200\n",
            "Epoch 9/20\n",
            "27/27 [==============================] - 0s 3ms/step - loss: 0.4748 - accuracy: 0.8100 - val_loss: 0.7581 - val_accuracy: 0.5200\n",
            "Epoch 10/20\n",
            "27/27 [==============================] - 0s 4ms/step - loss: 0.4500 - accuracy: 0.8425 - val_loss: 0.7664 - val_accuracy: 0.5400\n",
            "Epoch 11/20\n",
            "27/27 [==============================] - 0s 4ms/step - loss: 0.4258 - accuracy: 0.8550 - val_loss: 0.7749 - val_accuracy: 0.5300\n",
            "Epoch 12/20\n",
            "27/27 [==============================] - 0s 3ms/step - loss: 0.4029 - accuracy: 0.8737 - val_loss: 0.7856 - val_accuracy: 0.5300\n",
            "Epoch 13/20\n",
            "27/27 [==============================] - 0s 4ms/step - loss: 0.3797 - accuracy: 0.8888 - val_loss: 0.8002 - val_accuracy: 0.5150\n",
            "Epoch 14/20\n",
            "27/27 [==============================] - 0s 5ms/step - loss: 0.3577 - accuracy: 0.9038 - val_loss: 0.8140 - val_accuracy: 0.5200\n",
            "Epoch 15/20\n",
            "27/27 [==============================] - 0s 4ms/step - loss: 0.3361 - accuracy: 0.9175 - val_loss: 0.8274 - val_accuracy: 0.5300\n",
            "Epoch 16/20\n",
            "27/27 [==============================] - 0s 4ms/step - loss: 0.3137 - accuracy: 0.9337 - val_loss: 0.8426 - val_accuracy: 0.5200\n",
            "Epoch 17/20\n",
            "27/27 [==============================] - 0s 4ms/step - loss: 0.2937 - accuracy: 0.9488 - val_loss: 0.8596 - val_accuracy: 0.4950\n",
            "Epoch 18/20\n",
            "27/27 [==============================] - 0s 4ms/step - loss: 0.2740 - accuracy: 0.9588 - val_loss: 0.8721 - val_accuracy: 0.5000\n",
            "Epoch 19/20\n",
            "27/27 [==============================] - 0s 3ms/step - loss: 0.2548 - accuracy: 0.9688 - val_loss: 0.8845 - val_accuracy: 0.4900\n",
            "Epoch 20/20\n",
            "27/27 [==============================] - 0s 3ms/step - loss: 0.2351 - accuracy: 0.9750 - val_loss: 0.9024 - val_accuracy: 0.4950\n"
          ]
        }
      ]
    },
    {
      "cell_type": "code",
      "source": [
        "test_data=np.random.randn(5,150)\n",
        "test_labels = np.random.randint(2, size=(5,1))"
      ],
      "metadata": {
        "id": "KQZRnzDv1f6u"
      },
      "execution_count": 27,
      "outputs": []
    },
    {
      "cell_type": "code",
      "source": [
        "model.predict(test_data) #tam gdzie wartości są powyżej 1/2 przypisujemy 1 poniżej 0"
      ],
      "metadata": {
        "colab": {
          "base_uri": "https://localhost:8080/"
        },
        "id": "fkKsKkew2oo2",
        "outputId": "a0d8d7da-2005-4e5a-9a12-6c1d0d1341ff"
      },
      "execution_count": 28,
      "outputs": [
        {
          "output_type": "stream",
          "name": "stdout",
          "text": [
            "1/1 [==============================] - 0s 105ms/step\n"
          ]
        },
        {
          "output_type": "execute_result",
          "data": {
            "text/plain": [
              "array([[0.85821223],\n",
              "       [0.6402445 ],\n",
              "       [0.44051751],\n",
              "       [0.07741094],\n",
              "       [0.14539513]], dtype=float32)"
            ]
          },
          "metadata": {},
          "execution_count": 28
        }
      ]
    },
    {
      "cell_type": "code",
      "source": [
        "predictions=model.predict(test_data)\n",
        "array_class_pred=np.array([])\n",
        "\n",
        "for i in predictions:\n",
        "  if i>0.5:\n",
        "    array_class_pred=np.append(array_class_pred, 1)\n",
        "  else:\n",
        "    array_class_pred=np.append(array_class_pred, 0)\n",
        "\n",
        "print(array_class_pred)\n",
        "print(model.predict(test_data))"
      ],
      "metadata": {
        "colab": {
          "base_uri": "https://localhost:8080/"
        },
        "id": "QgfJAAwM2wcM",
        "outputId": "ca351858-cb3d-449d-9c16-9409a04ba711"
      },
      "execution_count": 36,
      "outputs": [
        {
          "output_type": "stream",
          "name": "stdout",
          "text": [
            "1/1 [==============================] - 0s 23ms/step\n",
            "[1. 1. 0. 0. 0.]\n",
            "1/1 [==============================] - 0s 22ms/step\n",
            "[[0.85821223]\n",
            " [0.6402445 ]\n",
            " [0.44051751]\n",
            " [0.07741094]\n",
            " [0.14539513]]\n"
          ]
        }
      ]
    },
    {
      "cell_type": "markdown",
      "source": [
        "#  **Klasyfikacja wieloklasowa**"
      ],
      "metadata": {
        "id": "pKcH5H1sBs6X"
      }
    },
    {
      "cell_type": "code",
      "source": [
        "data=np.random.random((1000,150))\n",
        "labels = np.random.randint(10,size=(1000,1))"
      ],
      "metadata": {
        "id": "XFfSeDYFB2ce"
      },
      "execution_count": 43,
      "outputs": []
    },
    {
      "cell_type": "code",
      "source": [
        "print(data.shape)\n",
        "print(labels.shape)"
      ],
      "metadata": {
        "colab": {
          "base_uri": "https://localhost:8080/"
        },
        "id": "tMyxSTljCJWA",
        "outputId": "6a6ea584-96bd-4841-a03e-90943ed9dc46"
      },
      "execution_count": 44,
      "outputs": [
        {
          "output_type": "stream",
          "name": "stdout",
          "text": [
            "(1000, 150)\n",
            "(1000, 1)\n"
          ]
        }
      ]
    },
    {
      "cell_type": "code",
      "source": [
        "data[:3]"
      ],
      "metadata": {
        "colab": {
          "base_uri": "https://localhost:8080/"
        },
        "id": "jzYcrN16CVHF",
        "outputId": "0bcbbedb-8056-4bbb-ab1b-f3bb952fb3a2"
      },
      "execution_count": 45,
      "outputs": [
        {
          "output_type": "execute_result",
          "data": {
            "text/plain": [
              "array([[0.7791488 , 0.55045185, 0.41533822, 0.41755834, 0.14882496,\n",
              "        0.50223502, 0.54679535, 0.079425  , 0.94863079, 0.24658495,\n",
              "        0.43509074, 0.43634395, 0.28690761, 0.168129  , 0.85845132,\n",
              "        0.40736075, 0.51091548, 0.61263379, 0.73422756, 0.85145435,\n",
              "        0.45413551, 0.22731051, 0.16441602, 0.65111197, 0.13528422,\n",
              "        0.46368201, 0.01021767, 0.79079992, 0.19800178, 0.0602024 ,\n",
              "        0.99828666, 0.24856731, 0.24529833, 0.70048039, 0.73737453,\n",
              "        0.10663499, 0.44791243, 0.55213319, 0.41517799, 0.4548765 ,\n",
              "        0.69463736, 0.60885549, 0.07933247, 0.17293455, 0.97478225,\n",
              "        0.81434211, 0.60240251, 0.74896107, 0.66870195, 0.91751467,\n",
              "        0.46849863, 0.52071399, 0.19501689, 0.16417297, 0.18742541,\n",
              "        0.0093972 , 0.81161813, 0.57357261, 0.52762682, 0.70596056,\n",
              "        0.82466355, 0.68310816, 0.81936446, 0.32207504, 0.73848413,\n",
              "        0.32744668, 0.31770482, 0.39530425, 0.86429344, 0.40067561,\n",
              "        0.59353372, 0.87979788, 0.16208954, 0.72907794, 0.5460669 ,\n",
              "        0.51231291, 0.83166651, 0.14947674, 0.79249779, 0.73717412,\n",
              "        0.1935109 , 0.63889777, 0.49907795, 0.89344967, 0.39015485,\n",
              "        0.33425135, 0.20573923, 0.91590501, 0.62367354, 0.69601619,\n",
              "        0.29631451, 0.49446217, 0.74224526, 0.02694797, 0.7311151 ,\n",
              "        0.34216596, 0.42903601, 0.28508913, 0.2647863 , 0.22919164,\n",
              "        0.06930477, 0.41926848, 0.33872916, 0.02733747, 0.49667421,\n",
              "        0.33061314, 0.03733887, 0.28169079, 0.98067857, 0.35144551,\n",
              "        0.10107482, 0.39978977, 0.7506074 , 0.81770865, 0.42936434,\n",
              "        0.2149796 , 0.40611852, 0.03788676, 0.25392611, 0.82693726,\n",
              "        0.8539036 , 0.23733612, 0.96159937, 0.67231643, 0.54305447,\n",
              "        0.48433302, 0.75170576, 0.75298404, 0.09280689, 0.82624882,\n",
              "        0.38331678, 0.80430302, 0.43895546, 0.59483297, 0.07436472,\n",
              "        0.82132682, 0.34442462, 0.38680926, 0.91595477, 0.92783413,\n",
              "        0.95572925, 0.04338061, 0.98416511, 0.79625417, 0.55278925,\n",
              "        0.44530792, 0.60904346, 0.77578298, 0.87787763, 0.96889009],\n",
              "       [0.79236524, 0.14047121, 0.36105257, 0.25899998, 0.07168057,\n",
              "        0.20151626, 0.95149036, 0.44422482, 0.42652662, 0.11114683,\n",
              "        0.66970255, 0.68584427, 0.39821902, 0.85667282, 0.6317127 ,\n",
              "        0.12012007, 0.67247057, 0.36775074, 0.4442135 , 0.02659549,\n",
              "        0.56359927, 0.75889796, 0.69463551, 0.49967036, 0.83021362,\n",
              "        0.98464261, 0.99518152, 0.4222923 , 0.73589753, 0.59412768,\n",
              "        0.38752787, 0.30838181, 0.3859968 , 0.64679054, 0.39535208,\n",
              "        0.41749145, 0.45013092, 0.98140454, 0.88451677, 0.61123039,\n",
              "        0.42230125, 0.36535586, 0.55840457, 0.82959514, 0.14276464,\n",
              "        0.0897618 , 0.7771832 , 0.44779702, 0.57082393, 0.16484645,\n",
              "        0.59697902, 0.68857994, 0.72605393, 0.40709247, 0.46118099,\n",
              "        0.40576543, 0.41718051, 0.14144715, 0.36572248, 0.31718936,\n",
              "        0.89219288, 0.57968427, 0.4746074 , 0.18640758, 0.55939138,\n",
              "        0.22831228, 0.79022124, 0.01854586, 0.58685206, 0.92015931,\n",
              "        0.60085847, 0.47746449, 0.65122551, 0.4765256 , 0.66177211,\n",
              "        0.14578677, 0.75265891, 0.74677946, 0.53254594, 0.77333952,\n",
              "        0.48295602, 0.09920628, 0.96898042, 0.00259334, 0.17135855,\n",
              "        0.4868165 , 0.73142827, 0.22552525, 0.48796019, 0.63034565,\n",
              "        0.28275519, 0.39011371, 0.21300441, 0.73868101, 0.00137046,\n",
              "        0.24901677, 0.96628162, 0.14146126, 0.5264838 , 0.12728645,\n",
              "        0.56354076, 0.09795171, 0.18886282, 0.72712312, 0.97333971,\n",
              "        0.21201732, 0.06709043, 0.46944184, 0.40350792, 0.51410336,\n",
              "        0.76706751, 0.98667992, 0.80745189, 0.71536176, 0.4061817 ,\n",
              "        0.48978159, 0.34381036, 0.91230558, 0.48830231, 0.51953932,\n",
              "        0.09627316, 0.76559706, 0.92014387, 0.1509715 , 0.93005206,\n",
              "        0.48087163, 0.4311483 , 0.48709418, 0.29700866, 0.8072069 ,\n",
              "        0.13639299, 0.42772615, 0.34427346, 0.23002369, 0.4223717 ,\n",
              "        0.9923769 , 0.62508188, 0.9933646 , 0.19744711, 0.84046688,\n",
              "        0.65789478, 0.15489596, 0.54957763, 0.51883621, 0.02923604,\n",
              "        0.66794688, 0.12180302, 0.35121493, 0.33307766, 0.29013069],\n",
              "       [0.36068394, 0.61681418, 0.16433495, 0.77228568, 0.62000221,\n",
              "        0.46980974, 0.70531881, 0.66420108, 0.17543947, 0.15647162,\n",
              "        0.9376377 , 0.05494081, 0.34242871, 0.57059199, 0.02365107,\n",
              "        0.36643583, 0.11580242, 0.14320741, 0.3947676 , 0.23893425,\n",
              "        0.40342864, 0.15982599, 0.99686924, 0.61882828, 0.84753922,\n",
              "        0.04223711, 0.80797772, 0.44044747, 0.47455198, 0.46822997,\n",
              "        0.33310187, 0.98987813, 0.95405529, 0.13596629, 0.53165548,\n",
              "        0.69547129, 0.42824234, 0.34284308, 0.94999537, 0.53086376,\n",
              "        0.80676438, 0.60142715, 0.57468912, 0.94372663, 0.22303577,\n",
              "        0.76871726, 0.12376263, 0.32027446, 0.7832579 , 0.70315914,\n",
              "        0.90862486, 0.02517252, 0.94022274, 0.72403994, 0.33123491,\n",
              "        0.30470693, 0.30604843, 0.42829603, 0.94232209, 0.78727387,\n",
              "        0.67280989, 0.56176942, 0.01242352, 0.18040618, 0.82769588,\n",
              "        0.39074769, 0.19628914, 0.19738092, 0.18423519, 0.08770799,\n",
              "        0.77863325, 0.99404991, 0.64417817, 0.02685426, 0.12287712,\n",
              "        0.30325052, 0.61720282, 0.07750841, 0.70678977, 0.32961997,\n",
              "        0.2985773 , 0.75457274, 0.90712011, 0.6645038 , 0.94579246,\n",
              "        0.06338392, 0.85438591, 0.18291702, 0.24056854, 0.15235986,\n",
              "        0.77991083, 0.29277946, 0.74869814, 0.39742628, 0.42288416,\n",
              "        0.89797871, 0.88423672, 0.25509531, 0.12812462, 0.06387898,\n",
              "        0.88969603, 0.1912667 , 0.24202402, 0.96089972, 0.96352428,\n",
              "        0.21342383, 0.65464275, 0.61265988, 0.46964485, 0.44690845,\n",
              "        0.37384277, 0.33087764, 0.77380467, 0.35434959, 0.53426439,\n",
              "        0.12517384, 0.36689028, 0.23890403, 0.01717837, 0.03635007,\n",
              "        0.52088786, 0.08859702, 0.25604674, 0.09856431, 0.12553129,\n",
              "        0.51245487, 0.23679929, 0.15981264, 0.17113979, 0.67314895,\n",
              "        0.14322233, 0.02116023, 0.76667579, 0.01125606, 0.66987625,\n",
              "        0.27623845, 0.29979637, 0.66858748, 0.44028157, 0.36367143,\n",
              "        0.52439028, 0.84451688, 0.7534509 , 0.29167488, 0.61821899,\n",
              "        0.15821124, 0.47428262, 0.44174464, 0.8563425 , 0.49400118]])"
            ]
          },
          "metadata": {},
          "execution_count": 45
        }
      ]
    },
    {
      "cell_type": "code",
      "source": [
        "labels[:10]"
      ],
      "metadata": {
        "colab": {
          "base_uri": "https://localhost:8080/"
        },
        "id": "UGhIc8xvDRpE",
        "outputId": "56117d5d-cebd-44b7-e938-27b9dcdd40ca"
      },
      "execution_count": 46,
      "outputs": [
        {
          "output_type": "execute_result",
          "data": {
            "text/plain": [
              "array([[2],\n",
              "       [4],\n",
              "       [2],\n",
              "       [7],\n",
              "       [5],\n",
              "       [4],\n",
              "       [3],\n",
              "       [2],\n",
              "       [7],\n",
              "       [9]])"
            ]
          },
          "metadata": {},
          "execution_count": 46
        }
      ]
    },
    {
      "cell_type": "code",
      "source": [
        "from tensorflow.keras.utils import to_categorical\n",
        "labels = to_categorical(labels, num_classes=10)\n",
        "labels"
      ],
      "metadata": {
        "colab": {
          "base_uri": "https://localhost:8080/"
        },
        "id": "zj8AK71HDeML",
        "outputId": "b3be4247-ad53-4a78-f5c6-47a51d3a8816"
      },
      "execution_count": 47,
      "outputs": [
        {
          "output_type": "execute_result",
          "data": {
            "text/plain": [
              "array([[0., 0., 1., ..., 0., 0., 0.],\n",
              "       [0., 0., 0., ..., 0., 0., 0.],\n",
              "       [0., 0., 1., ..., 0., 0., 0.],\n",
              "       ...,\n",
              "       [1., 0., 0., ..., 0., 0., 0.],\n",
              "       [0., 0., 0., ..., 0., 0., 1.],\n",
              "       [0., 0., 0., ..., 0., 1., 0.]], dtype=float32)"
            ]
          },
          "metadata": {},
          "execution_count": 47
        }
      ]
    },
    {
      "cell_type": "code",
      "source": [
        "\n",
        "labels[9]\n"
      ],
      "metadata": {
        "colab": {
          "base_uri": "https://localhost:8080/"
        },
        "id": "9tGm6zXlDwyL",
        "outputId": "cf1d8243-b57f-4180-97d6-8c71d2b0c2e4"
      },
      "execution_count": 56,
      "outputs": [
        {
          "output_type": "execute_result",
          "data": {
            "text/plain": [
              "array([0., 0., 0., 0., 0., 0., 0., 0., 0., 1.], dtype=float32)"
            ]
          },
          "metadata": {},
          "execution_count": 56
        }
      ]
    },
    {
      "cell_type": "code",
      "source": [
        "model=Sequential()\n",
        "model.add(Dense(units=32, activation='relu', input_shape=(150,)))\n",
        "\n",
        "model.add(Dense(units=10, activation='softmax')) #ilość neuronów w warstwie wyjściowej w wypadku klasyfikacji wieloklasowej musi być równa ilości klas\n",
        "#w warstwie wyjściowej klasyfikacji wieloklasowej funkcja aktywacji to softmax pozwala ona zwrócić prawdopodobieństwo tych klas (10 w naszym przypadku)\n",
        "\n",
        "model.compile(optimizer='rmsprop',\n",
        "              loss='categorical_crossentropy',\n",
        "              metrics=['accuracy'])\n",
        "\n",
        "model.fit(data, labels, batch_size=32, epochs=30, validation_split=0.2)"
      ],
      "metadata": {
        "colab": {
          "base_uri": "https://localhost:8080/"
        },
        "id": "m1Fv44TBEYVy",
        "outputId": "0223c5a6-0832-497d-ecbc-2851005db0f8"
      },
      "execution_count": 57,
      "outputs": [
        {
          "output_type": "stream",
          "name": "stdout",
          "text": [
            "Epoch 1/30\n",
            "25/25 [==============================] - 1s 10ms/step - loss: 2.3882 - accuracy: 0.0950 - val_loss: 2.3104 - val_accuracy: 0.0800\n",
            "Epoch 2/30\n",
            "25/25 [==============================] - 0s 3ms/step - loss: 2.3208 - accuracy: 0.1037 - val_loss: 2.3089 - val_accuracy: 0.1100\n",
            "Epoch 3/30\n",
            "25/25 [==============================] - 0s 4ms/step - loss: 2.3067 - accuracy: 0.1187 - val_loss: 2.3076 - val_accuracy: 0.1000\n",
            "Epoch 4/30\n",
            "25/25 [==============================] - 0s 4ms/step - loss: 2.2964 - accuracy: 0.1163 - val_loss: 2.3039 - val_accuracy: 0.1050\n",
            "Epoch 5/30\n",
            "25/25 [==============================] - 0s 3ms/step - loss: 2.2864 - accuracy: 0.1450 - val_loss: 2.3105 - val_accuracy: 0.0800\n",
            "Epoch 6/30\n",
            "25/25 [==============================] - 0s 3ms/step - loss: 2.2773 - accuracy: 0.1375 - val_loss: 2.3123 - val_accuracy: 0.1150\n",
            "Epoch 7/30\n",
            "25/25 [==============================] - 0s 4ms/step - loss: 2.2691 - accuracy: 0.1675 - val_loss: 2.3118 - val_accuracy: 0.0850\n",
            "Epoch 8/30\n",
            "25/25 [==============================] - 0s 4ms/step - loss: 2.2610 - accuracy: 0.1875 - val_loss: 2.3135 - val_accuracy: 0.0900\n",
            "Epoch 9/30\n",
            "25/25 [==============================] - 0s 3ms/step - loss: 2.2516 - accuracy: 0.1737 - val_loss: 2.3194 - val_accuracy: 0.0750\n",
            "Epoch 10/30\n",
            "25/25 [==============================] - 0s 3ms/step - loss: 2.2379 - accuracy: 0.1937 - val_loss: 2.3207 - val_accuracy: 0.0900\n",
            "Epoch 11/30\n",
            "25/25 [==============================] - 0s 3ms/step - loss: 2.2280 - accuracy: 0.1937 - val_loss: 2.3317 - val_accuracy: 0.0650\n",
            "Epoch 12/30\n",
            "25/25 [==============================] - 0s 3ms/step - loss: 2.2201 - accuracy: 0.1975 - val_loss: 2.3169 - val_accuracy: 0.1250\n",
            "Epoch 13/30\n",
            "25/25 [==============================] - 0s 3ms/step - loss: 2.2103 - accuracy: 0.2013 - val_loss: 2.3295 - val_accuracy: 0.0800\n",
            "Epoch 14/30\n",
            "25/25 [==============================] - 0s 3ms/step - loss: 2.1987 - accuracy: 0.2225 - val_loss: 2.3312 - val_accuracy: 0.1050\n",
            "Epoch 15/30\n",
            "25/25 [==============================] - 0s 4ms/step - loss: 2.1819 - accuracy: 0.2350 - val_loss: 2.3473 - val_accuracy: 0.0950\n",
            "Epoch 16/30\n",
            "25/25 [==============================] - 0s 3ms/step - loss: 2.1710 - accuracy: 0.2237 - val_loss: 2.3444 - val_accuracy: 0.0700\n",
            "Epoch 17/30\n",
            "25/25 [==============================] - 0s 4ms/step - loss: 2.1626 - accuracy: 0.2362 - val_loss: 2.3406 - val_accuracy: 0.0800\n",
            "Epoch 18/30\n",
            "25/25 [==============================] - 0s 3ms/step - loss: 2.1475 - accuracy: 0.2663 - val_loss: 2.3436 - val_accuracy: 0.1000\n",
            "Epoch 19/30\n",
            "25/25 [==============================] - 0s 4ms/step - loss: 2.1373 - accuracy: 0.2575 - val_loss: 2.3447 - val_accuracy: 0.0900\n",
            "Epoch 20/30\n",
            "25/25 [==============================] - 0s 3ms/step - loss: 2.1225 - accuracy: 0.2700 - val_loss: 2.3533 - val_accuracy: 0.0850\n",
            "Epoch 21/30\n",
            "25/25 [==============================] - 0s 3ms/step - loss: 2.1108 - accuracy: 0.2637 - val_loss: 2.3477 - val_accuracy: 0.0800\n",
            "Epoch 22/30\n",
            "25/25 [==============================] - 0s 3ms/step - loss: 2.0936 - accuracy: 0.2725 - val_loss: 2.3568 - val_accuracy: 0.0950\n",
            "Epoch 23/30\n",
            "25/25 [==============================] - 0s 3ms/step - loss: 2.0810 - accuracy: 0.2925 - val_loss: 2.3409 - val_accuracy: 0.1000\n",
            "Epoch 24/30\n",
            "25/25 [==============================] - 0s 3ms/step - loss: 2.0665 - accuracy: 0.2937 - val_loss: 2.3490 - val_accuracy: 0.0800\n",
            "Epoch 25/30\n",
            "25/25 [==============================] - 0s 3ms/step - loss: 2.0522 - accuracy: 0.3063 - val_loss: 2.3557 - val_accuracy: 0.0850\n",
            "Epoch 26/30\n",
            "25/25 [==============================] - 0s 4ms/step - loss: 2.0374 - accuracy: 0.3262 - val_loss: 2.3555 - val_accuracy: 0.0900\n",
            "Epoch 27/30\n",
            "25/25 [==============================] - 0s 3ms/step - loss: 2.0159 - accuracy: 0.3338 - val_loss: 2.3805 - val_accuracy: 0.1050\n",
            "Epoch 28/30\n",
            "25/25 [==============================] - 0s 3ms/step - loss: 2.0104 - accuracy: 0.3262 - val_loss: 2.3639 - val_accuracy: 0.1000\n",
            "Epoch 29/30\n",
            "25/25 [==============================] - 0s 3ms/step - loss: 1.9899 - accuracy: 0.3438 - val_loss: 2.3773 - val_accuracy: 0.1150\n",
            "Epoch 30/30\n",
            "25/25 [==============================] - 0s 3ms/step - loss: 1.9754 - accuracy: 0.3550 - val_loss: 2.3729 - val_accuracy: 0.0950\n"
          ]
        },
        {
          "output_type": "execute_result",
          "data": {
            "text/plain": [
              "<keras.src.callbacks.History at 0x794530cf1ea0>"
            ]
          },
          "metadata": {},
          "execution_count": 57
        }
      ]
    },
    {
      "cell_type": "code",
      "source": [
        "test_data=np.random.random((9,150)) #tutaj jest 9 o którym mówię poniżej\n",
        "\n",
        "model.predict(test_data) #na podstawie 150 cech przypisuje do jednej z 10 klas (i tak 9 razy)"
      ],
      "metadata": {
        "colab": {
          "base_uri": "https://localhost:8080/"
        },
        "id": "wfB1kgTlF5n8",
        "outputId": "5895b033-81cd-450e-a19c-1fac53e1f16d"
      },
      "execution_count": 59,
      "outputs": [
        {
          "output_type": "stream",
          "name": "stdout",
          "text": [
            "1/1 [==============================] - 0s 24ms/step\n"
          ]
        },
        {
          "output_type": "execute_result",
          "data": {
            "text/plain": [
              "array([[0.15926246, 0.05772202, 0.11898542, 0.08340825, 0.09365366,\n",
              "        0.15403654, 0.10657763, 0.08376083, 0.06944282, 0.07315032],\n",
              "       [0.04099536, 0.0373715 , 0.07678209, 0.42385635, 0.05378769,\n",
              "        0.0908384 , 0.07386992, 0.08956634, 0.09027123, 0.02266112],\n",
              "       [0.05859776, 0.1218804 , 0.15420955, 0.10061779, 0.07149046,\n",
              "        0.11748765, 0.05652267, 0.13596316, 0.11173774, 0.0714928 ],\n",
              "       [0.08329111, 0.02143872, 0.21305521, 0.13734055, 0.12337022,\n",
              "        0.08922201, 0.0479202 , 0.1223238 , 0.11373645, 0.04830164],\n",
              "       [0.11707876, 0.12177782, 0.08932147, 0.11012633, 0.04083045,\n",
              "        0.11516727, 0.06870639, 0.13322553, 0.15275517, 0.05101078],\n",
              "       [0.06312181, 0.09502809, 0.19208041, 0.20096062, 0.04774261,\n",
              "        0.0676217 , 0.05428248, 0.14941339, 0.09752059, 0.03222834],\n",
              "       [0.13379961, 0.0424699 , 0.03708532, 0.24620296, 0.06169316,\n",
              "        0.16275741, 0.04220997, 0.14222156, 0.06389244, 0.06766754],\n",
              "       [0.11674787, 0.05955454, 0.06650208, 0.19743934, 0.04032524,\n",
              "        0.24394406, 0.05539406, 0.0762907 , 0.0834842 , 0.06031787],\n",
              "       [0.04584464, 0.06772209, 0.11540704, 0.2288906 , 0.06299537,\n",
              "        0.1032095 , 0.05912301, 0.17874396, 0.08845822, 0.04960563]],\n",
              "      dtype=float32)"
            ]
          },
          "metadata": {},
          "execution_count": 59
        }
      ]
    },
    {
      "cell_type": "code",
      "source": [
        "predictions=model.predict(test_data)\n",
        "np.argmax(predictions,axis=1) #zamiast model.predict_classes"
      ],
      "metadata": {
        "colab": {
          "base_uri": "https://localhost:8080/"
        },
        "id": "PtOdPwslGzSW",
        "outputId": "125ef593-d44a-449c-f261-b24c42b8ccf0"
      },
      "execution_count": 62,
      "outputs": [
        {
          "output_type": "stream",
          "name": "stdout",
          "text": [
            "1/1 [==============================] - 0s 24ms/step\n"
          ]
        },
        {
          "output_type": "execute_result",
          "data": {
            "text/plain": [
              "array([0, 3, 2, 2, 8, 3, 3, 5, 3])"
            ]
          },
          "metadata": {},
          "execution_count": 62
        }
      ]
    },
    {
      "cell_type": "markdown",
      "source": [
        "# **Regresja**"
      ],
      "metadata": {
        "id": "Jjss_IgcQJnV"
      }
    },
    {
      "cell_type": "code",
      "source": [
        "data = np.random.random((1000,150))\n",
        "labels = 50 * np.random.random(1000)"
      ],
      "metadata": {
        "id": "3i6HNCTgQR3W"
      },
      "execution_count": 63,
      "outputs": []
    },
    {
      "cell_type": "code",
      "source": [
        "data[:3]"
      ],
      "metadata": {
        "colab": {
          "base_uri": "https://localhost:8080/"
        },
        "id": "uy7HmoikQjhw",
        "outputId": "34adb801-214a-48f0-e8b0-91d5254decdf"
      },
      "execution_count": 71,
      "outputs": [
        {
          "output_type": "execute_result",
          "data": {
            "text/plain": [
              "array([[0.55534427, 0.05272603, 0.832502  , 0.72203228, 0.28008678,\n",
              "        0.47731089, 0.52233474, 0.51709427, 0.25854893, 0.4508415 ,\n",
              "        0.46477376, 0.29796055, 0.11239015, 0.87185399, 0.29952982,\n",
              "        0.20101182, 0.04781536, 0.02091514, 0.81065867, 0.95744307,\n",
              "        0.00499167, 0.64314279, 0.21609045, 0.17318356, 0.2831971 ,\n",
              "        0.84451149, 0.76062533, 0.22782175, 0.87391509, 0.29202196,\n",
              "        0.7848069 , 0.4409864 , 0.31552477, 0.56672868, 0.33563204,\n",
              "        0.21677078, 0.11684953, 0.79100184, 0.63256484, 0.60364927,\n",
              "        0.12030504, 0.58300455, 0.35616932, 0.95694272, 0.29205491,\n",
              "        0.21556276, 0.67079065, 0.96290443, 0.01004975, 0.91230304,\n",
              "        0.21386089, 0.69509848, 0.28125757, 0.20322981, 0.96672458,\n",
              "        0.07119779, 0.01402748, 0.26500403, 0.22887239, 0.1198735 ,\n",
              "        0.27525782, 0.49045789, 0.15613785, 0.16832385, 0.00715157,\n",
              "        0.67776598, 0.75133387, 0.9336244 , 0.40627472, 0.10100866,\n",
              "        0.09464148, 0.00385066, 0.32700392, 0.42191368, 0.99156533,\n",
              "        0.93229811, 0.5145969 , 0.56929062, 0.03265041, 0.67865661,\n",
              "        0.95281464, 0.70614102, 0.21005138, 0.39622606, 0.13142965,\n",
              "        0.5641616 , 0.96225665, 0.95536249, 0.23879216, 0.45293161,\n",
              "        0.40183392, 0.86952757, 0.32858275, 0.06551404, 0.2001181 ,\n",
              "        0.77787095, 0.16182188, 0.88402125, 0.63111517, 0.69925385,\n",
              "        0.61671021, 0.20487815, 0.65863391, 0.68347939, 0.47862979,\n",
              "        0.98807343, 0.17917199, 0.07091533, 0.30400816, 0.06075577,\n",
              "        0.54036459, 0.87305097, 0.82910913, 0.0737846 , 0.89007063,\n",
              "        0.22438412, 0.71674617, 0.38030668, 0.99634915, 0.88493651,\n",
              "        0.43700172, 0.60574064, 0.51692985, 0.68663984, 0.38946374,\n",
              "        0.30229139, 0.14241896, 0.58432605, 0.78735287, 0.20336994,\n",
              "        0.94490403, 0.5133712 , 0.48958182, 0.1254487 , 0.87342251,\n",
              "        0.61752654, 0.30525164, 0.3176321 , 0.33579332, 0.61318429,\n",
              "        0.12097132, 0.91373777, 0.12989022, 0.29637993, 0.00286859,\n",
              "        0.39347911, 0.7254521 , 0.64619052, 0.4013279 , 0.75611987],\n",
              "       [0.30578155, 0.88938832, 0.88371749, 0.69417067, 0.55385183,\n",
              "        0.99028548, 0.49487683, 0.54328454, 0.36690086, 0.00499435,\n",
              "        0.04490748, 0.31574832, 0.50431123, 0.36817078, 0.05248368,\n",
              "        0.24419   , 0.05621651, 0.37347185, 0.91785684, 0.12193823,\n",
              "        0.54454122, 0.13692221, 0.47444058, 0.03378187, 0.9400119 ,\n",
              "        0.18863021, 0.82192575, 0.54884728, 0.56572028, 0.93434165,\n",
              "        0.53991094, 0.30404959, 0.24696391, 0.16655983, 0.5726762 ,\n",
              "        0.21631988, 0.18790536, 0.6870313 , 0.29610422, 0.2470257 ,\n",
              "        0.39357395, 0.72374923, 0.7888349 , 0.00475247, 0.93122534,\n",
              "        0.27204516, 0.73116501, 0.84081547, 0.07475016, 0.34631212,\n",
              "        0.84677621, 0.84628824, 0.90787308, 0.358371  , 0.80269035,\n",
              "        0.99790671, 0.52976302, 0.48435165, 0.81609921, 0.43656751,\n",
              "        0.48432323, 0.99106847, 0.46520269, 0.38326658, 0.89638766,\n",
              "        0.72339067, 0.51371569, 0.43796163, 0.15880958, 0.72369603,\n",
              "        0.00943298, 0.91041536, 0.33878915, 0.68606306, 0.84556282,\n",
              "        0.7330655 , 0.71343113, 0.65238766, 0.77041853, 0.49254892,\n",
              "        0.99471357, 0.97052118, 0.23609454, 0.18783687, 0.74574544,\n",
              "        0.34007595, 0.38968473, 0.11264485, 0.53115165, 0.23593367,\n",
              "        0.74961895, 0.18629363, 0.42352633, 0.60135961, 0.15329891,\n",
              "        0.53815073, 0.38366118, 0.07239829, 0.35623989, 0.1713092 ,\n",
              "        0.57552288, 0.65334539, 0.23015058, 0.04327474, 0.35368597,\n",
              "        0.15828178, 0.05675323, 0.15044706, 0.47450539, 0.4670162 ,\n",
              "        0.94651925, 0.53437763, 0.15253087, 0.0619468 , 0.75781487,\n",
              "        0.08523949, 0.75532865, 0.63675702, 0.51614733, 0.12293254,\n",
              "        0.109172  , 0.74041537, 0.74380692, 0.19592286, 0.54098455,\n",
              "        0.35670071, 0.09897904, 0.17850039, 0.06154929, 0.61132735,\n",
              "        0.54160437, 0.62811797, 0.3753368 , 0.36195741, 0.36991359,\n",
              "        0.13763011, 0.23899375, 0.97178904, 0.5695484 , 0.77214421,\n",
              "        0.32671424, 0.44480279, 0.04293086, 0.96961184, 0.6546673 ,\n",
              "        0.91836126, 0.63333609, 0.91797673, 0.24594717, 0.74760014],\n",
              "       [0.40819485, 0.81712936, 0.51388098, 0.36221294, 0.40228849,\n",
              "        0.03171637, 0.51781288, 0.32143309, 0.02750399, 0.73991317,\n",
              "        0.05342242, 0.41468157, 0.26344185, 0.1735793 , 0.73371694,\n",
              "        0.67791464, 0.83141919, 0.31527737, 0.19927919, 0.54001247,\n",
              "        0.25143267, 0.09393932, 0.17214719, 0.57373433, 0.52965875,\n",
              "        0.72496581, 0.06856422, 0.32812461, 0.71111672, 0.09626944,\n",
              "        0.78696103, 0.56544596, 0.60439637, 0.44520169, 0.01230313,\n",
              "        0.4198378 , 0.24301999, 0.85428203, 0.71069547, 0.40710829,\n",
              "        0.13256168, 0.35541237, 0.28316284, 0.67919733, 0.25093401,\n",
              "        0.6823435 , 0.99308822, 0.06758243, 0.36307516, 0.98894766,\n",
              "        0.11105203, 0.9228866 , 0.85053767, 0.55369749, 0.04834312,\n",
              "        0.92044667, 0.7143983 , 0.06199024, 0.56729599, 0.15336321,\n",
              "        0.76964736, 0.4983347 , 0.87457138, 0.03741815, 0.34469569,\n",
              "        0.30678911, 0.10597588, 0.19138597, 0.22659053, 0.42200674,\n",
              "        0.64496002, 0.80601145, 0.11848727, 0.88697699, 0.69038078,\n",
              "        0.15451064, 0.21389655, 0.94331277, 0.39276851, 0.64973163,\n",
              "        0.88817294, 0.72562334, 0.54485318, 0.31078487, 0.2462625 ,\n",
              "        0.47833896, 0.37900652, 0.52801709, 0.40801695, 0.05970313,\n",
              "        0.93724044, 0.73952578, 0.90412613, 0.43510316, 0.70334252,\n",
              "        0.40696382, 0.53281109, 0.55532512, 0.07130154, 0.69037833,\n",
              "        0.71037786, 0.82438496, 0.96476732, 0.21981842, 0.28008218,\n",
              "        0.46567409, 0.2176457 , 0.77926396, 0.36747406, 0.95395756,\n",
              "        0.50063003, 0.40911128, 0.73649865, 0.85371904, 0.267603  ,\n",
              "        0.35484419, 0.64454672, 0.38771702, 0.76853345, 0.4785983 ,\n",
              "        0.59678909, 0.15103169, 0.30460479, 0.84537599, 0.97078432,\n",
              "        0.66718572, 0.48149259, 0.32249372, 0.20610573, 0.76290892,\n",
              "        0.75263259, 0.28957459, 0.29537968, 0.91833021, 0.99227234,\n",
              "        0.36700465, 0.52637738, 0.01153614, 0.94247505, 0.71928296,\n",
              "        0.65872997, 0.54984339, 0.88286996, 0.6950354 , 0.06244271,\n",
              "        0.92064851, 0.33936293, 0.62622122, 0.45984878, 0.53933292]])"
            ]
          },
          "metadata": {},
          "execution_count": 71
        }
      ]
    },
    {
      "cell_type": "code",
      "source": [
        "labels[:10]"
      ],
      "metadata": {
        "colab": {
          "base_uri": "https://localhost:8080/"
        },
        "id": "vRfird2hQqzq",
        "outputId": "a6acd2a9-dcfd-4f97-8a7f-543e30c48c68"
      },
      "execution_count": 65,
      "outputs": [
        {
          "output_type": "execute_result",
          "data": {
            "text/plain": [
              "array([37.19872535, 43.24797485,  0.81069064, 10.81824557, 21.46310598,\n",
              "       16.64673552, 33.82489589, 28.60793034,  4.6947712 , 16.66634303])"
            ]
          },
          "metadata": {},
          "execution_count": 65
        }
      ]
    },
    {
      "cell_type": "code",
      "source": [
        "model = Sequential()\n",
        "model.add(Dense(units=32, activation='relu', input_shape=(150,)))\n",
        "model.add(Dense(units=1)) #ilośc neuronów w warstwie wyjściowej musi być równa 1 a funkcja aktywacji liniowa\n",
        "\n",
        "model.compile(optimizer='rmsprop',\n",
        "              loss='mse')\n",
        "\n",
        "model.fit(data, labels, epochs=30, batch_size=32, validation_split=0.2)"
      ],
      "metadata": {
        "colab": {
          "base_uri": "https://localhost:8080/"
        },
        "id": "ik99fo5qQusC",
        "outputId": "48672663-7057-426b-d5f3-ca0386a34109"
      },
      "execution_count": 68,
      "outputs": [
        {
          "output_type": "stream",
          "name": "stdout",
          "text": [
            "Epoch 1/30\n",
            "25/25 [==============================] - 1s 8ms/step - loss: 658.9868 - val_loss: 558.3625\n",
            "Epoch 2/30\n",
            "25/25 [==============================] - 0s 4ms/step - loss: 435.1758 - val_loss: 372.3561\n",
            "Epoch 3/30\n",
            "25/25 [==============================] - 0s 3ms/step - loss: 290.6902 - val_loss: 250.3785\n",
            "Epoch 4/30\n",
            "25/25 [==============================] - 0s 4ms/step - loss: 224.6692 - val_loss: 212.5974\n",
            "Epoch 5/30\n",
            "25/25 [==============================] - 0s 3ms/step - loss: 211.3133 - val_loss: 207.8359\n",
            "Epoch 6/30\n",
            "25/25 [==============================] - 0s 3ms/step - loss: 209.8541 - val_loss: 206.2183\n",
            "Epoch 7/30\n",
            "25/25 [==============================] - 0s 3ms/step - loss: 209.6095 - val_loss: 207.0141\n",
            "Epoch 8/30\n",
            "25/25 [==============================] - 0s 4ms/step - loss: 209.3862 - val_loss: 206.4122\n",
            "Epoch 9/30\n",
            "25/25 [==============================] - 0s 3ms/step - loss: 208.3860 - val_loss: 204.5117\n",
            "Epoch 10/30\n",
            "25/25 [==============================] - 0s 3ms/step - loss: 208.3023 - val_loss: 206.1799\n",
            "Epoch 11/30\n",
            "25/25 [==============================] - 0s 3ms/step - loss: 207.6341 - val_loss: 207.5136\n",
            "Epoch 12/30\n",
            "25/25 [==============================] - 0s 4ms/step - loss: 207.0635 - val_loss: 204.7169\n",
            "Epoch 13/30\n",
            "25/25 [==============================] - 0s 3ms/step - loss: 206.7564 - val_loss: 206.4682\n",
            "Epoch 14/30\n",
            "25/25 [==============================] - 0s 3ms/step - loss: 206.2365 - val_loss: 205.7487\n",
            "Epoch 15/30\n",
            "25/25 [==============================] - 0s 3ms/step - loss: 206.1091 - val_loss: 205.6248\n",
            "Epoch 16/30\n",
            "25/25 [==============================] - 0s 4ms/step - loss: 205.1777 - val_loss: 205.2050\n",
            "Epoch 17/30\n",
            "25/25 [==============================] - 0s 3ms/step - loss: 205.2541 - val_loss: 205.1630\n",
            "Epoch 18/30\n",
            "25/25 [==============================] - 0s 3ms/step - loss: 204.3883 - val_loss: 205.3830\n",
            "Epoch 19/30\n",
            "25/25 [==============================] - 0s 4ms/step - loss: 203.7073 - val_loss: 206.0401\n",
            "Epoch 20/30\n",
            "25/25 [==============================] - 0s 3ms/step - loss: 203.1336 - val_loss: 204.3639\n",
            "Epoch 21/30\n",
            "25/25 [==============================] - 0s 3ms/step - loss: 203.5896 - val_loss: 204.7928\n",
            "Epoch 22/30\n",
            "25/25 [==============================] - 0s 3ms/step - loss: 202.4057 - val_loss: 205.0895\n",
            "Epoch 23/30\n",
            "25/25 [==============================] - 0s 3ms/step - loss: 202.3773 - val_loss: 205.3715\n",
            "Epoch 24/30\n",
            "25/25 [==============================] - 0s 3ms/step - loss: 201.7637 - val_loss: 205.6003\n",
            "Epoch 25/30\n",
            "25/25 [==============================] - 0s 3ms/step - loss: 201.3155 - val_loss: 205.6376\n",
            "Epoch 26/30\n",
            "25/25 [==============================] - 0s 3ms/step - loss: 200.5955 - val_loss: 205.7711\n",
            "Epoch 27/30\n",
            "25/25 [==============================] - 0s 3ms/step - loss: 200.3039 - val_loss: 206.8542\n",
            "Epoch 28/30\n",
            "25/25 [==============================] - 0s 3ms/step - loss: 199.8121 - val_loss: 206.9865\n",
            "Epoch 29/30\n",
            "25/25 [==============================] - 0s 4ms/step - loss: 199.2716 - val_loss: 205.3015\n",
            "Epoch 30/30\n",
            "25/25 [==============================] - 0s 3ms/step - loss: 198.3463 - val_loss: 204.6220\n"
          ]
        },
        {
          "output_type": "execute_result",
          "data": {
            "text/plain": [
              "<keras.src.callbacks.History at 0x794530bb5000>"
            ]
          },
          "metadata": {},
          "execution_count": 68
        }
      ]
    },
    {
      "cell_type": "code",
      "source": [
        "model = Sequential()\n",
        "model.add(Dense(units=32, activation='relu', input_shape=(150,)))\n",
        "model.add(Dense(units=1)) #ilośc neuronów w warstwie wyjściowej musi być równa 1 a funkcja aktywacji liniowa\n",
        "\n",
        "model.compile(optimizer='rmsprop',\n",
        "              loss='mae',\n",
        "              metrics=['mse'])\n",
        "\n",
        "model.fit(data, labels, epochs=30, batch_size=32, validation_split=0.2)"
      ],
      "metadata": {
        "colab": {
          "base_uri": "https://localhost:8080/"
        },
        "id": "lcNJEm7SSMAX",
        "outputId": "631d060f-0b66-4f4c-916d-0c1a61eadfa0"
      },
      "execution_count": 69,
      "outputs": [
        {
          "output_type": "stream",
          "name": "stdout",
          "text": [
            "Epoch 1/30\n",
            "25/25 [==============================] - 1s 9ms/step - loss: 20.2857 - mse: 600.5702 - val_loss: 18.1482 - val_mse: 464.9413\n",
            "Epoch 2/30\n",
            "25/25 [==============================] - 0s 3ms/step - loss: 15.1448 - mse: 342.8118 - val_loss: 14.3087 - val_mse: 276.7341\n",
            "Epoch 3/30\n",
            "25/25 [==============================] - 0s 3ms/step - loss: 13.0162 - mse: 233.4319 - val_loss: 12.7542 - val_mse: 215.9822\n",
            "Epoch 4/30\n",
            "25/25 [==============================] - 0s 3ms/step - loss: 12.6782 - mse: 213.5846 - val_loss: 12.5177 - val_mse: 207.6639\n",
            "Epoch 5/30\n",
            "25/25 [==============================] - 0s 3ms/step - loss: 12.6364 - mse: 210.7415 - val_loss: 12.5135 - val_mse: 207.5041\n",
            "Epoch 6/30\n",
            "25/25 [==============================] - 0s 3ms/step - loss: 12.6050 - mse: 209.8376 - val_loss: 12.4753 - val_mse: 206.3299\n",
            "Epoch 7/30\n",
            "25/25 [==============================] - 0s 4ms/step - loss: 12.5816 - mse: 209.2748 - val_loss: 12.5137 - val_mse: 207.3076\n",
            "Epoch 8/30\n",
            "25/25 [==============================] - 0s 3ms/step - loss: 12.5711 - mse: 208.9248 - val_loss: 12.4929 - val_mse: 206.7521\n",
            "Epoch 9/30\n",
            "25/25 [==============================] - 0s 3ms/step - loss: 12.5531 - mse: 208.8344 - val_loss: 12.4460 - val_mse: 205.5328\n",
            "Epoch 10/30\n",
            "25/25 [==============================] - 0s 3ms/step - loss: 12.5406 - mse: 208.3453 - val_loss: 12.4506 - val_mse: 205.5893\n",
            "Epoch 11/30\n",
            "25/25 [==============================] - 0s 3ms/step - loss: 12.5151 - mse: 207.6480 - val_loss: 12.3974 - val_mse: 204.2351\n",
            "Epoch 12/30\n",
            "25/25 [==============================] - 0s 4ms/step - loss: 12.4842 - mse: 206.6071 - val_loss: 12.3797 - val_mse: 203.7512\n",
            "Epoch 13/30\n",
            "25/25 [==============================] - 0s 4ms/step - loss: 12.4640 - mse: 206.3857 - val_loss: 12.4914 - val_mse: 206.4778\n",
            "Epoch 14/30\n",
            "25/25 [==============================] - 0s 3ms/step - loss: 12.4472 - mse: 206.2439 - val_loss: 12.4725 - val_mse: 205.9493\n",
            "Epoch 15/30\n",
            "25/25 [==============================] - 0s 4ms/step - loss: 12.4237 - mse: 205.6759 - val_loss: 12.4485 - val_mse: 205.3445\n",
            "Epoch 16/30\n",
            "25/25 [==============================] - 0s 4ms/step - loss: 12.4083 - mse: 204.9264 - val_loss: 12.4856 - val_mse: 206.2921\n",
            "Epoch 17/30\n",
            "25/25 [==============================] - 0s 3ms/step - loss: 12.3966 - mse: 204.4597 - val_loss: 12.4233 - val_mse: 204.7227\n",
            "Epoch 18/30\n",
            "25/25 [==============================] - 0s 3ms/step - loss: 12.3512 - mse: 203.5473 - val_loss: 12.4671 - val_mse: 205.7460\n",
            "Epoch 19/30\n",
            "25/25 [==============================] - 0s 4ms/step - loss: 12.3432 - mse: 203.0998 - val_loss: 12.4335 - val_mse: 204.9144\n",
            "Epoch 20/30\n",
            "25/25 [==============================] - 0s 3ms/step - loss: 12.3200 - mse: 202.4673 - val_loss: 12.4949 - val_mse: 206.3763\n",
            "Epoch 21/30\n",
            "25/25 [==============================] - 0s 3ms/step - loss: 12.3015 - mse: 202.8434 - val_loss: 12.4838 - val_mse: 206.0153\n",
            "Epoch 22/30\n",
            "25/25 [==============================] - 0s 3ms/step - loss: 12.2717 - mse: 201.6194 - val_loss: 12.3313 - val_mse: 202.7561\n",
            "Epoch 23/30\n",
            "25/25 [==============================] - 0s 5ms/step - loss: 12.2560 - mse: 200.9782 - val_loss: 12.4050 - val_mse: 204.0778\n",
            "Epoch 24/30\n",
            "25/25 [==============================] - 0s 5ms/step - loss: 12.2176 - mse: 200.2145 - val_loss: 12.3436 - val_mse: 202.8806\n",
            "Epoch 25/30\n",
            "25/25 [==============================] - 0s 5ms/step - loss: 12.2163 - mse: 200.2720 - val_loss: 12.5157 - val_mse: 206.7960\n",
            "Epoch 26/30\n",
            "25/25 [==============================] - 0s 4ms/step - loss: 12.1795 - mse: 199.0541 - val_loss: 12.5876 - val_mse: 208.8393\n",
            "Epoch 27/30\n",
            "25/25 [==============================] - 0s 5ms/step - loss: 12.1495 - mse: 198.1761 - val_loss: 12.6458 - val_mse: 210.7672\n",
            "Epoch 28/30\n",
            "25/25 [==============================] - 0s 5ms/step - loss: 12.1137 - mse: 198.9484 - val_loss: 12.2852 - val_mse: 202.2116\n",
            "Epoch 29/30\n",
            "25/25 [==============================] - 0s 4ms/step - loss: 12.1274 - mse: 197.8522 - val_loss: 12.4106 - val_mse: 204.0978\n",
            "Epoch 30/30\n",
            "25/25 [==============================] - 0s 5ms/step - loss: 12.0889 - mse: 196.9847 - val_loss: 12.5336 - val_mse: 207.4116\n"
          ]
        },
        {
          "output_type": "execute_result",
          "data": {
            "text/plain": [
              "<keras.src.callbacks.History at 0x794544e12770>"
            ]
          },
          "metadata": {},
          "execution_count": 69
        }
      ]
    },
    {
      "cell_type": "code",
      "source": [
        "test_data=np.random.random((10,150)) #na podstawie tych danych (ale z data a nie test_data) znajduje wzór i stara się przewidzieć wynik predykcji\n",
        "model.predict(test_data)"
      ],
      "metadata": {
        "colab": {
          "base_uri": "https://localhost:8080/"
        },
        "id": "N8fYWiO1Siro",
        "outputId": "3c226abf-24d8-4ce1-d0ac-2818fa5b127b"
      },
      "execution_count": 70,
      "outputs": [
        {
          "output_type": "stream",
          "name": "stdout",
          "text": [
            "1/1 [==============================] - 0s 56ms/step\n"
          ]
        },
        {
          "output_type": "execute_result",
          "data": {
            "text/plain": [
              "array([[22.510782],\n",
              "       [20.653906],\n",
              "       [24.902151],\n",
              "       [26.530106],\n",
              "       [23.168497],\n",
              "       [26.392439],\n",
              "       [24.102125],\n",
              "       [23.652359],\n",
              "       [25.704062],\n",
              "       [21.82335 ]], dtype=float32)"
            ]
          },
          "metadata": {},
          "execution_count": 70
        }
      ]
    },
    {
      "cell_type": "markdown",
      "source": [
        "Podsumowując:\n",
        "\n",
        "-W klasyfikacji binarnej model dostaje dane (w naszym wypadku 1000 danych o 150 cechach) i na podstawie tych danych klasyfikuje labele do odpowiedniej klasy czyli 0 lub 1\n",
        "\n",
        "-W klasyfikacji wieloklasowej model dostaje dane (w naszym wypadku 1000 danych o 150 cechach) i na podstawie tych danych klasyfikuje labele do odpowiedniej klasy czyli od 0 do 9\n",
        "\n",
        "-W modelu regresji, model na podstawie danych ( w naszym przypadku 1000 danych o 150 cechach każdy) oraz labeli wyznacza wzór który pozwala obliczyć na podstawie danych testowych wynik"
      ],
      "metadata": {
        "id": "a3N1OmBvUMyF"
      }
    }
  ]
}